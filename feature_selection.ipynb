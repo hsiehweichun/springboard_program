{
 "cells": [
  {
   "cell_type": "code",
   "execution_count": 1,
   "metadata": {
    "collapsed": true
   },
   "outputs": [],
   "source": [
    "from IPython.display import display, Math, Latex"
   ]
  },
  {
   "cell_type": "code",
   "execution_count": 2,
   "metadata": {
    "collapsed": false
   },
   "outputs": [
    {
     "name": "stderr",
     "output_type": "stream",
     "text": [
      "/usr/people/weichun/anaconda3/lib/python3.6/site-packages/sklearn/cross_validation.py:44: DeprecationWarning: This module was deprecated in version 0.18 in favor of the model_selection module into which all the refactored classes and functions are moved. Also note that the interface of the new CV iterators are different from that of this module. This module will be removed in 0.20.\n",
      "  \"This module will be removed in 0.20.\", DeprecationWarning)\n"
     ]
    }
   ],
   "source": [
    "import numpy as np\n",
    "import pandas as pd\n",
    "# import seaborn as sns\n",
    "import matplotlib.pyplot as plt\n",
    "import statsmodels.api as sm\n",
    "import statsmodels.formula.api as smf\n",
    "from sklearn.feature_selection import RFE, RFECV, f_regression\n",
    "from sklearn.datasets import load_boston\n",
    "from sklearn.pipeline import make_pipeline, Pipeline\n",
    "from sklearn.cross_validation import KFold, train_test_split , cross_val_score\n",
    "from sklearn.linear_model import LinearRegression, LogisticRegression\n",
    "from sklearn.metrics import r2_score, roc_auc_score, roc_curve, confusion_matrix, accuracy_score, classification_report\n",
    "from sklearn.preprocessing import StandardScaler, MinMaxScaler, Normalizer\n"
   ]
  },
  {
   "cell_type": "code",
   "execution_count": 3,
   "metadata": {
    "collapsed": false
   },
   "outputs": [
    {
     "name": "stdout",
     "output_type": "stream",
     "text": [
      "Populating the interactive namespace from numpy and matplotlib\n"
     ]
    }
   ],
   "source": [
    "%pylab inline"
   ]
  },
  {
   "cell_type": "code",
   "execution_count": 6,
   "metadata": {
    "collapsed": true
   },
   "outputs": [],
   "source": [
    "import csv"
   ]
  },
  {
   "cell_type": "code",
   "execution_count": 8,
   "metadata": {
    "collapsed": true
   },
   "outputs": [],
   "source": [
    "feature_cols = [\"employee_index\",\"country_residence\",\"sex\",\"age\",\"first_join_date\",\"new_customer_index\",\"seniority\",\"primary\",\"customer_type\",\"customer_relation\",\"residence_idx\",\"foreigner_idx\",\"channel\",\"deceased\",\"address\",\"province_code\",\"province_name\",\"activity_idx\",\"gross_income\",\"segment\"]\n",
    "#target_cols=[\"saving_account\",\"guarantees\",\"current_account\",\"derivada_account\",\"payroll_account\",\"junior_account\",\"mas_particular_account\",\"particular_account\",\"particular_plus_account\",\"short-term_deposits\",\"medium-term_deposits\",\"long-term_deposits\",\"e-account\",\"funds\",\"mortgage\",\"pensions\",\"loans\",\"taxes\",\"credit_card\",\"securities\",\"home_account\",\"payroll\",\"pensions_1\",\"direct_debit\"]\n",
    "#target_cols = target_cols[2:]\n",
    "target_cols = [\"current_account\"]\n",
    "all_cols = feature_cols+target_cols"
   ]
  },
  {
   "cell_type": "code",
   "execution_count": 9,
   "metadata": {
    "collapsed": true
   },
   "outputs": [],
   "source": [
    "def getTarget(row):\n",
    "    tlist = []\n",
    "    for col in target_cols:\n",
    "            if row[col].strip() in ['', 'NA']:\n",
    "                    target = 0\n",
    "            else:\n",
    "                    target = int(float(row[col]))\n",
    "            tlist.append(target)\n",
    "    return tlist"
   ]
  },
  {
   "cell_type": "code",
   "execution_count": 4,
   "metadata": {
    "collapsed": true
   },
   "outputs": [],
   "source": [
    "def processData(in_file_name):\n",
    "    x_vars_list = []\n",
    "    #y_vars_list = []\n",
    "    for row in csv.DictReader(in_file_name, fieldnames = ( \"date\",\"id\",\"employee_index\",\"country_residence\",\"sex\",\n",
    "                                                          \"age\",\"first_join_date\",\"new_customer_index\",\"seniority\",\n",
    "                                                          \"primary\",\"last_date_primary\",\"customer_type\",\"customer_relation\",\n",
    "                                                          \"residence_idx\",\"foreigner_idx\",\"spouse_idx\",\"channel\",\"deceased\",\n",
    "                                                          \"address\",\"province_code\",\"province_name\",\"activity_idx\",\n",
    "                                                          \"gross_income\",\"segment\",\"saving_account\",\"guarantees\",\n",
    "                                                          \"current_account\",\"derivada_account\",\"payroll_account\",\n",
    "                                                          \"junior_account\",\"mas_particular_account\",\"particular_account\",\n",
    "                                                          \"particular_plus_account\",\"short-term_deposits\",\"medium-term_deposits\",\n",
    "                                                          \"long-term_deposits\",\"e-account\",\"funds\",\"mortgage\",\"pensions\",\"loans\",\n",
    "                                                          \"taxes\",\"credit_card\",\"securities\",\"home_account\",\"payroll\",\n",
    "                                                          \"pensions_1\",\"direct_debit\" )):\n",
    "        x_vars = []\n",
    "        for col in feature_cols:\n",
    "            val = row[col].strip()\n",
    "            x_vars.append(val)\n",
    "            \n",
    "        if row['date'] in [ '2016-05-28']:\n",
    "            target_list = getTarget(row)\n",
    "            x_vars_list.append(x_vars + target_list)\n",
    "            \n",
    "#assign a number for the test data\n",
    "        elif row['date'] in ['2016-06-28']: \n",
    "             target_list = [0]\n",
    "             x_vars_list.append(x_vars + target_list)\n",
    "        else:\n",
    "            continue\n",
    "\n",
    "    return x_vars_list"
   ]
  },
  {
   "cell_type": "code",
   "execution_count": 10,
   "metadata": {
    "collapsed": false
   },
   "outputs": [
    {
     "name": "stdout",
     "output_type": "stream",
     "text": [
      "Number of columns in the dataframe:\n",
      "21\n",
      "Number of records in the dataframe:\n",
      "931453\n"
     ]
    }
   ],
   "source": [
    "\n",
    "start_time = datetime.datetime.now()\n",
    "data_path = \"../input/\"\n",
    "train_file =  open(data_path + \"train_ver2.csv\")\n",
    "#train_file =  open(data_path + \"train_20percent.csv\")\n",
    "x_vars_list = processData(train_file)\n",
    "\n",
    "\n",
    "df_org = pd.DataFrame.from_records(x_vars_list, columns=all_cols)\n",
    "df = df_org\n",
    "print(\"Number of columns in the dataframe:\")\n",
    "print(len(x_vars_list[1]))  \n",
    "print(\"Number of records in the dataframe:\")\n",
    "print(len(df))"
   ]
  },
  {
   "cell_type": "code",
   "execution_count": 11,
   "metadata": {
    "collapsed": true
   },
   "outputs": [],
   "source": [
    "df_org = df"
   ]
  },
  {
   "cell_type": "code",
   "execution_count": 12,
   "metadata": {
    "collapsed": true
   },
   "outputs": [],
   "source": [
    "df['customer_type']=df['customer_type'].replace('1.0','1')\n",
    "df['customer_type']=df['customer_type'].replace('2.0','2')\n",
    "df['customer_type']=df['customer_type'].replace('3.0','3')\n",
    "df['customer_type']=df['customer_type'].replace('4.0','4')"
   ]
  },
  {
   "cell_type": "code",
   "execution_count": 13,
   "metadata": {
    "collapsed": false
   },
   "outputs": [
    {
     "name": "stdout",
     "output_type": "stream",
     "text": [
      "<class 'pandas.core.frame.DataFrame'>\n",
      "Int64Index: 702435 entries, 0 to 931451\n",
      "Data columns (total 21 columns):\n",
      "employee_index        702435 non-null object\n",
      "country_residence     702435 non-null object\n",
      "sex                   702435 non-null object\n",
      "age                   702435 non-null int64\n",
      "first_join_date       702435 non-null object\n",
      "new_customer_index    702435 non-null object\n",
      "seniority             702435 non-null int64\n",
      "primary               702435 non-null object\n",
      "customer_type         702435 non-null object\n",
      "customer_relation     702435 non-null object\n",
      "residence_idx         702435 non-null object\n",
      "foreigner_idx         702435 non-null object\n",
      "channel               702435 non-null object\n",
      "deceased              702435 non-null object\n",
      "address               702435 non-null object\n",
      "province_code         702435 non-null object\n",
      "province_name         702435 non-null object\n",
      "activity_idx          702435 non-null object\n",
      "gross_income          702435 non-null float64\n",
      "segment               702435 non-null object\n",
      "current_account       702435 non-null int64\n",
      "dtypes: float64(1), int64(3), object(17)\n",
      "memory usage: 117.9+ MB\n",
      "None\n"
     ]
    }
   ],
   "source": [
    "#Age and seniority may have non-numeric values. Use errors='coerce' to force them to be NaN so they can be removed.\n",
    "\n",
    "df['age']   = pd.to_numeric(df['age'], errors='coerce')\n",
    "df['seniority']   = pd.to_numeric(df['seniority'], errors='coerce')\n",
    "df['gross_income']   = pd.to_numeric(df['gross_income'], errors='coerce')\n",
    "\n",
    "##df = df[df['seniority']>0]\n",
    "##df.dropna(axis=0)\n",
    "#df.dropna()\n",
    "\n",
    "#select the rows that do not have NaN\n",
    "condition=~pd.isnull(df).any(axis=1)\n",
    "df=df[condition]\n",
    "print(df.info())"
   ]
  },
  {
   "cell_type": "code",
   "execution_count": 14,
   "metadata": {
    "collapsed": true
   },
   "outputs": [],
   "source": [
    "def prep_numeric_data(df):\n",
    "    \n",
    "    from sklearn import preprocessing\n",
    "    le = preprocessing.LabelEncoder()\n",
    "    feature_cols = df.columns \n",
    "    for ind, feature_col in enumerate(feature_cols):\n",
    "        if df[feature_col].dtype == 'object':\n",
    "            le.fit(df[feature_col])\n",
    "            df[feature_col]=le.transform(df[feature_col])\n",
    "    \n",
    "    return df"
   ]
  },
  {
   "cell_type": "code",
   "execution_count": 15,
   "metadata": {
    "collapsed": false
   },
   "outputs": [
    {
     "name": "stderr",
     "output_type": "stream",
     "text": [
      "/usr/people/weichun/anaconda3/lib/python3.6/site-packages/ipykernel/__main__.py:9: SettingWithCopyWarning: \n",
      "A value is trying to be set on a copy of a slice from a DataFrame.\n",
      "Try using .loc[row_indexer,col_indexer] = value instead\n",
      "\n",
      "See the caveats in the documentation: http://pandas.pydata.org/pandas-docs/stable/indexing.html#indexing-view-versus-copy\n"
     ]
    }
   ],
   "source": [
    "df = prep_numeric_data(df)"
   ]
  },
  {
   "cell_type": "code",
   "execution_count": 16,
   "metadata": {
    "collapsed": false
   },
   "outputs": [
    {
     "name": "stdout",
     "output_type": "stream",
     "text": [
      "Number of columns in the dataframe:\n",
      "21\n",
      "Number of records in the dataframe:\n",
      "702435\n"
     ]
    }
   ],
   "source": [
    "print(\"Number of columns in the dataframe:\")\n",
    "print(len(x_vars_list[1]))  \n",
    "print(\"Number of records in the dataframe:\")\n",
    "print(len(df))"
   ]
  },
  {
   "cell_type": "code",
   "execution_count": 30,
   "metadata": {
    "collapsed": true
   },
   "outputs": [],
   "source": [
    "# split data into train and test sets\n",
    "X = df.drop(['address','current_account'],axis=1).values\n",
    "y = df['current_account'].values\n",
    "seed = 7\n",
    "test_size = 0.33\n",
    "X_train, X_test, y_train, y_test = train_test_split(X, y, test_size=test_size, random_state=seed)"
   ]
  },
  {
   "cell_type": "code",
   "execution_count": 34,
   "metadata": {
    "collapsed": true
   },
   "outputs": [],
   "source": [
    "X_df = df.drop(['address','current_account'],axis=1)\n"
   ]
  },
  {
   "cell_type": "markdown",
   "metadata": {},
   "source": [
    "Lets split the data in test and train splits - why is this important ?"
   ]
  },
  {
   "cell_type": "code",
   "execution_count": null,
   "metadata": {
    "collapsed": true
   },
   "outputs": [],
   "source": [
    "X_train"
   ]
  },
  {
   "cell_type": "markdown",
   "metadata": {
    "collapsed": true
   },
   "source": [
    "X, y = dataset.iloc[:, :13].values, dataset.iloc[:, 13].values\n",
    "X_train, X_test, y_train, y_test = train_test_split(X, y, test_size=0.3, random_state=0)"
   ]
  },
  {
   "cell_type": "code",
   "execution_count": 31,
   "metadata": {
    "collapsed": false
   },
   "outputs": [
    {
     "name": "stdout",
     "output_type": "stream",
     "text": [
      "Train data 470631\n",
      "Test data 231804\n"
     ]
    }
   ],
   "source": [
    "print ('Train data', len(X_train))\n",
    "print ('Test data', len(X_test))"
   ]
  },
  {
   "cell_type": "markdown",
   "metadata": {
    "collapsed": true
   },
   "source": [
    "### Base Model\n",
    "\n",
    "Lets establish a baseline by building a base model"
   ]
  },
  {
   "cell_type": "code",
   "execution_count": 19,
   "metadata": {
    "collapsed": false
   },
   "outputs": [
    {
     "data": {
      "text/plain": [
       "LogisticRegression(C=1.0, class_weight=None, dual=False, fit_intercept=True,\n",
       "          intercept_scaling=1, max_iter=100, multi_class='ovr', n_jobs=1,\n",
       "          penalty='l2', random_state=None, solver='liblinear', tol=0.0001,\n",
       "          verbose=0, warm_start=False)"
      ]
     },
     "execution_count": 19,
     "metadata": {},
     "output_type": "execute_result"
    }
   ],
   "source": [
    "logit = LogisticRegression()\n",
    "logit.fit(X_train,y_train)"
   ]
  },
  {
   "cell_type": "code",
   "execution_count": 20,
   "metadata": {
    "collapsed": false
   },
   "outputs": [
    {
     "name": "stdout",
     "output_type": "stream",
     "text": [
      "Training AUC-RIC : 0.621722217682\n",
      "Test AUC-ROC : 0.621773825356\n",
      "Accuracy Train : 0.602406131343\n",
      "Accuracy Test : 0.602427050439\n"
     ]
    }
   ],
   "source": [
    "print ('Training AUC-RIC :', roc_auc_score(y_train, logit.predict_proba(X_train)[:,1]))\n",
    "print ('Test AUC-ROC :', roc_auc_score(y_test, logit.predict_proba(X_test)[:,1]))\n",
    "print ('Accuracy Train :', accuracy_score(y_train, logit.predict(X_train)))\n",
    "print ('Accuracy Test :',  accuracy_score(y_test, logit.predict(X_test)))"
   ]
  },
  {
   "cell_type": "code",
   "execution_count": 21,
   "metadata": {
    "collapsed": true
   },
   "outputs": [],
   "source": [
    "fpr, tpr, thresholds = roc_curve(y_test, logit.predict_proba(X_test)[:,1], pos_label=1)\n",
    "roc = roc_auc_score(y_test, logit.predict_proba(X_test)[:,1])"
   ]
  },
  {
   "cell_type": "code",
   "execution_count": 22,
   "metadata": {
    "collapsed": false
   },
   "outputs": [
    {
     "data": {
      "text/plain": [
       "<matplotlib.legend.Legend at 0x7f3ef55e0a90>"
      ]
     },
     "execution_count": 22,
     "metadata": {},
     "output_type": "execute_result"
    },
    {
     "data": {
      "image/png": "[encoded data removed]",
      "text/plain": [
       "<matplotlib.figure.Figure at 0x7f3efd9fd358>"
      ]
     },
     "metadata": {},
     "output_type": "display_data"
    }
   ],
   "source": [
    "# plot ROC curve\n",
    "plt,figure(figsize=(8,4))\n",
    "plt.plot(fpr, tpr, 'r--', label=' ROC (area = %0.2f)' % roc, lw=2)\n",
    "plt.xlabel('false positive rate')\n",
    "plt.ylabel('true positive rate')\n",
    "plt.title('Receiver Operator Characteristic')\n",
    "plt.legend(loc=\"lower right\")"
   ]
  },
  {
   "cell_type": "code",
   "execution_count": 24,
   "metadata": {
    "collapsed": false
   },
   "outputs": [
    {
     "name": "stdout",
     "output_type": "stream",
     "text": [
      "             precision    recall  f1-score   support\n",
      "\n",
      "          0       0.51      0.13      0.20     92493\n",
      "          1       0.61      0.92      0.74    139311\n",
      "\n",
      "avg / total       0.57      0.60      0.52    231804\n",
      "\n",
      "[[ 11624  80869]\n",
      " [ 11290 128021]]\n"
     ]
    }
   ],
   "source": [
    "print (classification_report(y_test, logit.predict(X_test)))\n",
    "print (confusion_matrix(y_test, logit.predict(X_test)))"
   ]
  },
  {
   "cell_type": "markdown",
   "metadata": {},
   "source": [
    "###  Nonlinearity - Interactions ans cross terms \n",
    "\n",
    "Very often we know that combining features we already know of to form new features help improve our model. In practice, this is done by creating feature iteractions / crossing different features to see which combinations add the most value to the model. "
   ]
  },
  {
   "cell_type": "code",
   "execution_count": 12,
   "metadata": {
    "collapsed": true
   },
   "outputs": [],
   "source": [
    "## Building base model\n",
    "logit_interactions = LogisticRegression()\n",
    "crossvalidation = KFold(n=X.shape[0], n_folds=10, shuffle=True, random_state=1)"
   ]
  },
  {
   "cell_type": "code",
   "execution_count": 63,
   "metadata": {
    "collapsed": true
   },
   "outputs": [],
   "source": [
    "# Adding interaction to model\n",
    "df = pd.DataFrame(X,columns=boston.feature_names)\n",
    "baseline = np.mean(cross_val_score(logit_interactions, df, y, scoring='accuracy', cv=crossvalidation, n_jobs=1))\n",
    "interactions = list()\n",
    "for feature_A in boston.feature_names:\n",
    "    for feature_B in boston.feature_names:\n",
    "        if feature_A > feature_B:\n",
    "            df['interaction'] = df[feature_A] * df[feature_B]\n",
    "            score = np.mean(cross_val_score(logit_interactions, df, y, scoring='accuracy',cv=crossvalidation, n_jobs=1))\n",
    "            if score > baseline:\n",
    "                interactions.append((feature_A, feature_B, round(score,3)))\n"
   ]
  },
  {
   "cell_type": "code",
   "execution_count": 64,
   "metadata": {
    "collapsed": false
   },
   "outputs": [
    {
     "name": "stdout",
     "output_type": "stream",
     "text": [
      "Baseline Accuracy: 0.913\n",
      "Top 10 interactions: [('RAD', 'DIS', 0.927), ('RM', 'DIS', 0.925), ('DIS', 'CRIM', 0.923), ('RAD', 'AGE', 0.923), ('TAX', 'DIS', 0.923), ('ZN', 'RM', 0.921), ('INDUS', 'DIS', 0.921), ('RM', 'INDUS', 0.921), ('RM', 'AGE', 0.921), ('RM', 'RAD', 0.919)]\n"
     ]
    }
   ],
   "source": [
    "print 'Baseline Accuracy: %.3f' % baseline\n",
    "print 'Top 10 interactions: %s' % sorted(interactions, key=lambda(x):x[2],reverse=True)[:10]"
   ]
  },
  {
   "cell_type": "code",
   "execution_count": 65,
   "metadata": {
    "collapsed": true
   },
   "outputs": [],
   "source": [
    "# pd.DataFrame(interactions)"
   ]
  },
  {
   "cell_type": "code",
   "execution_count": null,
   "metadata": {
    "collapsed": true
   },
   "outputs": [],
   "source": []
  },
  {
   "cell_type": "markdown",
   "metadata": {},
   "source": [
    "### Selecting Features\n",
    "\n",
    "Here we strive the select the best subset of features that improves the performance of our models. There are many ways to do this but we will focus on just a few techniques.\n",
    "\n",
    "- Univariate selections of features : You individually model each predictor with the response and select the best features based on some statistical score or p-value. Some examples include f_regression which tests the effect of a single regressor sequentially for many regressors\n",
    "\n",
    "- Forward / Backward feature selection : This is a class of greedy feature selection algorithms. With Backward feature selection, we start with all the features in the model and then eliminate one feature at a time until we get to point where all the remaining features are either significant or meet a certain p-value threshould that we have defined whereas with Forward feature selection. we basically start modeling the response with one feature and if that feature meets our preset threshlod we keep in the model and add the next feature. One of the issues with forward selection is that you loose the ability ot look ahead.\n",
    "\n",
    "- Chi2 : chi2 measuree the dependence between stochastic variables, so the chi2 removes featurs that are most likely to be independent of class and therefore not useful for classification\n",
    "\n",
    "- Recursive Feature Eliminaation : Here, we train on the initial set of features. Then features are assigned weights and subsequently prunned from the model. This process continues until we get the desired number of features\n",
    "\n"
   ]
  },
  {
   "cell_type": "markdown",
   "metadata": {},
   "source": [
    "### Recursive Feature Eliminaation"
   ]
  },
  {
   "cell_type": "code",
   "execution_count": 25,
   "metadata": {
    "collapsed": false
   },
   "outputs": [
    {
     "data": {
      "text/plain": [
       "array([ 6,  7,  8,  9, 13, 18, 14, 15, 19,  4,  3,  5, 10, 16, 11, 12,  1,\n",
       "       17,  2])"
      ]
     },
     "execution_count": 25,
     "metadata": {},
     "output_type": "execute_result"
    }
   ],
   "source": [
    "# create ranking among all features by selecting only one\n",
    "rfe = RFE(LogisticRegression(), n_features_to_select=1)\n",
    "rfe.fit(X_train, y_train)\n",
    "rfe.ranking_"
   ]
  },
  {
   "cell_type": "code",
   "execution_count": 26,
   "metadata": {
    "collapsed": false
   },
   "outputs": [
    {
     "data": {
      "text/plain": [
       "Index(['employee_index', 'country_residence', 'sex', 'age', 'first_join_date',\n",
       "       'new_customer_index', 'seniority', 'primary', 'customer_type',\n",
       "       'customer_relation', 'residence_idx', 'foreigner_idx', 'channel',\n",
       "       'deceased', 'province_code', 'province_name', 'activity_idx',\n",
       "       'gross_income', 'segment'],\n",
       "      dtype='object')"
      ]
     },
     "execution_count": 26,
     "metadata": {},
     "output_type": "execute_result"
    }
   ],
   "source": [
    "X_train.columns"
   ]
  },
  {
   "cell_type": "code",
   "execution_count": 22,
   "metadata": {
    "collapsed": true
   },
   "outputs": [],
   "source": [
    "# pipe_rfe_poly = Pipeline([('scale_standard', StandardScaler()),\n",
    "#                      ('poly_features', PolynomialFeatures()),\n",
    "#                      ('rfe_logit', RFECV(LogisticRegression(), cv=10))])\n",
    "# pipe_rfe_poly.fit(X_train, y_train)\n",
    "# pipe_rfe_poly.score(X_test, y_test)"
   ]
  },
  {
   "cell_type": "code",
   "execution_count": 27,
   "metadata": {
    "collapsed": false
   },
   "outputs": [
    {
     "name": "stdout",
     "output_type": "stream",
     "text": [
      "[ True  True  True False False False False False False  True  True  True\n",
      " False False False False  True False  True]\n",
      "Index(['employee_index', 'country_residence', 'sex', 'customer_relation',\n",
      "       'residence_idx', 'foreigner_idx', 'activity_idx', 'segment'],\n",
      "      dtype='object')\n"
     ]
    }
   ],
   "source": [
    "## using RFECV\n",
    "rfe = RFECV(LogisticRegression(), cv=10)\n",
    "rfe.fit(X_train, y_train)\n",
    "print(rfe.support_)\n",
    "#print(boston.feature_names[rfe.support_])\n",
    "print(X_train.columns[rfe.support_])"
   ]
  },
  {
   "cell_type": "markdown",
   "metadata": {},
   "source": [
    "### Forward / Backward feature selection"
   ]
  },
  {
   "cell_type": "code",
   "execution_count": 29,
   "metadata": {
    "collapsed": false
   },
   "outputs": [
    {
     "data": {
      "text/plain": [
       "pandas.core.frame.DataFrame"
      ]
     },
     "execution_count": 29,
     "metadata": {},
     "output_type": "execute_result"
    }
   ],
   "source": [
    "type(X_train)"
   ]
  },
  {
   "cell_type": "code",
   "execution_count": 32,
   "metadata": {
    "collapsed": false
   },
   "outputs": [
    {
     "name": "stderr",
     "output_type": "stream",
     "text": [
      "[Parallel(n_jobs=1)]: Done   1 out of   1 | elapsed:    2.0s remaining:    0.0s\n",
      "[Parallel(n_jobs=1)]: Done  19 out of  19 | elapsed:   41.8s finished\n",
      "\n",
      "[2017-09-06 14:32:04] Features: 1/7 -- score: 0.603066946501[Parallel(n_jobs=1)]: Done   1 out of   1 | elapsed:    2.6s remaining:    0.0s\n",
      "[Parallel(n_jobs=1)]: Done  18 out of  18 | elapsed:   58.4s finished\n",
      "\n",
      "[2017-09-06 14:33:03] Features: 2/7 -- score: 0.603861632655[Parallel(n_jobs=1)]: Done   1 out of   1 | elapsed:    3.8s remaining:    0.0s\n",
      "[Parallel(n_jobs=1)]: Done  17 out of  17 | elapsed:  1.2min finished\n",
      "\n",
      "[2017-09-06 14:34:17] Features: 3/7 -- score: 0.684672288824[Parallel(n_jobs=1)]: Done   1 out of   1 | elapsed:    5.3s remaining:    0.0s\n",
      "[Parallel(n_jobs=1)]: Done  16 out of  16 | elapsed:  1.4min finished\n",
      "\n",
      "[2017-09-06 14:35:41] Features: 4/7 -- score: 0.710539693066[Parallel(n_jobs=1)]: Done   1 out of   1 | elapsed:    8.0s remaining:    0.0s\n",
      "[Parallel(n_jobs=1)]: Done  15 out of  15 | elapsed:  1.6min finished\n",
      "\n",
      "[2017-09-06 14:37:20] Features: 5/7 -- score: 0.71055244198[Parallel(n_jobs=1)]: Done   1 out of   1 | elapsed:    9.2s remaining:    0.0s\n",
      "[Parallel(n_jobs=1)]: Done  14 out of  14 | elapsed:  1.7min finished\n",
      "\n",
      "[2017-09-06 14:39:04] Features: 6/7 -- score: 0.710560941226[Parallel(n_jobs=1)]: Done   1 out of   1 | elapsed:    6.9s remaining:    0.0s\n",
      "[Parallel(n_jobs=1)]: Done  13 out of  13 | elapsed:  1.9min finished\n",
      "\n",
      "[2017-09-06 14:40:58] Features: 7/7 -- score: 0.710601312485"
     ]
    },
    {
     "data": {
      "text/plain": [
       "SequentialFeatureSelector(clone_estimator=True, cv=5,\n",
       "             estimator=LogisticRegression(C=1.0, class_weight=None, dual=False, fit_intercept=True,\n",
       "          intercept_scaling=1, max_iter=100, multi_class='ovr', n_jobs=1,\n",
       "          penalty='l2', random_state=None, solver='liblinear', tol=0.0001,\n",
       "          verbose=0, warm_start=False),\n",
       "             floating=False, forward=True, k_features=7, n_jobs=1,\n",
       "             pre_dispatch='2*n_jobs', scoring=None, skip_if_stuck=True,\n",
       "             verbose=2)"
      ]
     },
     "execution_count": 32,
     "metadata": {},
     "output_type": "execute_result"
    }
   ],
   "source": [
    "# Forward Feature selection\n",
    "from mlxtend.feature_selection import SequentialFeatureSelector\n",
    "sfs = SequentialFeatureSelector(LogisticRegression(), forward=True, floating = False, k_features=7, verbose = 2)\n",
    "sfs.fit(X_train, y_train)"
   ]
  },
  {
   "cell_type": "code",
   "execution_count": 36,
   "metadata": {
    "collapsed": false
   },
   "outputs": [
    {
     "name": "stdout",
     "output_type": "stream",
     "text": [
      "(0, 3, 7, 10, 15, 16, 18)\n",
      "Index(['employee_index', 'age', 'primary', 'residence_idx', 'province_name',\n",
      "       'activity_idx', 'segment'],\n",
      "      dtype='object')\n"
     ]
    }
   ],
   "source": [
    "print(sfs.k_feature_idx_)\n",
    "#print(boston.feature_names[np.array(sfs.k_feature_idx_)])\n",
    "print(X_df.columns[np.array(sfs.k_feature_idx_)])"
   ]
  },
  {
   "cell_type": "code",
   "execution_count": null,
   "metadata": {
    "collapsed": true
   },
   "outputs": [],
   "source": []
  },
  {
   "cell_type": "code",
   "execution_count": 37,
   "metadata": {
    "collapsed": false
   },
   "outputs": [
    {
     "name": "stderr",
     "output_type": "stream",
     "text": [
      "[Parallel(n_jobs=1)]: Done   1 out of   1 | elapsed:  1.1min remaining:    0.0s\n",
      "[Parallel(n_jobs=1)]: Done  19 out of  19 | elapsed: 19.4min finished\n",
      "\n",
      "[2017-09-06 15:16:01] Features: 18/7 -- score: 0.623362915637[Parallel(n_jobs=1)]: Done   1 out of   1 | elapsed:   53.7s remaining:    0.0s\n",
      "[Parallel(n_jobs=1)]: Done  18 out of  18 | elapsed: 15.8min finished\n",
      "\n",
      "[2017-09-06 15:31:51] Features: 17/7 -- score: 0.710518444681[Parallel(n_jobs=1)]: Done   1 out of   1 | elapsed:   30.7s remaining:    0.0s\n",
      "[Parallel(n_jobs=1)]: Done  17 out of  17 | elapsed: 10.8min finished\n",
      "\n",
      "[2017-09-06 15:42:40] Features: 16/7 -- score: 0.710686306386[Parallel(n_jobs=1)]: Done   1 out of   1 | elapsed:   37.9s remaining:    0.0s\n",
      "[Parallel(n_jobs=1)]: Done  16 out of  16 | elapsed: 12.3min finished\n",
      "\n",
      "[2017-09-06 15:55:00] Features: 15/7 -- score: 0.711036894018[Parallel(n_jobs=1)]: Done   1 out of   1 | elapsed:   54.2s remaining:    0.0s\n",
      "[Parallel(n_jobs=1)]: Done  15 out of  15 | elapsed: 10.8min finished\n",
      "\n",
      "[2017-09-06 16:05:47] Features: 14/7 -- score: 0.712199164128[Parallel(n_jobs=1)]: Done   1 out of   1 | elapsed:   40.0s remaining:    0.0s\n",
      "[Parallel(n_jobs=1)]: Done  14 out of  14 | elapsed:  9.6min finished\n",
      "\n",
      "[2017-09-06 16:15:22] Features: 13/7 -- score: 0.71058006437[Parallel(n_jobs=1)]: Done   1 out of   1 | elapsed:   14.0s remaining:    0.0s\n",
      "[Parallel(n_jobs=1)]: Done  13 out of  13 | elapsed:  3.2min finished\n",
      "\n",
      "[2017-09-06 16:18:37] Features: 12/7 -- score: 0.710582189114[Parallel(n_jobs=1)]: Done   1 out of   1 | elapsed:   12.3s remaining:    0.0s\n",
      "[Parallel(n_jobs=1)]: Done  12 out of  12 | elapsed:  2.7min finished\n",
      "\n",
      "[2017-09-06 16:21:20] Features: 11/7 -- score: 0.710584313903[Parallel(n_jobs=1)]: Done   1 out of   1 | elapsed:    8.9s remaining:    0.0s\n",
      "[Parallel(n_jobs=1)]: Done  11 out of  11 | elapsed:  1.7min finished\n",
      "\n",
      "[2017-09-06 16:23:00] Features: 10/7 -- score: 0.710584313903[Parallel(n_jobs=1)]: Done   1 out of   1 | elapsed:    9.0s remaining:    0.0s\n",
      "[Parallel(n_jobs=1)]: Done  10 out of  10 | elapsed:  1.5min finished\n",
      "\n",
      "[2017-09-06 16:24:28] Features: 9/7 -- score: 0.710584313903[Parallel(n_jobs=1)]: Done   1 out of   1 | elapsed:    8.5s remaining:    0.0s\n",
      "[Parallel(n_jobs=1)]: Done   9 out of   9 | elapsed:  1.3min finished\n",
      "\n",
      "[2017-09-06 16:25:45] Features: 8/7 -- score: 0.710584313903[Parallel(n_jobs=1)]: Done   1 out of   1 | elapsed:    8.7s remaining:    0.0s\n",
      "[Parallel(n_jobs=1)]: Done   8 out of   8 | elapsed:  1.2min finished\n",
      "\n",
      "[2017-09-06 16:26:56] Features: 7/7 -- score: 0.710577939536"
     ]
    },
    {
     "data": {
      "text/plain": [
       "SequentialFeatureSelector(clone_estimator=True, cv=5,\n",
       "             estimator=LogisticRegression(C=1.0, class_weight=None, dual=False, fit_intercept=True,\n",
       "          intercept_scaling=1, max_iter=100, multi_class='ovr', n_jobs=1,\n",
       "          penalty='l2', random_state=None, solver='liblinear', tol=0.0001,\n",
       "          verbose=0, warm_start=False),\n",
       "             floating=False, forward=False, k_features=7, n_jobs=1,\n",
       "             pre_dispatch='2*n_jobs', scoring=None, skip_if_stuck=True,\n",
       "             verbose=2)"
      ]
     },
     "execution_count": 37,
     "metadata": {},
     "output_type": "execute_result"
    }
   ],
   "source": [
    "# Backward Feature selection\n",
    "sbs = SequentialFeatureSelector(LogisticRegression(), forward=False, floating = False, k_features=7, verbose = 2)\n",
    "sbs.fit(X_train, y_train)"
   ]
  },
  {
   "cell_type": "code",
   "execution_count": 38,
   "metadata": {
    "collapsed": false
   },
   "outputs": [
    {
     "name": "stdout",
     "output_type": "stream",
     "text": [
      "(0, 2, 7, 12, 14, 16, 18)\n",
      "Index(['employee_index', 'sex', 'primary', 'channel', 'province_code',\n",
      "       'activity_idx', 'segment'],\n",
      "      dtype='object')\n"
     ]
    }
   ],
   "source": [
    "print(sbs.k_feature_idx_)\n",
    "print(X_df.columns[np.array(sbs.k_feature_idx_)])"
   ]
  },
  {
   "cell_type": "code",
   "execution_count": 39,
   "metadata": {
    "collapsed": false
   },
   "outputs": [
    {
     "data": {
      "text/html": [
       "<div>\n",
       "<table border=\"1\" class=\"dataframe\">\n",
       "  <thead>\n",
       "    <tr style=\"text-align: right;\">\n",
       "      <th></th>\n",
       "      <th>avg_score</th>\n",
       "      <th>ci_bound</th>\n",
       "      <th>cv_scores</th>\n",
       "      <th>feature_idx</th>\n",
       "      <th>std_dev</th>\n",
       "      <th>std_err</th>\n",
       "    </tr>\n",
       "  </thead>\n",
       "  <tbody>\n",
       "    <tr>\n",
       "      <th>1</th>\n",
       "      <td>0.603067</td>\n",
       "      <td>7.78843e-05</td>\n",
       "      <td>[0.603142562708, 0.60304694721, 0.602961955656...</td>\n",
       "      <td>(7,)</td>\n",
       "      <td>6.05966e-05</td>\n",
       "      <td>3.02983e-05</td>\n",
       "    </tr>\n",
       "    <tr>\n",
       "      <th>2</th>\n",
       "      <td>0.603862</td>\n",
       "      <td>0.00145923</td>\n",
       "      <td>[0.604459931794, 0.602016424618, 0.60308944298...</td>\n",
       "      <td>(3, 7)</td>\n",
       "      <td>0.00113533</td>\n",
       "      <td>0.000567665</td>\n",
       "    </tr>\n",
       "    <tr>\n",
       "      <th>3</th>\n",
       "      <td>0.684672</td>\n",
       "      <td>0.00222448</td>\n",
       "      <td>[0.68597745599, 0.681441031797, 0.684617591127...</td>\n",
       "      <td>(16, 3, 7)</td>\n",
       "      <td>0.00173072</td>\n",
       "      <td>0.000865361</td>\n",
       "    </tr>\n",
       "    <tr>\n",
       "      <th>4</th>\n",
       "      <td>0.71054</td>\n",
       "      <td>0.0028924</td>\n",
       "      <td>[0.711273067239, 0.706386052886, 0.71081623763...</td>\n",
       "      <td>(16, 18, 3, 7)</td>\n",
       "      <td>0.00225038</td>\n",
       "      <td>0.00112519</td>\n",
       "    </tr>\n",
       "    <tr>\n",
       "      <th>5</th>\n",
       "      <td>0.710552</td>\n",
       "      <td>0.00289051</td>\n",
       "      <td>[0.711283691183, 0.70639667683, 0.710816237636...</td>\n",
       "      <td>(3, 7, 10, 16, 18)</td>\n",
       "      <td>0.00224891</td>\n",
       "      <td>0.00112446</td>\n",
       "    </tr>\n",
       "    <tr>\n",
       "      <th>6</th>\n",
       "      <td>0.710561</td>\n",
       "      <td>0.0029031</td>\n",
       "      <td>[0.711283691183, 0.70639667683, 0.710837485525...</td>\n",
       "      <td>(0, 3, 7, 10, 16, 18)</td>\n",
       "      <td>0.00225871</td>\n",
       "      <td>0.00112936</td>\n",
       "    </tr>\n",
       "    <tr>\n",
       "      <th>7</th>\n",
       "      <td>0.710601</td>\n",
       "      <td>0.00289929</td>\n",
       "      <td>[0.711368682737, 0.706417924719, 0.71086935735...</td>\n",
       "      <td>(0, 3, 7, 10, 15, 16, 18)</td>\n",
       "      <td>0.00225575</td>\n",
       "      <td>0.00112787</td>\n",
       "    </tr>\n",
       "  </tbody>\n",
       "</table>\n",
       "</div>"
      ],
      "text/plain": [
       "  avg_score     ci_bound                                          cv_scores  \\\n",
       "1  0.603067  7.78843e-05  [0.603142562708, 0.60304694721, 0.602961955656...   \n",
       "2  0.603862   0.00145923  [0.604459931794, 0.602016424618, 0.60308944298...   \n",
       "3  0.684672   0.00222448  [0.68597745599, 0.681441031797, 0.684617591127...   \n",
       "4   0.71054    0.0028924  [0.711273067239, 0.706386052886, 0.71081623763...   \n",
       "5  0.710552   0.00289051  [0.711283691183, 0.70639667683, 0.710816237636...   \n",
       "6  0.710561    0.0029031  [0.711283691183, 0.70639667683, 0.710837485525...   \n",
       "7  0.710601   0.00289929  [0.711368682737, 0.706417924719, 0.71086935735...   \n",
       "\n",
       "                 feature_idx      std_dev      std_err  \n",
       "1                       (7,)  6.05966e-05  3.02983e-05  \n",
       "2                     (3, 7)   0.00113533  0.000567665  \n",
       "3                 (16, 3, 7)   0.00173072  0.000865361  \n",
       "4             (16, 18, 3, 7)   0.00225038   0.00112519  \n",
       "5         (3, 7, 10, 16, 18)   0.00224891   0.00112446  \n",
       "6      (0, 3, 7, 10, 16, 18)   0.00225871   0.00112936  \n",
       "7  (0, 3, 7, 10, 15, 16, 18)   0.00225575   0.00112787  "
      ]
     },
     "execution_count": 39,
     "metadata": {},
     "output_type": "execute_result"
    }
   ],
   "source": [
    "pd.DataFrame(sfs.get_metric_dict()).T"
   ]
  },
  {
   "cell_type": "code",
   "execution_count": 40,
   "metadata": {
    "collapsed": false
   },
   "outputs": [
    {
     "data": {
      "text/html": [
       "<div>\n",
       "<table border=\"1\" class=\"dataframe\">\n",
       "  <thead>\n",
       "    <tr style=\"text-align: right;\">\n",
       "      <th></th>\n",
       "      <th>avg_score</th>\n",
       "      <th>ci_bound</th>\n",
       "      <th>cv_scores</th>\n",
       "      <th>feature_idx</th>\n",
       "      <th>std_dev</th>\n",
       "      <th>std_err</th>\n",
       "    </tr>\n",
       "  </thead>\n",
       "  <tbody>\n",
       "    <tr>\n",
       "      <th>7</th>\n",
       "      <td>0.710578</td>\n",
       "      <td>0.00290507</td>\n",
       "      <td>[0.711368682737, 0.706386052886, 0.71084810946...</td>\n",
       "      <td>(0, 2, 7, 12, 14, 16, 18)</td>\n",
       "      <td>0.00226024</td>\n",
       "      <td>0.00113012</td>\n",
       "    </tr>\n",
       "    <tr>\n",
       "      <th>8</th>\n",
       "      <td>0.710584</td>\n",
       "      <td>0.00289527</td>\n",
       "      <td>[0.711368682737, 0.706407300774, 0.71085873341...</td>\n",
       "      <td>(0, 2, 7, 11, 12, 14, 16, 18)</td>\n",
       "      <td>0.00225262</td>\n",
       "      <td>0.00112631</td>\n",
       "    </tr>\n",
       "    <tr>\n",
       "      <th>9</th>\n",
       "      <td>0.710584</td>\n",
       "      <td>0.00289527</td>\n",
       "      <td>[0.711368682737, 0.706407300774, 0.71085873341...</td>\n",
       "      <td>(0, 2, 5, 7, 11, 12, 14, 16, 18)</td>\n",
       "      <td>0.00225262</td>\n",
       "      <td>0.00112631</td>\n",
       "    </tr>\n",
       "    <tr>\n",
       "      <th>10</th>\n",
       "      <td>0.710584</td>\n",
       "      <td>0.00289527</td>\n",
       "      <td>[0.711368682737, 0.706407300774, 0.71085873341...</td>\n",
       "      <td>(0, 2, 5, 7, 8, 11, 12, 14, 16, 18)</td>\n",
       "      <td>0.00225262</td>\n",
       "      <td>0.00112631</td>\n",
       "    </tr>\n",
       "    <tr>\n",
       "      <th>11</th>\n",
       "      <td>0.710584</td>\n",
       "      <td>0.00289527</td>\n",
       "      <td>[0.711368682737, 0.706407300774, 0.71085873341...</td>\n",
       "      <td>(0, 2, 5, 7, 8, 11, 12, 13, 14, 16, 18)</td>\n",
       "      <td>0.00225262</td>\n",
       "      <td>0.00112631</td>\n",
       "    </tr>\n",
       "    <tr>\n",
       "      <th>12</th>\n",
       "      <td>0.710582</td>\n",
       "      <td>0.00289697</td>\n",
       "      <td>[0.711358058793, 0.706407300774, 0.71085873341...</td>\n",
       "      <td>(0, 2, 5, 6, 7, 8, 11, 12, 13, 14, 16, 18)</td>\n",
       "      <td>0.00225394</td>\n",
       "      <td>0.00112697</td>\n",
       "    </tr>\n",
       "    <tr>\n",
       "      <th>13</th>\n",
       "      <td>0.71058</td>\n",
       "      <td>0.00290828</td>\n",
       "      <td>[0.711368682737, 0.706386052886, 0.71084810946...</td>\n",
       "      <td>(0, 2, 5, 6, 7, 8, 10, 11, 12, 13, 14, 16, 18)</td>\n",
       "      <td>0.00226274</td>\n",
       "      <td>0.00113137</td>\n",
       "    </tr>\n",
       "    <tr>\n",
       "      <th>14</th>\n",
       "      <td>0.712199</td>\n",
       "      <td>0.00446799</td>\n",
       "      <td>[0.716914381633, 0.706417924719, 0.71085873341...</td>\n",
       "      <td>(0, 2, 5, 6, 7, 8, 10, 11, 12, 13, 14, 15, 16,...</td>\n",
       "      <td>0.00347625</td>\n",
       "      <td>0.00173812</td>\n",
       "    </tr>\n",
       "    <tr>\n",
       "      <th>15</th>\n",
       "      <td>0.711037</td>\n",
       "      <td>0.003344</td>\n",
       "      <td>[0.713684702583, 0.706375428942, 0.71081623763...</td>\n",
       "      <td>(0, 2, 3, 5, 6, 7, 8, 10, 11, 12, 13, 14, 15, ...</td>\n",
       "      <td>0.00260174</td>\n",
       "      <td>0.00130087</td>\n",
       "    </tr>\n",
       "    <tr>\n",
       "      <th>16</th>\n",
       "      <td>0.710686</td>\n",
       "      <td>0.00310907</td>\n",
       "      <td>[0.711347434849, 0.706386052886, 0.71079498974...</td>\n",
       "      <td>(0, 2, 3, 5, 6, 7, 8, 9, 10, 11, 12, 13, 14, 1...</td>\n",
       "      <td>0.00241896</td>\n",
       "      <td>0.00120948</td>\n",
       "    </tr>\n",
       "    <tr>\n",
       "      <th>17</th>\n",
       "      <td>0.710518</td>\n",
       "      <td>0.002908</td>\n",
       "      <td>[0.711358058793, 0.706332933165, 0.71079498974...</td>\n",
       "      <td>(0, 1, 2, 3, 5, 6, 7, 8, 9, 10, 11, 12, 13, 14...</td>\n",
       "      <td>0.00226252</td>\n",
       "      <td>0.00113126</td>\n",
       "    </tr>\n",
       "    <tr>\n",
       "      <th>18</th>\n",
       "      <td>0.623363</td>\n",
       "      <td>0.0559503</td>\n",
       "      <td>[0.602154535893, 0.601336492186, 0.71042315169...</td>\n",
       "      <td>(0, 1, 2, 3, 4, 5, 6, 7, 8, 9, 10, 11, 12, 13,...</td>\n",
       "      <td>0.0435312</td>\n",
       "      <td>0.0217656</td>\n",
       "    </tr>\n",
       "    <tr>\n",
       "      <th>19</th>\n",
       "      <td>0.601996</td>\n",
       "      <td>0.00161144</td>\n",
       "      <td>[0.60149585135, 0.601485227406, 0.604321820519...</td>\n",
       "      <td>(0, 1, 2, 3, 4, 5, 6, 7, 8, 9, 10, 11, 12, 13,...</td>\n",
       "      <td>0.00125375</td>\n",
       "      <td>0.000626877</td>\n",
       "    </tr>\n",
       "  </tbody>\n",
       "</table>\n",
       "</div>"
      ],
      "text/plain": [
       "   avg_score    ci_bound                                          cv_scores  \\\n",
       "7   0.710578  0.00290507  [0.711368682737, 0.706386052886, 0.71084810946...   \n",
       "8   0.710584  0.00289527  [0.711368682737, 0.706407300774, 0.71085873341...   \n",
       "9   0.710584  0.00289527  [0.711368682737, 0.706407300774, 0.71085873341...   \n",
       "10  0.710584  0.00289527  [0.711368682737, 0.706407300774, 0.71085873341...   \n",
       "11  0.710584  0.00289527  [0.711368682737, 0.706407300774, 0.71085873341...   \n",
       "12  0.710582  0.00289697  [0.711358058793, 0.706407300774, 0.71085873341...   \n",
       "13   0.71058  0.00290828  [0.711368682737, 0.706386052886, 0.71084810946...   \n",
       "14  0.712199  0.00446799  [0.716914381633, 0.706417924719, 0.71085873341...   \n",
       "15  0.711037    0.003344  [0.713684702583, 0.706375428942, 0.71081623763...   \n",
       "16  0.710686  0.00310907  [0.711347434849, 0.706386052886, 0.71079498974...   \n",
       "17  0.710518    0.002908  [0.711358058793, 0.706332933165, 0.71079498974...   \n",
       "18  0.623363   0.0559503  [0.602154535893, 0.601336492186, 0.71042315169...   \n",
       "19  0.601996  0.00161144  [0.60149585135, 0.601485227406, 0.604321820519...   \n",
       "\n",
       "                                          feature_idx     std_dev      std_err  \n",
       "7                           (0, 2, 7, 12, 14, 16, 18)  0.00226024   0.00113012  \n",
       "8                       (0, 2, 7, 11, 12, 14, 16, 18)  0.00225262   0.00112631  \n",
       "9                    (0, 2, 5, 7, 11, 12, 14, 16, 18)  0.00225262   0.00112631  \n",
       "10                (0, 2, 5, 7, 8, 11, 12, 14, 16, 18)  0.00225262   0.00112631  \n",
       "11            (0, 2, 5, 7, 8, 11, 12, 13, 14, 16, 18)  0.00225262   0.00112631  \n",
       "12         (0, 2, 5, 6, 7, 8, 11, 12, 13, 14, 16, 18)  0.00225394   0.00112697  \n",
       "13     (0, 2, 5, 6, 7, 8, 10, 11, 12, 13, 14, 16, 18)  0.00226274   0.00113137  \n",
       "14  (0, 2, 5, 6, 7, 8, 10, 11, 12, 13, 14, 15, 16,...  0.00347625   0.00173812  \n",
       "15  (0, 2, 3, 5, 6, 7, 8, 10, 11, 12, 13, 14, 15, ...  0.00260174   0.00130087  \n",
       "16  (0, 2, 3, 5, 6, 7, 8, 9, 10, 11, 12, 13, 14, 1...  0.00241896   0.00120948  \n",
       "17  (0, 1, 2, 3, 5, 6, 7, 8, 9, 10, 11, 12, 13, 14...  0.00226252   0.00113126  \n",
       "18  (0, 1, 2, 3, 4, 5, 6, 7, 8, 9, 10, 11, 12, 13,...   0.0435312    0.0217656  \n",
       "19  (0, 1, 2, 3, 4, 5, 6, 7, 8, 9, 10, 11, 12, 13,...  0.00125375  0.000626877  "
      ]
     },
     "execution_count": 40,
     "metadata": {},
     "output_type": "execute_result"
    }
   ],
   "source": [
    "pd.DataFrame(sbs.get_metric_dict()).T"
   ]
  },
  {
   "cell_type": "code",
   "execution_count": null,
   "metadata": {
    "collapsed": true
   },
   "outputs": [],
   "source": []
  },
  {
   "cell_type": "markdown",
   "metadata": {},
   "source": [
    "### Evaluating and Comparing Models\n",
    "- Confusion matriz : is basically a table that summarizes the performance of classification tasks across TP, TN, FP and FN. It also allows us to calculate several other metrics useful for classification problems\n",
    "- Area under the ROC curve : this is a plot of TPR (sensitivity) vs FPR (1 - specificity) for every possible classification threshold. It is a single graph / number summary for classifier performance. . It is also useful to understand the tradeoffs in classifier performance\n",
    "- Accuracy : this measures how ofter the classifier makes the correct prediction. It's easy to calculate but it doesn't tell us anything about the dependent values or the type of errors your classifier is making \n",
    "- Precision and Recall : Precision tell how often the prediction is correct when our classifier predicts a positive value whereas Recall tells us how often the prediction is correct when the actual value is positive"
   ]
  },
  {
   "cell_type": "markdown",
   "metadata": {
    "collapsed": true
   },
   "source": [
    "$$Recall = \\frac{TP}{FN + TP}$$"
   ]
  },
  {
   "cell_type": "markdown",
   "metadata": {},
   "source": [
    "$$Precision = \\frac{TP}{FP + TP} $$"
   ]
  },
  {
   "cell_type": "markdown",
   "metadata": {
    "collapsed": true
   },
   "source": [
    "### Overfitting / Underfitting \n"
   ]
  },
  {
   "cell_type": "markdown",
   "metadata": {},
   "source": [
    "### Other Topics / Model Tyoes\n",
    "- Regularization : assign an appropriate penalty for model complexity (L1 , L2)\n",
    "- SVM : is large margin classifier. It provides a binary classification mechanism based on finding a hyperplane between a set of samples with +ve and -ve outputs. It assumes the data is linearly separable.\n",
    "- Ensemble Trees : Based on a tree of decision nodes, the learning approach is to recursively divide the training data into buckets of homogeneous members through the most discriminative dividing criteria possible. The measurement of “homogeneity” is based on the output label; when it is a numeric value, the measurement will be the variance of the bucket; when it is a category, the measurement will be the entropy, or “gini index,” of the bucket.\n",
    "- Neural Networks : A Neural Network emulates the structure of a human brain as a network of neurons that are interconnected to each other. Each neuron is technically equivalent to a logistic regression unit.\n"
   ]
  },
  {
   "cell_type": "code",
   "execution_count": null,
   "metadata": {
    "collapsed": true
   },
   "outputs": [],
   "source": []
  }
 ],
 "metadata": {
  "kernelspec": {
   "display_name": "Python 3",
   "language": "python",
   "name": "python3"
  },
  "language_info": {
   "codemirror_mode": {
    "name": "ipython",
    "version": 3
   },
   "file_extension": ".py",
   "mimetype": "text/x-python",
   "name": "python",
   "nbconvert_exporter": "python",
   "pygments_lexer": "ipython3",
   "version": "3.6.0"
  }
 },
 "nbformat": 4,
 "nbformat_minor": 2
}
