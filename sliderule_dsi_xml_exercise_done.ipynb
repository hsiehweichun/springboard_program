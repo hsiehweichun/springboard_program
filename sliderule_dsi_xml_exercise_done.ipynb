{
 "cells": [
  {
   "cell_type": "markdown",
   "metadata": {},
   "source": [
    "# XML example and exercise\n",
    "****\n",
    "+ study examples of accessing nodes in XML tree structure  \n",
    "+ work on exercise to be completed and submitted\n",
    "****\n",
    "+ reference: https://docs.python.org/2.7/library/xml.etree.elementtree.html\n",
    "+ data source: http://www.dbis.informatik.uni-goettingen.de/Mondial\n",
    "****"
   ]
  },
  {
   "cell_type": "code",
   "execution_count": 4,
   "metadata": {
    "collapsed": true
   },
   "outputs": [],
   "source": [
    "from xml.etree import ElementTree as ET"
   ]
  },
  {
   "cell_type": "markdown",
   "metadata": {},
   "source": [
    "## XML example\n",
    "\n",
    "+ for details about tree traversal and iterators, see https://docs.python.org/2.7/library/xml.etree.elementtree.html"
   ]
  },
  {
   "cell_type": "code",
   "execution_count": 5,
   "metadata": {
    "collapsed": true
   },
   "outputs": [],
   "source": [
    "document_tree = ET.parse( './data/mondial_database_less.xml' )"
   ]
  },
  {
   "cell_type": "code",
   "execution_count": 183,
   "metadata": {
    "collapsed": false
   },
   "outputs": [
    {
     "name": "stdout",
     "output_type": "stream",
     "text": [
      "Albania\n",
      "Greece\n",
      "Macedonia\n",
      "Serbia\n",
      "Montenegro\n",
      "Kosovo\n",
      "Andorra\n"
     ]
    }
   ],
   "source": [
    "# print names of all countries\n",
    "for child in document_tree.getroot():\n",
    "    print (child.find('name').text)"
   ]
  },
  {
   "cell_type": "code",
   "execution_count": 185,
   "metadata": {
    "collapsed": false
   },
   "outputs": [
    {
     "name": "stdout",
     "output_type": "stream",
     "text": [
      "* Albania:\n",
      "Tirana, Shkodër, Durrës, Vlorë, Elbasan, Korçë\n",
      "* Greece:\n",
      "Komotini, Kavala, Athina, Peiraias, Peristeri, Acharnes, Patra, Kozani, Kerkyra, Ioannina, Thessaloniki, Iraklio, Chania, Ermoupoli, Rhodes, Tripoli, Lamia, Chalkida, Larissa, Volos, Mytilini, Karyes\n",
      "* Macedonia:\n",
      "Skopje, Kumanovo\n",
      "* Serbia:\n",
      "Beograd, Novi Sad, Niš\n",
      "* Montenegro:\n",
      "Podgorica\n",
      "* Kosovo:\n",
      "Prishtine\n",
      "* Andorra:\n",
      "Andorra la Vella\n"
     ]
    }
   ],
   "source": [
    "# print names of all countries and their cities\n",
    "for element in document_tree.iterfind('country'):\n",
    "    print ('* ' + element.find('name').text + ':',)\n",
    "    capitals_string = ''\n",
    "    for subelement in element.getiterator('city'):\n",
    "        capitals_string += subelement.find('name').text + ', '\n",
    "    print (capitals_string[:-2])\n",
    "    "
   ]
  },
  {
   "cell_type": "markdown",
   "metadata": {},
   "source": [
    "****\n",
    "## XML exercise\n",
    "\n",
    "Using data in 'data/mondial_database.xml', the examples above, and refering to https://docs.python.org/2.7/library/xml.etree.elementtree.html, find\n",
    "\n",
    "1. 10 countries with the lowest infant mortality rates\n",
    "2. 10 cities with the largest population\n",
    "3. 10 ethnic groups with the largest overall populations (sum of best/latest estimates over all countries)\n",
    "4. name and country of a) longest river, b) largest lake and c) airport at highest elevation"
   ]
  },
  {
   "cell_type": "markdown",
   "metadata": {},
   "source": [
    "Question 1. 10 countries with the lowest infant mortality rates"
   ]
  },
  {
   "cell_type": "code",
   "execution_count": 244,
   "metadata": {
    "collapsed": false
   },
   "outputs": [
    {
     "name": "stdout",
     "output_type": "stream",
     "text": [
      "10 countries with the lowest infant mortality rates:\n",
      "\n",
      "Monaco 1.81\n",
      "Japan 2.13\n",
      "Norway 2.48\n",
      "Bermuda 2.48\n",
      "Singapore 2.53\n",
      "Sweden 2.6\n",
      "Czech Republic 2.63\n",
      "Hong Kong 2.73\n",
      "Macao 3.13\n",
      "Iceland 3.15\n"
     ]
    }
   ],
   "source": [
    "document = ET.parse( './data/mondial_database.xml' )\n",
    "\n",
    "root = document.getroot()\n",
    "\n",
    "#save country and infant mortality in a list\n",
    "mortality_list=[]    \n",
    "country_list=[]\n",
    "for country in root.findall('country'):\n",
    "    infant_mortality=country.findtext('infant_mortality')\n",
    "    name=country.findtext('name')\n",
    "\n",
    "    mortality_list.append(infant_mortality)\n",
    "    country_list.append(name)\n",
    "    \n",
    "#generate a \"clean\" mortality list which excludes \"None\" record (the \"infant_mortality\" is not in the XML block.)   \n",
    "none_indexes = []\n",
    "mortality_list_clean = []\n",
    "country_list_clean = []\n",
    "\n",
    "for i in range(len(mortality_list)):\n",
    "    if mortality_list[i]==None: none_indexes.append(i)\n",
    "for i in range(len(mortality_list)):\n",
    "    if i not in none_indexes: \n",
    "        mortality_list_clean.append(float(mortality_list[i]))\n",
    "        country_list_clean.append(country_list[i])\n",
    "\n",
    "y=mortality_list_clean\n",
    "x=country_list_clean\n",
    "country_sortby_mortality=[x for (y,x) in sorted(zip(y,x), key=lambda pair: pair[0])]\n",
    "#print(country_sortby_mortality[0:10])\n",
    "#print(country_list_clean.index('Monaco'))\n",
    "#sorted_indexes is the index of items being sorted. The smallest item' index is saved in sorted_indexes[0]\n",
    "sorted_indexes = [b[0] for b in sorted(enumerate(mortality_list_clean),key=lambda i:i[1])]\n",
    "#another method of sort\n",
    "#s2=sorted(range(len(mortality_list_clean)), key=lambda k:mortality_list_clean[k])\n",
    "\n",
    "#print answer\n",
    "print(\"10 countries with the lowest infant mortality rates:\\n\")\n",
    "for i in range(10):\n",
    "    print(country_list_clean[sorted_indexes[i]],mortality_list_clean[sorted_indexes[i]])\n"
   ]
  },
  {
   "cell_type": "markdown",
   "metadata": {},
   "source": [
    "Question 2. 10 cities with the largest population\n"
   ]
  },
  {
   "cell_type": "code",
   "execution_count": 243,
   "metadata": {
    "collapsed": false
   },
   "outputs": [
    {
     "name": "stdout",
     "output_type": "stream",
     "text": [
      "10 cities with the largest population:\n",
      "\n",
      "Seoul ,  10229262\n",
      "Mumbai ,  9925891\n",
      "São Paulo ,  9412894\n",
      "Jakarta ,  8259266\n",
      "Shanghai ,  8205598\n",
      "Ciudad de México ,  8092449\n",
      "Moskva ,  8010954\n",
      "Tokyo ,  7843000\n",
      "Beijing ,  7362426\n",
      "Delhi ,  7206704\n"
     ]
    }
   ],
   "source": [
    "#save city, population in a list\n",
    "city_list = []\n",
    "pop_list = []\n",
    "for city in root.iter('city'):\n",
    "    city_list.append(city.findtext('name'))\n",
    "    pop_list.append(city.findtext('population'))\n",
    "#print(len(city_list),len(pop_list))\n",
    "\n",
    "#print(ethinc_list)\n",
    "#remove the record when value is None\n",
    "def remove_none(value_list,item_list):\n",
    "    none_indexes = []\n",
    "    value_list_clean = []\n",
    "    item_list_clean = []\n",
    "\n",
    "    for i in range(len(value_list)):\n",
    "        if value_list[i]==None: none_indexes.append(i)\n",
    "    for i in range(len(value_list)):\n",
    "        if i not in none_indexes: \n",
    "            value_list_clean.append(int(value_list[i]))\n",
    "            item_list_clean.append(item_list[i])\n",
    "    return value_list_clean,item_list_clean\n",
    "\n",
    "pop_list,city_list = remove_none(pop_list,city_list)\n",
    "y=pop_list\n",
    "x=city_list\n",
    "#sort by population, I chould have used df.sort_values, similar to what was done\n",
    "#in the following questions.\n",
    "city_sortby_pop=[x for (y,x) in sorted(zip(y,x), key=lambda pair: pair[0])]\n",
    "pop_sortby_pop=[y for (y,x) in sorted(zip(y,x), key=lambda pair: pair[0])]\n",
    "\n",
    "#print answer for 10 cities with the largest population, the largest comes first\n",
    "print(\"10 cities with the largest population:\\n\")\n",
    "for i in range(len(city_sortby_pop)-1,len(city_sortby_pop)-11,-1):\n",
    "    print(city_sortby_pop[i],\", \",pop_sortby_pop[i])\n"
   ]
  },
  {
   "cell_type": "markdown",
   "metadata": {},
   "source": [
    "Qquestion 3. 10 ethnic groups with the largest overall populations (sum of best/latest estimates over all countries)\n"
   ]
  },
  {
   "cell_type": "code",
   "execution_count": 240,
   "metadata": {
    "collapsed": false
   },
   "outputs": [
    {
     "name": "stdout",
     "output_type": "stream",
     "text": [
      "10 ethnic groups with the largest overall populations\n",
      "             population\n",
      "ethic_group            \n",
      "Han Chinese   543776080\n",
      "European      284338691\n",
      "Dravidian     238396327\n",
      "Russian       102798657\n",
      "German         96828641\n",
      "Japanese       82199470\n",
      "Javanese       72592192\n",
      "African        51889000\n",
      "Mestizo        50797340\n",
      "English        50616012\n"
     ]
    }
   ],
   "source": [
    "#find enthic groups and save their name, country and population in a seperate list\n",
    "#convert population to float to sort by value\n",
    "\n",
    "ethic_list=[]    \n",
    "country_list=[]\n",
    "pop_list=[]\n",
    "for country in root.findall('country'):\n",
    "    name=country.findtext('name')\n",
    "    ethic=country.findtext('ethnicgroup')\n",
    "    pop=country.findtext('population')\n",
    "    ethic_list.append(ethic)\n",
    "    country_list.append(name)\n",
    "    pop_list.append(int(pop))\n",
    "#print(len(ethic_list),len(country_list),len(pop_list))\n",
    "\n",
    "#save data of interest in a dataframe and find the max 10 by df.sort_values\n",
    "data = [('country', country_list),\n",
    "         ('ethic_group', ethic_list),\n",
    "         ('population', pop_list),\n",
    "         ]\n",
    "import pandas as pd\n",
    "df = pd.DataFrame.from_items(data)\n",
    "df = df.groupby('ethic_group').sum()\n",
    "df_sort = df.sort_values(by='population', ascending=0)\n",
    "\n",
    "#print answer for 10 ethnic groups with the largest overall populations\n",
    "print(\"10 ethnic groups with the largest overall populations:\")\n",
    "print(df_sort[:10])"
   ]
  },
  {
   "cell_type": "markdown",
   "metadata": {},
   "source": [
    "Question 4a. Name and country of longest river."
   ]
  },
  {
   "cell_type": "code",
   "execution_count": 268,
   "metadata": {
    "collapsed": false
   },
   "outputs": [
    {
     "name": "stdout",
     "output_type": "stream",
     "text": [
      "The longest river:\n",
      "\n",
      "      country     river  length\n",
      "174  CO BR PE  Amazonas  6448.0\n"
     ]
    }
   ],
   "source": [
    "#find river and save their name, country and length in a seperate list\n",
    "\n",
    "river_list = []\n",
    "country_list = []\n",
    "length_list = []\n",
    "\n",
    "for river in root.iter('river'):\n",
    "    if river.findtext('length')==None:\n",
    "        pass\n",
    "    else:\n",
    "        river_list.append(river.findtext('name'))\n",
    "        country_list.append(river.get('country'))\n",
    "        length_list.append(float(river.findtext('length')))\n",
    "\n",
    "data = [('country', country_list),\n",
    "         ('river', river_list),\n",
    "         ('length', length_list),\n",
    "         ]\n",
    "df = pd.DataFrame.from_items(data)\n",
    "df_sort = df.sort_values(by='length', ascending=0)\n",
    "#print answer for longest river\n",
    "print(\"The longest river:\\n\")\n",
    "print(df_sort[:1])"
   ]
  },
  {
   "cell_type": "markdown",
   "metadata": {},
   "source": [
    "Question 4b. Name and country of largest lake "
   ]
  },
  {
   "cell_type": "code",
   "execution_count": 266,
   "metadata": {
    "collapsed": false
   },
   "outputs": [
    {
     "name": "stdout",
     "output_type": "stream",
     "text": [
      "The largest lake:\n",
      "\n",
      "           country         lake      area\n",
      "54  R AZ KAZ IR TM  Caspian Sea  386400.0\n"
     ]
    }
   ],
   "source": [
    "def find_largest(nametext,country,item):\n",
    "    name_list = []\n",
    "    country_list = []\n",
    "    item_list = []\n",
    "\n",
    "#airport elevation has blank fields, we should not include them \n",
    "    for element in root.iter(nametext):\n",
    "        if element.findtext(item)==None or element.findtext(item)==\"\" :\n",
    "            pass\n",
    "        else:\n",
    "            #print(element.findtext(item))\n",
    "            name_list.append(element.findtext('name'))\n",
    "            country_list.append(element.get(country))\n",
    "            item_list.append(float(element.findtext(item)))\n",
    "\n",
    "    data = [(country, country_list),\n",
    "             (nametext, name_list),\n",
    "             (item, item_list),\n",
    "             ]\n",
    "    df = pd.DataFrame.from_items(data)\n",
    "    df_sort = df.sort_values(by=item, ascending=0)\n",
    "    return df_sort\n",
    "\n",
    "nametext='lake'\n",
    "country='country'\n",
    "area='area'\n",
    "#print answer for longest river\n",
    "df_sort=find_largest(nametext,country,area)\n",
    "print(\"The largest lake:\\n\")\n",
    "print(df_sort[:1])"
   ]
  },
  {
   "cell_type": "markdown",
   "metadata": {},
   "source": [
    "Question 4c. Name and country of airport at highest elevation\n"
   ]
  },
  {
   "cell_type": "code",
   "execution_count": 267,
   "metadata": {
    "collapsed": false
   },
   "outputs": [
    {
     "name": "stdout",
     "output_type": "stream",
     "text": [
      "Name and country of airport at highest elevation:\n",
      "\n",
      "   country       airport  elevation\n",
      "80     BOL  El Alto Intl     4063.0\n"
     ]
    }
   ],
   "source": [
    "nametext='airport'\n",
    "country='country'\n",
    "height='elevation'\n",
    "df_sort=find_largest(nametext,country,height)\n",
    "#print answer for airport at highest elevation\n",
    "\n",
    "print(\"Name and country of airport at highest elevation:\\n\")\n",
    "print(df_sort[:1])"
   ]
  },
  {
   "cell_type": "code",
   "execution_count": null,
   "metadata": {
    "collapsed": true
   },
   "outputs": [],
   "source": []
  }
 ],
 "metadata": {
  "kernelspec": {
   "display_name": "Python 3",
   "language": "python",
   "name": "python3"
  },
  "language_info": {
   "codemirror_mode": {
    "name": "ipython",
    "version": 3
   },
   "file_extension": ".py",
   "mimetype": "text/x-python",
   "name": "python",
   "nbconvert_exporter": "python",
   "pygments_lexer": "ipython3",
   "version": "3.6.0"
  }
 },
 "nbformat": 4,
 "nbformat_minor": 0
}
