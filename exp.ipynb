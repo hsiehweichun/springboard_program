{
 "cells": [
  {
   "cell_type": "code",
   "execution_count": 1,
   "metadata": {
    "collapsed": false
   },
   "outputs": [
    {
     "name": "stdout",
     "output_type": "stream",
     "text": [
      "Populating the interactive namespace from numpy and matplotlib\n"
     ]
    }
   ],
   "source": [
    "import numpy as np\n",
    "import pandas as pd\n",
    "import seaborn as sns\n",
    "import matplotlib.pyplot as plt\n",
    "get_ipython().magic('pylab inline')\n",
    "#get_ipython().magic('matplotlib auto')\n",
    "\n",
    "pylab.rcParams['figure.figsize'] = (12, 8)\n",
    "import sys\n"
   ]
  },
  {
   "cell_type": "code",
   "execution_count": null,
   "metadata": {
    "collapsed": true
   },
   "outputs": [],
   "source": [
    "#===randomly generate indexes for ~ 20 % of data \n",
    "\n",
    "#from random import sample\n",
    "#n_sample = int(13647309*0.2)\n",
    "#indexes = sample(range(13647309), k=n_sample)\n",
    "#with open('indexes_20_percent.txt', 'w') as f:\n",
    "#     for s in indexes:\n",
    "#        f.write(str(s) + '\\n')"
   ]
  },
  {
   "cell_type": "code",
   "execution_count": null,
   "metadata": {
    "collapsed": true
   },
   "outputs": [],
   "source": [
    "#===generate 20 % training data based on randomly generated indexes\n",
    "\n",
    "#f_ind = open('indexes_20_percent.txt','r')\n",
    "#f = open('input/train_ver2.csv','r')\n",
    "\n",
    "#row_number = []\n",
    "#with open('indexes_20_percent.txt','r') as f_ind:\n",
    "#    for line in f_ind:\n",
    "#       row_number.append(int(line.strip()))\n",
    "\n",
    "#row_number.sort()\n",
    "#print(type(row_number))\n",
    "\n",
    "#ofile  = open('input/train_subset.csv', 'wb')\n",
    "\n",
    "#lines = f.readlines()\n",
    "#num_lines = len(lines)\n",
    "\n",
    "##randomly generated indexes has header line\n",
    "##ofile.write(lines[0])\n",
    "#for i in row_number:\n",
    "#    ofile.write(lines[i])\n",
    "\n",
    "#f.close()\n",
    "#f_ind.close()\n",
    "#ofile.close()\n",
    "\n"
   ]
  },
  {
   "cell_type": "raw",
   "metadata": {
    "collapsed": false
   },
   "source": [
    "#===write a csv with English header (easy to understand)\n",
    "df = pd.read_csv('input/train_subset.csv',encoding = 'ISO-8859-1') \n",
    "df = df.rename(index=str, columns={'fecha_dato': 'date', 'ncodpers': 'id','ind_empleado':'employee_index',\n",
    "'pais_residencia':'country_residence',\n",
    "'sexo':'sex',\n",
    "'fecha_alta':'first_join_date',\n",
    "'ind_nuevo':'new_customer_index',\n",
    "'antiguedad':'seniority',\n",
    "'indrel':'primary',\n",
    "'ult_fec_cli_1t':'last_date_primary',\n",
    "'indrel_1mes':'customer_type',\n",
    "'tiprel_1mes':'customer_relation',\n",
    "'indresi':'residence_idx',\n",
    "'indext':'foreigner_idx',\n",
    "'conyuemp':'spouse_idx',\n",
    "'canal_entrada':'channel',\n",
    "'indfall':'deceased',\n",
    "'tipodom':'address',\n",
    "'cod_prov':'province_code',\n",
    "'nomprov':'province_name',\n",
    "'ind_actividad_cliente':'activity_idx',\n",
    "'renta':'gross_income',\n",
    "'segmento':'segment',\n",
    "'ind_ahor_fin_ult1':'saving_account',\n",
    "'ind_aval_fin_ult1':'guarantees',\n",
    "'ind_cco_fin_ult1':'current_account',\n",
    "'ind_cder_fin_ult1':'derivada_account',\n",
    "'ind_cno_fin_ult1':'payroll_account',\n",
    "'ind_ctju_fin_ult1':'junior_account',\n",
    "'ind_ctma_fin_ult1':'mas_particular_account',\n",
    "'ind_ctop_fin_ult1':'particular_account',\n",
    "'ind_ctpp_fin_ult1':'particular_plus_account',\n",
    "'ind_deco_fin_ult1':'short-term_deposits',\n",
    "'ind_deme_fin_ult1':'medium-term_deposits',\n",
    "'ind_dela_fin_ult1':'long-term_deposits',\n",
    "'ind_ecue_fin_ult1':'e-account',\n",
    "'ind_fond_fin_ult1':'funds',\n",
    "'ind_hip_fin_ult1':'mortgage',\n",
    "'ind_plan_fin_ult1':'pensions',\n",
    "'ind_pres_fin_ult1':'loans',\n",
    "'ind_reca_fin_ult1':'taxes',\n",
    "'ind_tjcr_fin_ult1':'credit_card',\n",
    "'ind_valo_fin_ult1':'securities',\n",
    "'ind_viv_fin_ult1':'home_account',\n",
    "'ind_nomina_ult1':'payroll',\n",
    "'ind_nom_pens_ult1':'pensions_1',\n",
    "'ind_recibo_ult1':'direct_debit'})\n",
    "df.to_csv('input/train_20percent.csv',index=False)\n"
   ]
  },
  {
   "cell_type": "code",
   "execution_count": 2,
   "metadata": {
    "collapsed": false
   },
   "outputs": [
    {
     "name": "stderr",
     "output_type": "stream",
     "text": [
      "C:\\Anaconda\\lib\\site-packages\\IPython\\core\\interactiveshell.py:2717: DtypeWarning: Columns (5,8,11,15) have mixed types. Specify dtype option on import or set low_memory=False.\n",
      "  interactivity=interactivity, compiler=compiler, result=result)\n"
     ]
    },
    {
     "data": {
      "text/plain": [
       "date                             0\n",
       "id                               0\n",
       "employee_index                5454\n",
       "country_residence             5454\n",
       "sex                           5470\n",
       "age                              0\n",
       "first_join_date               5454\n",
       "new_customer_index            5454\n",
       "seniority                        0\n",
       "primary                       5454\n",
       "last_date_primary          2724464\n",
       "customer_type                29573\n",
       "customer_relation            29573\n",
       "residence_idx                 5454\n",
       "foreigner_idx                 5454\n",
       "spouse_idx                 2729088\n",
       "channel                      36790\n",
       "deceased                      5454\n",
       "address                       5455\n",
       "province_code                18657\n",
       "province_name                18657\n",
       "activity_idx                  5454\n",
       "gross_income                559126\n",
       "segment                      37473\n",
       "saving_account                   0\n",
       "guarantees                       0\n",
       "current_account                  0\n",
       "derivada_account                 0\n",
       "payroll_account                  0\n",
       "junior_account                   0\n",
       "mas_particular_account           0\n",
       "particular_account               0\n",
       "particular_plus_account          0\n",
       "short-term_deposits              0\n",
       "medium-term_deposits             0\n",
       "long-term_deposits               0\n",
       "e-account                        0\n",
       "funds                            0\n",
       "mortgage                         0\n",
       "pensions                         0\n",
       "loans                            0\n",
       "taxes                            0\n",
       "credit_card                      0\n",
       "securities                       0\n",
       "home_account                     0\n",
       "payroll                       3240\n",
       "pensions_1                    3240\n",
       "direct_debit                     0\n",
       "dtype: int64"
      ]
     },
     "execution_count": 2,
     "metadata": {},
     "output_type": "execute_result"
    }
   ],
   "source": [
    "#Option 1: df.isnull().any().any() - This returns a boolean value\n",
    "#If you make it df.isnull().any(), you can find just the columns that have NaN values:\n",
    "#df.isnull().any()\n",
    "df = pd.read_csv('input/train_20percent.csv',encoding = 'ISO-8859-1')\n",
    "df.isnull().sum()"
   ]
  },
  {
   "cell_type": "code",
   "execution_count": 3,
   "metadata": {
    "collapsed": true
   },
   "outputs": [],
   "source": [
    "df = df.drop([\"last_date_primary\", \"spouse_idx\"], axis=1) "
   ]
  },
  {
   "cell_type": "code",
   "execution_count": 9,
   "metadata": {
    "collapsed": false
   },
   "outputs": [
    {
     "name": "stdout",
     "output_type": "stream",
     "text": [
      "date ['2015-01-28' '2015-02-28' '2015-03-28' '2015-04-28' '2015-05-28'\n",
      " '2015-06-28' '2015-07-28' '2015-08-28' '2015-09-28' '2015-10-28'\n",
      " '2015-11-28' '2015-12-28' '2016-01-28' '2016-02-28' '2016-03-28'\n",
      " '2016-04-28' '2016-05-28'] 17\n",
      "id [1375586 1050614 1050617 ..., 1166623 1166617 1166842] 887294\n",
      "employee_index ['N' nan 'A' 'F' 'B' 'S'] 6\n",
      "country_residence ['ES' nan 'CL' 'FR' 'CH' 'GB' 'DE' 'BR' 'IT' 'FI' 'SE' 'CN' 'MX' 'CO' 'EC'\n",
      " 'US' 'AD' 'CZ' 'MA' 'RO' 'PE' 'IL' 'RU' 'GT' 'AR' 'UA' 'NL' 'PL' 'NO' 'BG'\n",
      " 'PY' 'HN' 'SV' 'PA' 'BE' 'IE' 'PT' 'SG' 'SK' 'TR' 'AU' 'VE' 'GE' 'UY' 'CU'\n",
      " 'BO' 'PR' 'KE' 'JP' 'QA' 'TG' 'IN' 'LU' 'AT' 'AE' 'KW' 'DK' 'CA' 'MM' 'NG'\n",
      " 'KH' 'EG' 'GN' 'GW' 'GR' 'CG' 'DO' 'MK' 'TH' 'VN' 'GQ' 'LT' 'EE' 'PK' 'GM'\n",
      " 'BZ' 'KR' 'CM' 'LY' 'IS' 'GA' 'CR' 'DZ' 'CI' 'LB' 'BY' 'HR' 'BA' 'HK' 'TW'\n",
      " 'MD' 'MR' 'ZA' 'RS' 'SL' 'HU' 'SN' 'AO' 'ML' 'NI' 'AL' 'NZ' 'GI' 'ET' 'SA'\n",
      " 'TN' 'MZ' 'ZW' 'PH' 'JM' 'GH' 'CF' 'KZ' 'OM' 'CD' 'LV' 'DJ'] 117\n",
      "sex ['H' 'V' nan] 3\n",
      "age [' 35' ' 23' ' 24' ' 28' ' 22' ' 25' ' 30' ' 44' ' 27' ' 26' ' 36' ' 31'\n",
      " ' 33' ' 32' ' 37' ' 42' ' 57' ' 12' '  6' ' 77' ' 29' ' 54' ' 52' ' 59'\n",
      " ' 46' ' 39' ' 43' ' 51' ' 41' ' 16' ' 48' ' 40' ' 38' ' 53' ' NA' ' 73'\n",
      " ' 47' ' 34' ' 17' ' 96' ' 49' ' 79' '  8' ' 11' ' 86' ' 58' '  9' ' 63'\n",
      " ' 64' ' 50' ' 62' ' 20' ' 10' ' 15' ' 18' ' 67' ' 56' ' 60' ' 55' ' 21'\n",
      " ' 61' ' 82' ' 65' ' 45' ' 78' ' 75' ' 72' ' 66' ' 69' ' 91' ' 87' ' 92'\n",
      " ' 71' ' 84' ' 70' '  7' ' 94' '  5' ' 83' ' 98' ' 68' ' 14' ' 76' ' 81'\n",
      " ' 88' ' 85' ' 74' ' 99' ' 13' ' 89' ' 80' ' 19' '  4' ' 95' ' 90' '106'\n",
      " ' 93' ' 97' '103' '  2' '  3' '104' '102' '105' '107' '116' '101' '100'\n",
      " '108' '115' '111' '110' '109' '113' '112' 70 40 62 33 44 94 67 59 51 48 37\n",
      " 41 68 64 69 42 38 45 53 47 31 56 34 36 95 39 65 83 86 82 46 49 54 43 22 61\n",
      " 55 35 72 57 74 71 58 13 81 63 85 60 30 66 78 52 50 88 15 84 91 96 19 23\n",
      " 101 24 18 76 77 73 87 89 75 32 26 16 79 17 93 21 28 27 80 99 29 97 12 90\n",
      " 14 20 98 92 112 11 106 105 103 25 100 8 9 7 10 102 6 104 108 107 110 109\n",
      " 111 4 5 3 2 113 115 116 127 114 163 117] 233\n",
      "first_join_date ['2015-01-12' '2012-08-10' '2012-08-16' ..., '2016-05-01' '2012-06-02'\n",
      " '2013-06-09'] 6743\n",
      "new_customer_index [  0.  nan   1.] 3\n",
      "seniority ['      6' '     35' '     34' '     33' '     NA' '     13' '     29'\n",
      " '     10' '     25' '     12' '     21' '      4' '     18' '     32'\n",
      " '     20' '      8' '     27' '    157' '     24' '      9' '     17'\n",
      " '     36' '     40' '     31' '     38' '     37' '     28' '     39'\n",
      " '     11' '      7' '     15' '     16' '     30' '     23' '     19'\n",
      " '      5' '     22' '     26' '     14' '     47' '     46' '     45'\n",
      " '     57' '     52' '     58' '     56' '     55' '     53' '     59'\n",
      " '     51' '     42' '     43' '     54' '     49' '     50' '      0'\n",
      " '     44' '     41' '     62' '     61' '     63' '     60' '     48'\n",
      " '      3' '      1' '      2' '    165' '    164' '    128' '    118'\n",
      " '     72' '    107' '    102' '    135' '    159' '    140' '    162'\n",
      " '     66' '    117' '    154' '     80' '    161' '     78' '    163'\n",
      " '    144' '    158' '     85' '    116' '    137' '    151' '    160'\n",
      " '    115' '    112' '    132' '     79' '    142' '    166' '    121'\n",
      " '    149' '    138' '    169' '     84' '     65' '     94' '    125'\n",
      " '    134' '    127' '     77' '    139' '     64' '    156' '    136'\n",
      " '    123' '    150' '     81' '    129' '     96' '    101' '    113'\n",
      " '    217' '    143' '    111' '    153' '    167' '     76' '     92'\n",
      " '    209' '    216' '     83' '    109' '    168' '    146' '     89'\n",
      " '     88' '    141' '    110' '    133' '    120' '     93' '    148'\n",
      " '    145' '     82' '    199' '    147' '    100' '    119' '    122'\n",
      " '    106' '     99' '    130' '    178' '     95' '     91' '    114'\n",
      " '    103' '    155' '    188' '    152' '     67' '    185' '     74'\n",
      " '    124' '    195' '     73' '    126' '     97' '     98' '    104'\n",
      " '     87' '     86' '    108' '    180' '    170' '    171' '    172'\n",
      " '    176' '    214' '    105' '    131' '    174' '    173' '     75'\n",
      " '    177' '    205' '    201' '    227' '    193' '    175' '    184'\n",
      " '    183' '    179' '     69' '     68' '     70' '     90' '     71'\n",
      " '    204' '    187' '    233' '    235' '    189' '    192' '    222'\n",
      " '    208' '    196' '    211' '    202' '    206' '    210' '    198'\n",
      " '    212' '    200' '    228' '    223' '    207' '    186' '    197'\n",
      " '    194' '    181' '    190' '    213' '    220' '    218' '    203'\n",
      " '    215' '    225' '    224' '    221' '    229' '    182' '    226'\n",
      " '    191' '    231' '    232' '    230' '    234' '    219' '    237'\n",
      " '    244' '    242' '    241' '    239' '    238' '    240' '    236'\n",
      " '    243' '    246' '    245' '-999999' 134 55 133 116 108 92 127 81 125\n",
      " 164 123 141 4 117 132 130 93 106 100 47 119 131 14 52 128 120 18 138 1 95\n",
      " 129 118 50 28 63 124 114 7 97 126 82 13 111 96 79 43 51 65 77 12 99 104 89\n",
      " 26 58 69 122 110 21 146 11 66 2 22 67 105 24 115 107 121 16 112 101 61 45\n",
      " 83 44 88 36 90 38 40 80 98 86 169 3 160 102 10 35 113 19 62 103 57 78 94\n",
      " 31 68 34 64 9 54 76 87 49 6 32 5 75 33 20 84 85 59 46 39 56 60 37 53 0 8\n",
      " 73 109 27 15 30 17 70 48 41 25 42 23 74 153 72 29 186 91 71 171 201 184\n",
      " 185 163 175 177 180 182 150 179 139 193 178 174 156 183 157 173 151 147\n",
      " 159 165 145 149 181 144 152 172 161 234 207 166 189 199 162 154 211 176\n",
      " -999999 155 135 136 221 142 167 170 198 168 143 140 231 158 217 137 197\n",
      " 194 192 191 190 208 187 203 188 202 195 226 148 238 225 205 235 200 210\n",
      " 212 214 206 224 220 223 241 204 222 213 219 218 216 209 215 196 230 229\n",
      " 232 237 236 233 228 242 240 244 243 246 245 239 227 247 248 249 250 251\n",
      " 252 253 254 255 256] 507\n",
      "primary [  1.  99.  nan] 3\n",
      "customer_type [1.0 nan 3.0 2.0 '1.0' '1' '3.0' '3' 'P' '2.0' '2' '4.0' 4.0 '4'] 14\n",
      "customer_relation ['A' 'I' nan 'P' 'R' 'N'] 6\n",
      "residence_idx ['S' nan 'N'] 3\n",
      "foreigner_idx ['N' 'S' nan] 3\n",
      "channel ['KHL' 'KHE' 'KFC' 'KAT' 'KHD' 'KFA' nan 'KHC' 'KAZ' 'RED' 'KDH' 'KAD'\n",
      " 'KHK' 'KEH' 'KGC' 'KFD' 'KFK' 'KFG' 'KAR' 'KAB' 'KFL' 'KAE' 'KAA' 'KAH'\n",
      " 'KFJ' 'KCC' 'KGV' 'KAQ' 'KAI' 'KAG' 'KFP' 'KAP' 'KFS' 'KGY' 'KAJ' 'KFF'\n",
      " 'KGX' 'KFU' 'KFN' 'KDE' 'KHF' 'KAK' 'KHM' 'KBG' 'KHN' 'KAY' 'KDR' 'KDY'\n",
      " 'KAC' 'KES' '013' 'KDA' 'KDO' 'KCG' 'KBQ' 'KBZ' 'KDT' 'KCK' 'KBO' '007'\n",
      " 'KBU' 'KEU' 'KCL' 'KCA' 'KAW' 'KEC' 'KCB' 'KDU' 'KDQ' 'KAF' 'KCH' 'KBL'\n",
      " 'KCD' 'KEA' 'KAS' 'KDV' 'KAL' 'KBH' 'KCM' 'KFT' 'KEI' 'KEV' 'KDZ' 'KCS'\n",
      " 'KEY' 'KCN' 'KCI' 'KDX' 'KBV' 'KBF' 'KDP' 'KBR' 'KCO' 'KDD' 'KBX' 'KCU'\n",
      " 'KBS' 'KBW' 'KCF' 'KBD' 'KBE' 'KDS' 'KEB' 'KDC' 'KDF' 'KDG' 'KAM' 'KCE'\n",
      " 'KBY' 'KCP' 'KEF' 'KEZ' 'KDM' '004' 'KDW' 'KBJ' 'KEW' 'KEG' 'KEJ' 'KBB'\n",
      " 'KEL' 'KFH' 'KFM' 'KEQ' 'KAU' 'KED' 'KAO' 'KEN' 'KEO' 'KGW' 'KFI' 'KFE'\n",
      " 'KFR' 'KBM' 'KAN' 'KCR' 'KCQ' 'KDN' 'KEK' 'K00' 'KCJ' 'KEE' 'KAV' 'KFV'\n",
      " 'KBN' 'KCV' 'KHO' 'KGN' 'KFB' 'KEM' 'KCX' 'KBP' 'KHA' 'KCT' 'KHQ' 'KDB'\n",
      " 'KDL' '025' 'KGU' 'KHP' 'KDI' 'KHS'] 162\n",
      "deceased ['N' nan 'S'] 3\n",
      "address [  1.  nan] 2\n",
      "province_code [ 29.  50.  20.  13.   9.   5.   3.  39.   7.  28.  44.  27.  23.  45.   8.\n",
      "  10.  15.  46.  37.  11.  49.   6.   2.  17.  34.  16.  36.  21.  31.  14.\n",
      "  25.  33.  41.  47.  19.  48.  30.  24.  43.  26.  40.  nan  32.  12.  22.\n",
      "  38.  18.  35.  51.  42.   1.   4.  52.] 53\n",
      "province_name ['MALAGA' 'ZARAGOZA' 'GIPUZKOA' 'CIUDAD REAL' 'BURGOS' 'AVILA' 'ALICANTE'\n",
      " 'CANTABRIA' 'BALEARS, ILLES' 'MADRID' 'TERUEL' 'LUGO' 'JAEN' 'TOLEDO'\n",
      " 'BARCELONA' 'CACERES' 'CORUÃ?A, A' 'VALENCIA' 'SALAMANCA' 'CADIZ' 'ZAMORA'\n",
      " 'BADAJOZ' 'ALBACETE' 'GIRONA' 'PALENCIA' 'CUENCA' 'PONTEVEDRA' 'HUELVA'\n",
      " 'NAVARRA' 'CORDOBA' 'LERIDA' 'ASTURIAS' 'SEVILLA' 'VALLADOLID'\n",
      " 'GUADALAJARA' 'BIZKAIA' 'MURCIA' 'LEON' 'TARRAGONA' 'RIOJA, LA' 'SEGOVIA'\n",
      " nan 'OURENSE' 'CASTELLON' 'HUESCA' 'SANTA CRUZ DE TENERIFE' 'GRANADA'\n",
      " 'PALMAS, LAS' 'CEUTA' 'SORIA' 'ALAVA' 'ALMERIA' 'MELILLA'] 53\n",
      "activity_idx [  1.   0.  nan] 3\n",
      "gross_income [  87218.1         nan  113316.66 ...,  205435.11   61602.45  341512.35] 503483\n",
      "segment ['02 - PARTICULARES' '03 - UNIVERSITARIO' '01 - TOP' nan] 4\n"
     ]
    }
   ],
   "source": [
    "feature_cols =['date', 'id', 'employee_index', 'country_residence', 'sex', 'age',\n",
    "       'first_join_date', 'new_customer_index', 'seniority', 'primary',\n",
    "       'customer_type', 'customer_relation', 'residence_idx', 'foreigner_idx',\n",
    "       'channel', 'deceased', 'address', 'province_code', 'province_name',\n",
    "       'activity_idx', 'gross_income', 'segment']\n",
    "for ind, feature_col in enumerate(feature_cols):\n",
    "    uniq_values = df[feature_col].unique()\n",
    "    print(feature_col,uniq_values,len(uniq_values))\n",
    "    #uniq_values = list(df[feature_col].unique())\n",
    "    #print(\"uniq values for \"+feature_col+\": \"+uniq_values)\n",
    "    #print(\"number of uniq values for \"+feature_col+\": \"+len(uniq_values))"
   ]
  },
  {
   "cell_type": "code",
   "execution_count": null,
   "metadata": {
    "collapsed": false
   },
   "outputs": [],
   "source": [
    "df['age']   = pd.to_numeric(df['age'], errors='coerce')\n",
    "with sns.plotting_context('notebook',font_scale=1.5):\n",
    "    sns.set_style('whitegrid')\n",
    "    sns.distplot(df['age'].dropna(),\n",
    "                 bins=50,\n",
    "                 kde=False)"
   ]
  },
  {
   "cell_type": "code",
   "execution_count": null,
   "metadata": {
    "collapsed": false
   },
   "outputs": [],
   "source": [
    "df.isnull().sum()"
   ]
  },
  {
   "cell_type": "code",
   "execution_count": null,
   "metadata": {
    "collapsed": false
   },
   "outputs": [],
   "source": [
    "#df.loc[df.segment.notnull(),:]\n",
    "#print column of mixed type\n",
    "for i in [5,8,11,15]: \n",
    "    print(df.columns[i])"
   ]
  },
  {
   "cell_type": "markdown",
   "metadata": {},
   "source": [
    "for field in ['age','seniority']:#,'customer_relation','deceased']:\n",
    "    df[field]   = pd.to_numeric(df[field], errors='coerce')\n",
    "    with sns.plotting_context('notebook',font_scale=1.5):\n",
    "        sns.set_style('whitegrid')\n",
    "        sns.distplot(df[df[field]>0].dropna(),\n",
    "                     bins=50,\n",
    "                     kde=False)\n",
    "        sns.plt.show()"
   ]
  },
  {
   "cell_type": "code",
   "execution_count": null,
   "metadata": {
    "collapsed": false
   },
   "outputs": [],
   "source": [
    "df.isnull().sum()"
   ]
  },
  {
   "cell_type": "markdown",
   "metadata": {
    "collapsed": false
   },
   "source": [
    "print(len(df))\n",
    "small = str(0)\n",
    "big = str(25000)\n",
    "df = df.loc[df.renta.notnull(),:]\n",
    "\n",
    "\n",
    "#print(len(df))\n",
    "df = df[(df['renta'] > 0) & (df['renta'] < 25000)]\n"
   ]
  },
  {
   "cell_type": "markdown",
   "metadata": {
    "collapsed": false
   },
   "source": [
    "#sns.distplot(df['age'].dropna(),bins=100,kde=False)\n",
    "sns.distplot(df['age'],kde=False)\n",
    "#plt.xscale('log')\n",
    "#sns.plt.title('Age Distribution for Gross Income between ' + small + ' and ' + big)\n",
    "#sns.plt.title('Age Distribution for Gross Income between')\n",
    "\n",
    "#plt.xlabel('Age')\n",
    "#plt.ylabel('Count')\n",
    "plt.show()\n",
    "#plt.savefig('plots/age_'+small+'_'+big +'.png')\n"
   ]
  },
  {
   "cell_type": "code",
   "execution_count": null,
   "metadata": {
    "collapsed": false
   },
   "outputs": [],
   "source": [
    "df['seniority']   = pd.to_numeric(df['seniority'], errors='coerce')\n",
    "###train['antiguedad'] = train['antiguedad'].replace(to_replace=['     NA'], value=np.nan)\n",
    "with sns.plotting_context('notebook',font_scale=1.5):\n",
    "    sns.set_style('whitegrid')\n",
    "    sns.distplot(df[df['seniority']>0]['seniority'].dropna(),\n",
    "                 bins=50,\n",
    "                 kde=False)"
   ]
  },
  {
   "cell_type": "raw",
   "metadata": {
    "collapsed": false
   },
   "source": [
    "\n",
    "with sns.plotting_context('notebook',font_scale=1.5):\n",
    "    sns.set_style('whitegrid')\n",
    "    sns.distplot(df['gross_income'][(df['gross_income']>=0)&(df['gross_income']<1e6)].dropna(),\n",
    "                 bins=100,\n",
    "                 kde=False)\n",
    "    sns.plt.title('Gross income distribution for income less than 1M')\n",
    "    sns.plt.ylabel('count')\n"
   ]
  },
  {
   "cell_type": "code",
   "execution_count": null,
   "metadata": {
    "collapsed": false
   },
   "outputs": [],
   "source": [
    "\n",
    "plt.subplot(1, 2, 1)\n",
    "sns.distplot(df['gross_income'][(df['gross_income']>=0)&(df['gross_income']<1e6)].dropna(),\n",
    "                 bins=100,\n",
    "                 kde=False)\n",
    "plt.title('Gross income distribution for income less than 1M')\n",
    "plt.ylabel('count')\n",
    "plt.subplot(1, 2, 2)\n",
    "sns.distplot(df['gross_income'][(df['gross_income']>=0)&(df['gross_income']>1e6)].dropna(),\n",
    "                 bins=100,\n",
    "                 kde=False)\n",
    "plt.title('Gross income distribution for income greater than 1M')\n",
    "plt.ylabel('count')\n",
    "\n",
    "plt.show()"
   ]
  },
  {
   "cell_type": "code",
   "execution_count": null,
   "metadata": {
    "collapsed": false
   },
   "outputs": [],
   "source": [
    "with sns.plotting_context('notebook',font_scale=1.5):\n",
    "    sns.set_style('whitegrid')\n",
    "    sns.distplot(df['gross_income'][df['gross_income']>1e6].dropna(),\n",
    "                 bins=50,\n",
    "                 kde=False)\n",
    "    sns.plt.title('Very rich people gross income distribution')\n",
    "    sns.plt.ylabel('count')"
   ]
  },
  {
   "cell_type": "code",
   "execution_count": null,
   "metadata": {
    "collapsed": false
   },
   "outputs": [],
   "source": [
    "#study accounts very rich people have\n",
    "header = list(df)\n",
    "print(header[22:])\n",
    "#df_prod = df[header[24:]]\n",
    "df_sum = df[header[22:]][df['gross_income']>1e6].sum()\n",
    "print(df_sum)\n",
    "total_count = df_sum.tolist()\n",
    "print(len(total_count))\n",
    "bar_labels = [i for i in header[22:]]\n",
    "\n",
    "total_count_dict = {'product': bar_labels,\n",
    "                    'total' : total_count}\n",
    "\n",
    "df_bar = pd.DataFrame.from_dict(total_count_dict)\n",
    "df_bar = df_bar[df_bar['total']>0]\n",
    "ax = sns.barplot(x=\"total\", y=\"product\", data=df_bar)\n"
   ]
  },
  {
   "cell_type": "code",
   "execution_count": null,
   "metadata": {
    "collapsed": true
   },
   "outputs": [],
   "source": []
  },
  {
   "cell_type": "markdown",
   "metadata": {
    "collapsed": false
   },
   "source": [
    "#study accounts for people with gross income < 1M\n",
    "header = list(df)\n",
    "print(header[22:])\n",
    "df_sum = df[header[22:]][df['gross_income']<1e6].sum()\n",
    "#print(df_sum)\n",
    "totals = (df_sum.sum())\n",
    "\n",
    "total_count = df_sum.tolist()\n",
    "total_count = [total_count[i]/totals*100 for i in range(len(total_count))]\n",
    "print(total_count)\n",
    "bar_labels = [i for i in header[22:]]\n",
    "\n",
    "total_count_dict = {'product': bar_labels,\n",
    "                    'total' : total_count}\n",
    "\n",
    "df_bar = pd.DataFrame.from_dict(total_count_dict)\n",
    "#df_bar = df_bar[(df_bar['total']>500)&(df_bar['total']<1400000)]\n",
    "\n",
    "ax = sns.barplot(x=\"total\", y=\"product\", data=df_bar).set_xlim(0,10)\n",
    "sns.plt.title('Percentage of product for gross income < 1 M')\n",
    "\n",
    "sns.plt.xlabel('Percentage (%)')\n"
   ]
  },
  {
   "cell_type": "markdown",
   "metadata": {
    "collapsed": false
   },
   "source": [
    "#study accounts very rich people have\n",
    "header = list(df)\n",
    "print(header[22:])\n",
    "#df_prod = df[header[24:]]\n",
    "df_sum = df[header[22:]][df['gross_income']>1e6].sum()\n",
    "print(df_sum)\n",
    "total_count = df_sum.tolist()\n",
    "print(len(total_count))\n",
    "bar_labels = [i for i in header[22:]]\n",
    "\n",
    "total_count_dict = {'product': bar_labels,\n",
    "                    'total' : total_count}\n",
    "\n",
    "df_bar = pd.DataFrame.from_dict(total_count_dict)\n",
    "df_bar = df_bar[(df_bar['total']>0)&(df_bar['total']<3000)]\n",
    "ax = sns.barplot(x=\"total\", y=\"product\", data=df_bar)\n"
   ]
  },
  {
   "cell_type": "code",
   "execution_count": null,
   "metadata": {
    "collapsed": false
   },
   "outputs": [],
   "source": [
    "#===calculate total counts of product\n",
    "def product_sum(df_sum):\n",
    "    totals = (df_sum.sum())\n",
    "\n",
    "    total_count = df_sum.tolist()\n",
    "    total_count = [total_count[i]/totals*100 for i in range(len(total_count))]\n",
    "    #print(total_count)\n",
    "    bar_labels = [i for i in header[22:]]\n",
    "\n",
    "    total_count_dict = {'product': bar_labels,\n",
    "                        'total' : total_count}\n",
    "\n",
    "    df_bar = pd.DataFrame.from_dict(total_count_dict)\n",
    "    return df_bar"
   ]
  },
  {
   "cell_type": "code",
   "execution_count": null,
   "metadata": {
    "collapsed": false
   },
   "outputs": [],
   "source": [
    "#comparing accounts for people with gross income < 1M and > 1M\n",
    "header = list(df)\n",
    "print(header[22:])\n",
    "df_sum1 = df[header[22:]][df['gross_income']<1e6].sum()\n",
    "df_sum2 = df[header[22:]][df['gross_income']>1e6].sum()\n",
    "\n",
    "df_bar1 = product_sum(df_sum1)\n",
    "df_bar2 = product_sum(df_sum2)\n",
    "\n",
    "#print(df_sum)\n",
    "\n",
    "#ax = sns.barplot(x=\"total\", y=\"product\", data=df_bar).set_xlim(0,12)\n",
    "#sns.plt.title('Percentage of product for gross income > 1 M')\n",
    "#sns.plt.xlabel('Percentage (%)')\n",
    "\n",
    "f, (ax1, ax2) = plt.subplots(1,2)\n",
    "sns.barplot(x=\"total\", y=\"product\", data=df_bar1, ax= ax1).set_xlim(0,12)\n",
    "ax1.set_title('Percentage of product for gross income < 1 M')\n",
    "ax1.set_xlabel('Percentage (%)')\n",
    "\n",
    "sns.barplot(x=\"total\", y=\"product\", data=df_bar2, ax= ax2).set_xlim(0,12) \n",
    "ax2.set_title('Percentage of product for gross income > 1 M')\n",
    "ax2.set_xlabel('Percentage (%)')\n"
   ]
  },
  {
   "cell_type": "code",
   "execution_count": null,
   "metadata": {
    "collapsed": false
   },
   "outputs": [],
   "source": [
    "with sns.plotting_context('notebook',font_scale=1.5):\n",
    "    sns.set_style('whitegrid')\n",
    "    sns.distplot(df['gross_income'][df['gross_income']>1e6].dropna(),\n",
    "                 bins=50,\n",
    "                 kde=False)\n",
    "    sns.plt.ylabel('count')"
   ]
  }
 ],
 "metadata": {
  "kernelspec": {
   "display_name": "Python 3",
   "language": "python",
   "name": "python3"
  },
  "language_info": {
   "codemirror_mode": {
    "name": "ipython",
    "version": 3
   },
   "file_extension": ".py",
   "mimetype": "text/x-python",
   "name": "python",
   "nbconvert_exporter": "python",
   "pygments_lexer": "ipython3",
   "version": "3.6.0"
  }
 },
 "nbformat": 4,
 "nbformat_minor": 2
}
