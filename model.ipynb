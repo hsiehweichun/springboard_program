{
 "cells": [
  {
   "cell_type": "code",
   "execution_count": 1,
   "metadata": {
    "collapsed": false
   },
   "outputs": [
    {
     "name": "stdout",
     "output_type": "stream",
     "text": [
      "Populating the interactive namespace from numpy and matplotlib\n"
     ]
    }
   ],
   "source": [
    "import numpy as np\n",
    "import pandas as pd\n",
    "import seaborn as sns\n",
    "import matplotlib.pyplot as plt\n",
    "get_ipython().magic('pylab inline')\n",
    "#get_ipython().magic('matplotlib auto')\n",
    "\n",
    "#pylab.rcParams['figure.figsize'] = (12, 8)\n",
    "#import sys"
   ]
  },
  {
   "cell_type": "code",
   "execution_count": 2,
   "metadata": {
    "collapsed": false
   },
   "outputs": [
    {
     "name": "stderr",
     "output_type": "stream",
     "text": [
      "C:\\Users\\WHsieh\\AppData\\Local\\Continuum\\Anaconda2\\lib\\site-packages\\IPython\\core\\interactiveshell.py:2717: DtypeWarning: Columns (5,8,11,15) have mixed types. Specify dtype option on import or set low_memory=False.\n",
      "  interactivity=interactivity, compiler=compiler, result=result)\n"
     ]
    }
   ],
   "source": [
    "df = pd.read_csv('input/train_20percent.csv',encoding = 'ISO-8859-1')\n",
    "df = df.drop([\"last_date_primary\", \"spouse_idx\"], axis=1)\n",
    "df['age']   = pd.to_numeric(df['age'], errors='coerce')\n",
    "df['seniority']   = pd.to_numeric(df['seniority'], errors='coerce')\n",
    "#remove negative seniority\n",
    "df=df[df['seniority']>0]\n",
    "#save original df as df_save\n",
    "df_raw = df"
   ]
  },
  {
   "cell_type": "code",
   "execution_count": 3,
   "metadata": {
    "collapsed": true
   },
   "outputs": [],
   "source": [
    "#\"isnull()\" is a function that checks if something is NaN or empty. \n",
    "#The \"~\" (tilde) operator negates the following expression. \n",
    "#So we are saying give me a dataframe from your original dataframe but only where the 'data' rows are NOT null.\n",
    "df = df[~df.isnull()]"
   ]
  },
  {
   "cell_type": "code",
   "execution_count": 4,
   "metadata": {
    "collapsed": false
   },
   "outputs": [
    {
     "data": {
      "text/plain": [
       "date                            0\n",
       "id                              0\n",
       "employee_index                  0\n",
       "country_residence               0\n",
       "sex                            16\n",
       "age                             0\n",
       "first_join_date                 0\n",
       "new_customer_index              0\n",
       "seniority                       0\n",
       "primary                         0\n",
       "customer_type                  35\n",
       "customer_relation              35\n",
       "residence_idx                   0\n",
       "foreigner_idx                   0\n",
       "channel                      5076\n",
       "deceased                        0\n",
       "address                         0\n",
       "province_code               13199\n",
       "province_name               13199\n",
       "activity_idx                    0\n",
       "gross_income               533846\n",
       "segment                      5902\n",
       "saving_account                  0\n",
       "guarantees                      0\n",
       "current_account                 0\n",
       "derivada_account                0\n",
       "payroll_account                 0\n",
       "junior_account                  0\n",
       "mas_particular_account          0\n",
       "particular_account              0\n",
       "particular_plus_account         0\n",
       "short-term_deposits             0\n",
       "medium-term_deposits            0\n",
       "long-term_deposits              0\n",
       "e-account                       0\n",
       "funds                           0\n",
       "mortgage                        0\n",
       "pensions                        0\n",
       "loans                           0\n",
       "taxes                           0\n",
       "credit_card                     0\n",
       "securities                      0\n",
       "home_account                    0\n",
       "payroll                        37\n",
       "pensions_1                     37\n",
       "direct_debit                    0\n",
       "dtype: int64"
      ]
     },
     "execution_count": 4,
     "metadata": {},
     "output_type": "execute_result"
    }
   ],
   "source": [
    "#df_now[df_now.isnull()]\n",
    "#df_now.head(10)\n",
    "df.isnull().sum()\n"
   ]
  },
  {
   "cell_type": "code",
   "execution_count": 5,
   "metadata": {
    "collapsed": false
   },
   "outputs": [
    {
     "name": "stdout",
     "output_type": "stream",
     "text": [
      "[1.0 2.0 3.0 u'1.0' u'1' u'2.0' u'2' u'3.0' nan u'3']\n",
      "[u'A' u'I' u'P' nan]\n"
     ]
    }
   ],
   "source": [
    "df.head(0)\n",
    "for field in ['customer_type','customer_relation']:\n",
    "    print(df[field].unique())\n"
   ]
  },
  {
   "cell_type": "code",
   "execution_count": 6,
   "metadata": {
    "collapsed": false
   },
   "outputs": [],
   "source": [
    "#dropna can remove nan, isnull finds NaN, empty\n",
    "df = df.dropna(axis=0)\n",
    "df.head()\n",
    "df.isnull().sum()\n",
    "df_clean = df"
   ]
  },
  {
   "cell_type": "code",
   "execution_count": 7,
   "metadata": {
    "collapsed": false
   },
   "outputs": [
    {
     "name": "stdout",
     "output_type": "stream",
     "text": [
      "<class 'pandas.core.frame.DataFrame'>\n",
      "Int64Index: 2158888 entries, 0 to 2729459\n",
      "Data columns (total 46 columns):\n",
      "date                       object\n",
      "id                         int64\n",
      "employee_index             object\n",
      "country_residence          object\n",
      "sex                        object\n",
      "age                        float64\n",
      "first_join_date            object\n",
      "new_customer_index         float64\n",
      "seniority                  float64\n",
      "primary                    float64\n",
      "customer_type              object\n",
      "customer_relation          object\n",
      "residence_idx              object\n",
      "foreigner_idx              object\n",
      "channel                    object\n",
      "deceased                   object\n",
      "address                    float64\n",
      "province_code              float64\n",
      "province_name              object\n",
      "activity_idx               float64\n",
      "gross_income               float64\n",
      "segment                    object\n",
      "saving_account             int64\n",
      "guarantees                 int64\n",
      "current_account            int64\n",
      "derivada_account           int64\n",
      "payroll_account            int64\n",
      "junior_account             int64\n",
      "mas_particular_account     int64\n",
      "particular_account         int64\n",
      "particular_plus_account    int64\n",
      "short-term_deposits        int64\n",
      "medium-term_deposits       int64\n",
      "long-term_deposits         int64\n",
      "e-account                  int64\n",
      "funds                      int64\n",
      "mortgage                   int64\n",
      "pensions                   int64\n",
      "loans                      int64\n",
      "taxes                      int64\n",
      "credit_card                int64\n",
      "securities                 int64\n",
      "home_account               int64\n",
      "payroll                    float64\n",
      "pensions_1                 float64\n",
      "direct_debit               int64\n",
      "dtypes: float64(10), int64(23), object(13)\n",
      "memory usage: 774.1+ MB\n"
     ]
    }
   ],
   "source": [
    "df.info()"
   ]
  },
  {
   "cell_type": "code",
   "execution_count": 8,
   "metadata": {
    "collapsed": false
   },
   "outputs": [
    {
     "name": "stdout",
     "output_type": "stream",
     "text": [
      "('date', array([u'2015-01-28', u'2015-02-28', u'2015-03-28', u'2015-04-28',\n",
      "       u'2015-05-28', u'2015-06-28', u'2015-07-28', u'2015-08-28',\n",
      "       u'2015-09-28', u'2015-10-28', u'2015-11-28', u'2015-12-28',\n",
      "       u'2016-01-28', u'2016-02-28', u'2016-03-28', u'2016-04-28',\n",
      "       u'2016-05-28'], dtype=object), 17)\n",
      "('id', array([1375586, 1050617, 1050582, ..., 1166623, 1166617, 1166842], dtype=int64), 677181)\n",
      "('employee_index', array([u'N', u'A', u'F', u'B', u'S'], dtype=object), 5)\n",
      "('country_residence', array([u'ES', u'IT', u'BO', u'PY', u'DE'], dtype=object), 5)\n",
      "('sex', array([u'H', u'V'], dtype=object), 2)\n",
      "('age', array([  35.,   23.,   28.,   25.,   30.,   44.,   27.,   26.,   36.,\n",
      "         22.,   33.,   24.,   32.,   37.,   42.,   57.,   31.,   12.,\n",
      "          6.,   77.,   29.,   54.,   52.,   59.,   46.,   39.,   43.,\n",
      "         51.,   16.,   48.,   40.,   53.,   73.,   47.,   34.,   17.,\n",
      "         96.,   49.,   79.,    8.,   11.,   86.,   58.,    9.,   63.,\n",
      "         64.,   50.,   41.,   62.,   38.,   10.,   20.,   15.,   18.,\n",
      "         67.,   60.,   55.,   21.,   61.,   56.,   82.,   65.,   45.,\n",
      "         78.,   75.,   72.,   66.,   69.,   91.,   87.,   92.,   71.,\n",
      "         84.,   70.,    7.,   94.,    5.,   83.,   98.,   68.,   14.,\n",
      "         76.,   88.,   85.,   74.,   99.,   13.,   89.,   81.,   80.,\n",
      "         19.,    4.,   95.,   90.,  106.,   93.,   97.,  103.,    2.,\n",
      "          3.,  104.,  102.,  105.,  107.,  116.,  101.,  108.,  100.,\n",
      "        115.,  111.,  110.,  113.,  112.,  109.,  127.,  114.,  117.]), 117)\n",
      "('first_join_date', array([u'2015-01-12', u'2012-08-10', u'2012-08-16', ..., u'2011-11-06',\n",
      "       u'2012-06-02', u'2013-06-09'], dtype=object), 6447)\n",
      "('new_customer_index', array([ 0.,  1.]), 2)\n",
      "('seniority', array([   6.,   35.,   33.,   34.,   13.,   29.,   10.,   25.,   12.,\n",
      "         21.,    4.,   18.,   32.,   20.,    8.,   27.,  157.,   24.,\n",
      "         17.,   36.,   40.,   31.,   38.,   28.,   37.,   39.,   11.,\n",
      "          7.,   15.,   16.,    9.,   23.,   30.,   19.,    5.,   22.,\n",
      "         26.,   14.,   47.,   46.,   45.,   57.,   52.,   58.,   56.,\n",
      "         55.,   53.,   59.,   51.,   42.,   43.,   54.,   49.,   50.,\n",
      "         44.,   41.,   62.,   61.,   63.,   60.,   48.,    3.,    2.,\n",
      "          1.,  165.,  164.,  128.,  118.,   72.,  107.,  102.,  135.,\n",
      "        159.,  140.,  162.,   66.,  117.,  161.,   78.,  163.,  144.,\n",
      "        158.,   85.,  116.,  137.,  160.,  115.,  112.,  132.,   79.,\n",
      "        166.,  121.,  149.,  138.,  169.,   84.,   65.,  125.,  134.,\n",
      "        127.,   77.,  139.,   64.,  136.,   80.,  142.,  123.,  150.,\n",
      "         81.,  129.,  156.,  101.,  113.,  217.,  143.,  111.,  153.,\n",
      "        167.,   76.,   92.,  154.,  209.,  216.,   83.,  109.,  168.,\n",
      "        146.,   89.,   96.,   88.,   94.,  141.,  110.,  133.,  148.,\n",
      "        145.,   82.,  199.,  147.,  151.,  119.,  122.,  106.,   99.,\n",
      "        130.,  178.,   95.,   91.,  114.,  103.,  155.,  152.,   67.,\n",
      "        185.,  124.,  195.,  126.,   93.,   98.,  104.,  100.,   87.,\n",
      "         86.,  108.,  180.,  170.,  171.,  172.,  176.,  214.,  131.,\n",
      "        174.,  173.,   75.,  120.,  201.,  188.,  227.,  193.,  105.,\n",
      "         73.,  175.,  184.,  183.,  179.,   69.,  177.,   68.,   70.,\n",
      "         74.,   90.,  205.,   97.,  187.,   71.,  233.,  235.,  189.,\n",
      "        192.,  222.,  208.,  196.,  211.,  202.,  206.,  210.,  198.,\n",
      "        212.,  200.,  228.,  223.,  207.,  186.,  197.,  194.,  181.,\n",
      "        213.,  190.,  220.,  218.,  203.,  204.,  215.,  225.,  224.,\n",
      "        221.,  229.,  182.,  226.,  191.,  231.,  232.,  230.,  234.,\n",
      "        219.,  244.,  242.,  241.,  239.,  238.,  240.,  236.,  237.,\n",
      "        243.,  246.,  245.,  247.,  248.,  249.,  250.,  251.,  252.,\n",
      "        253.,  254.,  255.,  256.]), 256)\n",
      "('primary', array([  1.,  99.]), 2)\n",
      "('customer_type', array([1.0, u'1.0', u'1', u'3.0', 3.0], dtype=object), 5)\n",
      "('customer_relation', array([u'A', u'I', u'P'], dtype=object), 3)\n",
      "('residence_idx', array([u'S', u'N'], dtype=object), 2)\n",
      "('foreigner_idx', array([u'N', u'S'], dtype=object), 2)\n",
      "('channel', array([u'KHL', u'KHE', u'KFC', u'KAT', u'KHD', u'KFA', u'KHC', u'KAZ',\n",
      "       u'RED', u'KDH', u'KAD', u'KHK', u'KEH', u'KGC', u'KFD', u'KFK',\n",
      "       u'KFG', u'KAR', u'KAB', u'KAE', u'KAA', u'KAH', u'KCC', u'KFJ',\n",
      "       u'KGV', u'KAQ', u'KAG', u'KFP', u'KAP', u'KFS', u'KAJ', u'KFF',\n",
      "       u'KGX', u'KFU', u'KFN', u'KDE', u'KAI', u'KHF', u'KAK', u'KBG',\n",
      "       u'KHN', u'KAY', u'KDR', u'KES', u'013', u'KDA', u'KDO', u'KCG',\n",
      "       u'KBZ', u'KCK', u'007', u'KEU', u'KCL', u'KBQ', u'KBU', u'KCA',\n",
      "       u'KAW', u'KDT', u'KBO', u'KEC', u'KCB', u'KDU', u'KAF', u'KAC',\n",
      "       u'KCH', u'KDY', u'KBL', u'KCD', u'KEA', u'KAS', u'KDV', u'KAL',\n",
      "       u'KBH', u'KDQ', u'KCM', u'KFT', u'KEI', u'KCS', u'KEY', u'KCN',\n",
      "       u'KCI', u'KBV', u'KBR', u'KCO', u'KDP', u'KBF', u'KBX', u'KCU',\n",
      "       u'KBS', u'KBW', u'KCF', u'KBD', u'KBE', u'KDX', u'KDS', u'KDC',\n",
      "       u'KDF', u'KDG', u'KAM', u'KCE', u'KBY', u'KCP', u'KDD', u'KEF',\n",
      "       u'KEB', u'KEZ', u'KDM', u'004', u'KEV', u'KDW', u'KBJ', u'KEW',\n",
      "       u'KEG', u'KEJ', u'KBB', u'KEL', u'KFH', u'KEQ', u'KAU', u'KED',\n",
      "       u'KAO', u'KEN', u'KGW', u'KFI', u'KGY', u'KFM', u'KFE', u'KBM',\n",
      "       u'KAN', u'KCR', u'KCQ', u'KDN', u'KEK', u'K00', u'KEO', u'KCJ',\n",
      "       u'KAV', u'KFV', u'KCV', u'KHM', u'KHO', u'KFB', u'KEM', u'KFL',\n",
      "       u'KCX', u'KBP', u'KDZ', u'KHA', u'KHQ', u'KDB', u'KEE', u'KDL',\n",
      "       u'KBN', u'KCT', u'KGU', u'KHP', u'KDI'], dtype=object), 157)\n",
      "('deceased', array([u'N', u'S'], dtype=object), 2)\n",
      "('address', array([ 1.]), 1)\n",
      "('province_code', array([ 29.,  50.,  13.,   5.,   3.,  39.,   7.,  28.,  44.,  27.,  23.,\n",
      "        45.,   8.,  10.,  46.,  37.,  15.,  11.,   6.,   2.,  17.,  34.,\n",
      "         9.,  49.,  36.,  21.,  14.,  25.,  33.,  41.,  47.,  19.,  30.,\n",
      "        24.,  43.,  26.,  16.,  32.,  12.,  22.,  40.,  18.,  35.,  51.,\n",
      "        42.,   4.,  38.,  52.,  31.,  20.,  48.,   1.]), 52)\n",
      "('province_name', array([u'MALAGA', u'ZARAGOZA', u'CIUDAD REAL', u'AVILA', u'ALICANTE',\n",
      "       u'CANTABRIA', u'BALEARS, ILLES', u'MADRID', u'TERUEL', u'LUGO',\n",
      "       u'JAEN', u'TOLEDO', u'BARCELONA', u'CACERES', u'VALENCIA',\n",
      "       u'SALAMANCA', u'CORU\\xc3?A, A', u'CADIZ', u'BADAJOZ', u'ALBACETE',\n",
      "       u'GIRONA', u'PALENCIA', u'BURGOS', u'ZAMORA', u'PONTEVEDRA',\n",
      "       u'HUELVA', u'CORDOBA', u'LERIDA', u'ASTURIAS', u'SEVILLA',\n",
      "       u'VALLADOLID', u'GUADALAJARA', u'MURCIA', u'LEON', u'TARRAGONA',\n",
      "       u'RIOJA, LA', u'CUENCA', u'OURENSE', u'CASTELLON', u'HUESCA',\n",
      "       u'SEGOVIA', u'GRANADA', u'PALMAS, LAS', u'CEUTA', u'SORIA',\n",
      "       u'ALMERIA', u'SANTA CRUZ DE TENERIFE', u'MELILLA', u'NAVARRA',\n",
      "       u'GIPUZKOA', u'BIZKAIA', u'ALAVA'], dtype=object), 52)\n",
      "('activity_idx', array([ 1.,  0.]), 2)\n",
      "('gross_income', array([  87218.1 ,  113316.66,   64620.57, ...,  205435.11,   61602.45,\n",
      "        341512.35]), 501780)\n",
      "('segment', array([u'02 - PARTICULARES', u'03 - UNIVERSITARIO', u'01 - TOP'], dtype=object), 3)\n"
     ]
    }
   ],
   "source": [
    "feature_cols =['date', 'id', 'employee_index', 'country_residence', 'sex', 'age',\n",
    "       'first_join_date', 'new_customer_index', 'seniority', 'primary',\n",
    "       'customer_type', 'customer_relation', 'residence_idx', 'foreigner_idx',\n",
    "       'channel', 'deceased', 'address', 'province_code', 'province_name',\n",
    "       'activity_idx', 'gross_income', 'segment']\n",
    "for ind, feature_col in enumerate(feature_cols):\n",
    "    uniq_values = df[feature_col].unique()\n",
    "    print(feature_col,uniq_values,len(uniq_values))"
   ]
  },
  {
   "cell_type": "code",
   "execution_count": 9,
   "metadata": {
    "collapsed": false
   },
   "outputs": [
    {
     "name": "stdout",
     "output_type": "stream",
     "text": [
      "['date', 'employee_index', 'country_residence', 'sex', 'first_join_date', 'new_customer_index', 'seniority', 'customer_relation', 'residence_idx', 'foreigner_idx', 'channel', 'deceased', 'province_name', 'segment']\n"
     ]
    }
   ],
   "source": [
    "df = df_clean\n",
    "\n",
    "from sklearn import preprocessing\n",
    "le = preprocessing.LabelEncoder()\n",
    "feature_cols =['date', 'id', 'employee_index', 'country_residence', 'sex', 'age',\n",
    "       'first_join_date', 'new_customer_index', 'seniority', 'primary',\n",
    "       'customer_type', 'customer_relation', 'residence_idx', 'foreigner_idx',\n",
    "       'channel', 'deceased', 'address', 'province_code', 'province_name',\n",
    "       'activity_idx', 'gross_income', 'segment']\n",
    "\n",
    "feature_category_cols = feature_cols\n",
    "feature_category_cols.remove('id')\n",
    "feature_category_cols.remove('age')\n",
    "feature_category_cols.remove('primary')\n",
    "feature_category_cols.remove('activity_idx')\n",
    "feature_category_cols.remove('customer_type')\n",
    "feature_category_cols.remove('province_code')\n",
    "feature_category_cols.remove('address')\n",
    "feature_category_cols.remove('gross_income')\n",
    "print(feature_category_cols)\n",
    "for ind, feature_col in enumerate(feature_category_cols):\n",
    "    le.fit(df[feature_col]) \n",
    "    df[feature_col]=le.transform(df[feature_col])"
   ]
  },
  {
   "cell_type": "raw",
   "metadata": {
    "collapsed": false
   },
   "source": [
    "from sklearn import preprocessing\n",
    "le = preprocessing.LabelEncoder()\n",
    "le.fit(df['customer_relation']) "
   ]
  },
  {
   "cell_type": "raw",
   "metadata": {
    "collapsed": false
   },
   "source": [
    "le.classes_\n",
    "df['customer_relation']=le.transform(df['customer_relation'])"
   ]
  },
  {
   "cell_type": "raw",
   "metadata": {
    "collapsed": false
   },
   "source": [
    "le.classes_\n",
    "le.inverse_transform([0, 0, 1, 2])"
   ]
  },
  {
   "cell_type": "code",
   "execution_count": 10,
   "metadata": {
    "collapsed": false
   },
   "outputs": [
    {
     "data": {
      "text/plain": [
       "Index([u'date', u'id', u'employee_index', u'country_residence', u'sex', u'age',\n",
       "       u'first_join_date', u'new_customer_index', u'seniority', u'primary',\n",
       "       u'customer_type', u'customer_relation', u'residence_idx',\n",
       "       u'foreigner_idx', u'channel', u'deceased', u'address', u'province_code',\n",
       "       u'province_name', u'activity_idx', u'gross_income', u'segment',\n",
       "       u'saving_account', u'guarantees', u'current_account',\n",
       "       u'derivada_account', u'payroll_account', u'junior_account',\n",
       "       u'mas_particular_account', u'particular_account',\n",
       "       u'particular_plus_account', u'short-term_deposits',\n",
       "       u'medium-term_deposits', u'long-term_deposits', u'e-account', u'funds',\n",
       "       u'mortgage', u'pensions', u'loans', u'taxes', u'credit_card',\n",
       "       u'securities', u'home_account', u'payroll', u'pensions_1',\n",
       "       u'direct_debit'],\n",
       "      dtype='object')"
      ]
     },
     "execution_count": 10,
     "metadata": {},
     "output_type": "execute_result"
    }
   ],
   "source": [
    "\n",
    "df.columns"
   ]
  },
  {
   "cell_type": "code",
   "execution_count": 11,
   "metadata": {
    "collapsed": false
   },
   "outputs": [
    {
     "data": {
      "text/plain": [
       "2158888"
      ]
     },
     "execution_count": 11,
     "metadata": {},
     "output_type": "execute_result"
    }
   ],
   "source": [
    "df_encoder = df\n",
    "df.columns\n",
    "#cols_to_transform = [ 'date','employee_index', 'country_residence', 'first_join_date', 'sex', \n",
    "#'customer_type', 'customer_relation', 'residence_idx', 'foreigner_idx','channel', 'deceased','province_name','segment' ]\n",
    "\n",
    "#df_with_dummies = pd.get_dummies(df, columns = cols_to_transform )\n",
    "#df_with_dummies.head()\n",
    "#df2 = df.drop(cols_to_transform, axis=1)\n",
    "\n",
    "#len(df2)\n",
    "df2 = df\n",
    "df2.drop('id', axis =1)\n",
    "len(df2)"
   ]
  },
  {
   "cell_type": "markdown",
   "metadata": {
    "collapsed": true
   },
   "source": [
    "#Setting up the Data\n",
    "\n",
    "**Set up our data for our Random Forest Classification Model**\n"
   ]
  },
  {
   "cell_type": "code",
   "execution_count": 17,
   "metadata": {
    "collapsed": false
   },
   "outputs": [
    {
     "name": "stdout",
     "output_type": "stream",
     "text": [
      "('=================result for ', 'saving_account')\n",
      "[[647601      0]\n",
      " [    38     28]]\n",
      "             precision    recall  f1-score   support\n",
      "\n",
      "          0       1.00      1.00      1.00    647601\n",
      "          1       1.00      0.42      0.60        66\n",
      "\n",
      "avg / total       1.00      1.00      1.00    647667\n",
      "\n",
      "--- 5.82118333181 seconds ---\n",
      "('=================result for ', 'guarantees')\n",
      "[[647650      0]\n",
      " [     5     12]]\n",
      "             precision    recall  f1-score   support\n",
      "\n",
      "          0       1.00      1.00      1.00    647650\n",
      "          1       1.00      0.71      0.83        17\n",
      "\n",
      "avg / total       1.00      1.00      1.00    647667\n",
      "\n",
      "--- 4.9501000007 seconds ---\n",
      "('=================result for ', 'current_account')\n",
      "[[168970  53879]\n",
      " [ 30091 394727]]\n",
      "             precision    recall  f1-score   support\n",
      "\n",
      "          0       0.85      0.76      0.80    222849\n",
      "          1       0.88      0.93      0.90    424818\n",
      "\n",
      "avg / total       0.87      0.87      0.87    647667\n",
      "\n",
      "--- 16.374150002 seconds ---\n",
      "('=================result for ', 'derivada_account')\n",
      "[[647384      2]\n",
      " [   204     77]]\n",
      "             precision    recall  f1-score   support\n",
      "\n",
      "          0       1.00      1.00      1.00    647386\n",
      "          1       0.97      0.27      0.43       281\n",
      "\n",
      "avg / total       1.00      1.00      1.00    647667\n",
      "\n",
      "--- 7.34169999758 seconds ---\n",
      "('=================result for ', 'payroll_account')\n",
      "[[587785   3067]\n",
      " [ 27271  29544]]\n",
      "             precision    recall  f1-score   support\n",
      "\n",
      "          0       0.96      0.99      0.97    590852\n",
      "          1       0.91      0.52      0.66     56815\n",
      "\n",
      "avg / total       0.95      0.95      0.95    647667\n",
      "\n",
      "--- 13.8882000009 seconds ---\n",
      "('=================result for ', 'junior_account')\n",
      "[[640939    165]\n",
      " [   110   6453]]\n",
      "             precision    recall  f1-score   support\n",
      "\n",
      "          0       1.00      1.00      1.00    641104\n",
      "          1       0.98      0.98      0.98      6563\n",
      "\n",
      "avg / total       1.00      1.00      1.00    647667\n",
      "\n",
      "--- 6.22861666679 seconds ---\n",
      "('=================result for ', 'mas_particular_account')\n",
      "[[641267    396]\n",
      " [  2377   3627]]\n",
      "             precision    recall  f1-score   support\n",
      "\n",
      "          0       1.00      1.00      1.00    641663\n",
      "          1       0.90      0.60      0.72      6004\n",
      "\n",
      "avg / total       1.00      1.00      1.00    647667\n",
      "\n",
      "--- 11.453733333 seconds ---\n",
      "('=================result for ', 'particular_account')\n",
      "[[547671  10592]\n",
      " [ 24089  65315]]\n",
      "             precision    recall  f1-score   support\n",
      "\n",
      "          0       0.96      0.98      0.97    558263\n",
      "          1       0.86      0.73      0.79     89404\n",
      "\n",
      "avg / total       0.94      0.95      0.94    647667\n",
      "\n",
      "--- 11.0278500001 seconds ---\n",
      "('=================result for ', 'particular_plus_account')\n",
      "[[615558   1558]\n",
      " [ 14954  15597]]\n",
      "             precision    recall  f1-score   support\n",
      "\n",
      "          0       0.98      1.00      0.99    617116\n",
      "          1       0.91      0.51      0.65     30551\n",
      "\n",
      "avg / total       0.97      0.97      0.97    647667\n",
      "\n",
      "--- 10.5924999992 seconds ---\n",
      "('=================result for ', 'short-term_deposits')\n",
      "[[646524     88]\n",
      " [   802    253]]\n",
      "             precision    recall  f1-score   support\n",
      "\n",
      "          0       1.00      1.00      1.00    646612\n",
      "          1       0.74      0.24      0.36      1055\n",
      "\n",
      "avg / total       1.00      1.00      1.00    647667\n",
      "\n",
      "--- 10.2359500011 seconds ---\n",
      "('=================result for ', 'medium-term_deposits')\n",
      "[[646498      7]\n",
      " [   867    295]]\n",
      "             precision    recall  f1-score   support\n",
      "\n",
      "          0       1.00      1.00      1.00    646505\n",
      "          1       0.98      0.25      0.40      1162\n",
      "\n",
      "avg / total       1.00      1.00      1.00    647667\n",
      "\n",
      "--- 8.04213333527 seconds ---\n",
      "('=================result for ', 'long-term_deposits')\n",
      "[[614935   2324]\n",
      " [ 14047  16361]]\n",
      "             precision    recall  f1-score   support\n",
      "\n",
      "          0       0.98      1.00      0.99    617259\n",
      "          1       0.88      0.54      0.67     30408\n",
      "\n",
      "avg / total       0.97      0.97      0.97    647667\n",
      "\n",
      "--- 10.5830833316 seconds ---\n",
      "('=================result for ', 'e-account')\n",
      "[[585608   3691]\n",
      " [ 25567  32801]]\n",
      "             precision    recall  f1-score   support\n",
      "\n",
      "          0       0.96      0.99      0.98    589299\n",
      "          1       0.90      0.56      0.69     58368\n",
      "\n",
      "avg / total       0.95      0.95      0.95    647667\n",
      "\n",
      "--- 13.6915166696 seconds ---\n",
      "('=================result for ', 'funds')\n",
      "[[634471    298]\n",
      " [  7156   5742]]\n",
      "             precision    recall  f1-score   support\n",
      "\n",
      "          0       0.99      1.00      0.99    634769\n",
      "          1       0.95      0.45      0.61     12898\n",
      "\n",
      "avg / total       0.99      0.99      0.99    647667\n",
      "\n",
      "--- 9.57751666705 seconds ---\n",
      "('=================result for ', 'mortgage')\n",
      "[[643477     17]\n",
      " [  2508   1665]]\n",
      "             precision    recall  f1-score   support\n",
      "\n",
      "          0       1.00      1.00      1.00    643494\n",
      "          1       0.99      0.40      0.57      4173\n",
      "\n",
      "avg / total       1.00      1.00      1.00    647667\n",
      "\n",
      "--- 7.35981666644 seconds ---\n",
      "('=================result for ', 'pensions')\n",
      "[[641060     33]\n",
      " [  4057   2517]]\n",
      "             precision    recall  f1-score   support\n",
      "\n",
      "          0       0.99      1.00      1.00    641093\n",
      "          1       0.99      0.38      0.55      6574\n",
      "\n",
      "avg / total       0.99      0.99      0.99    647667\n",
      "\n",
      "--- 8.8324666659 seconds ---\n",
      "('=================result for ', 'loans')\n",
      "[[645955     25]\n",
      " [   584   1103]]\n",
      "             precision    recall  f1-score   support\n",
      "\n",
      "          0       1.00      1.00      1.00    645980\n",
      "          1       0.98      0.65      0.78      1687\n",
      "\n",
      "avg / total       1.00      1.00      1.00    647667\n",
      "\n",
      "--- 8.52934999863 seconds ---\n",
      "('=================result for ', 'taxes')\n",
      "[[609798    721]\n",
      " [ 20736  16412]]\n",
      "             precision    recall  f1-score   support\n",
      "\n",
      "          0       0.97      1.00      0.98    610519\n",
      "          1       0.96      0.44      0.60     37148\n",
      "\n",
      "avg / total       0.97      0.97      0.96    647667\n",
      "\n",
      "--- 13.1044999997 seconds ---\n",
      "('=================result for ', 'credit_card')\n",
      "[[614069   1957]\n",
      " [ 19449  12192]]\n",
      "             precision    recall  f1-score   support\n",
      "\n",
      "          0       0.97      1.00      0.98    616026\n",
      "          1       0.86      0.39      0.53     31641\n",
      "\n",
      "avg / total       0.96      0.97      0.96    647667\n",
      "\n",
      "--- 10.8641499996 seconds ---\n",
      "('=================result for ', 'securities')\n",
      "[[629816    384]\n",
      " [  9714   7753]]\n",
      "             precision    recall  f1-score   support\n",
      "\n",
      "          0       0.98      1.00      0.99    630200\n",
      "          1       0.95      0.44      0.61     17467\n",
      "\n",
      "avg / total       0.98      0.98      0.98    647667\n",
      "\n",
      "--- 10.2127000014 seconds ---\n",
      "('=================result for ', 'home_account')\n",
      "[[644959      3]\n",
      " [  1824    881]]\n",
      "             precision    recall  f1-score   support\n",
      "\n",
      "          0       1.00      1.00      1.00    644962\n",
      "          1       1.00      0.33      0.49      2705\n",
      "\n",
      "avg / total       1.00      1.00      1.00    647667\n",
      "\n",
      "--- 8.16254999638 seconds ---\n",
      "('=================result for ', 'payroll')\n",
      "[[606560   2519]\n",
      " [ 22042  16546]]\n",
      "             precision    recall  f1-score   support\n",
      "\n",
      "        0.0       0.96      1.00      0.98    609079\n",
      "        1.0       0.87      0.43      0.57     38588\n",
      "\n",
      "avg / total       0.96      0.96      0.96    647667\n",
      "\n",
      "--- 11.7395833333 seconds ---\n",
      "('=================result for ', 'pensions_1')\n",
      "[[602795   2625]\n",
      " [ 24606  17641]]\n",
      "             precision    recall  f1-score   support\n",
      "\n",
      "        0.0       0.96      1.00      0.98    605420\n",
      "        1.0       0.87      0.42      0.56     42247\n",
      "\n",
      "avg / total       0.95      0.96      0.95    647667\n",
      "\n",
      "--- 12.0402333339 seconds ---\n",
      "('=================result for ', 'direct_debit')\n",
      "[[546846  11415]\n",
      " [ 31148  58258]]\n",
      "             precision    recall  f1-score   support\n",
      "\n",
      "          0       0.95      0.98      0.96    558261\n",
      "          1       0.84      0.65      0.73     89406\n",
      "\n",
      "avg / total       0.93      0.93      0.93    647667\n",
      "\n",
      "--- 13.4286000013 seconds ---\n"
     ]
    }
   ],
   "source": [
    "from sklearn.model_selection import train_test_split\n",
    "target_cols =['saving_account',\n",
    "       'guarantees', 'current_account', 'derivada_account', 'payroll_account',\n",
    "       'junior_account', 'mas_particular_account', 'particular_account',\n",
    "       'particular_plus_account', 'short-term_deposits',\n",
    "       'medium-term_deposits', 'long-term_deposits', 'e-account', 'funds',\n",
    "       'mortgage', 'pensions', 'loans', 'taxes', 'credit_card', 'securities',\n",
    "       'home_account', 'payroll', 'pensions_1', 'direct_debit']\n",
    "X = df2.drop(target_cols,axis=1)\n",
    "\n",
    "import time\n",
    "\n",
    "for target_col in target_cols:\n",
    "    start_time = time.time()\n",
    "    #y = df2['taxes']\n",
    "    y = df2[target_col]\n",
    "    #y = df2[target_cols]\n",
    "    X_train, X_test, y_train, y_test = train_test_split(X, y, test_size=0.30)#, random_state=101)\n",
    "    from sklearn.ensemble import RandomForestClassifier\n",
    "    rfc = RandomForestClassifier(n_estimators=100)\n",
    "    rfc.fit(X_train,y_train)\n",
    "    predictions = rfc.predict(X_test)\n",
    "    from sklearn.metrics import classification_report,confusion_matrix\n",
    "    print(\"=================result for \",target_col)\n",
    "    print(confusion_matrix(y_test,predictions))\n",
    "    print(classification_report(y_test,predictions))\n",
    "\n",
    "    print(\"--- %s seconds ---\" % ((time.time() - start_time)/60.) )"
   ]
  },
  {
   "cell_type": "raw",
   "metadata": {
    "collapsed": false
   },
   "source": [
    "from sklearn.ensemble import RandomForestClassifier\n",
    "rfc = RandomForestClassifier(n_estimators=100)\n",
    "rfc.fit(X_train,y_train)\n",
    "predictions = rfc.predict(X_test)\n",
    "from sklearn.metrics import classification_report,confusion_matrix\n",
    "print(confusion_matrix(y_test,predictions))"
   ]
  },
  {
   "cell_type": "raw",
   "metadata": {
    "collapsed": false
   },
   "source": [
    "print(classification_report(y_test,predictions))"
   ]
  },
  {
   "cell_type": "raw",
   "metadata": {
    "collapsed": false
   },
   "source": [
    "df2.info()"
   ]
  }
 ],
 "metadata": {
  "kernelspec": {
   "display_name": "Python 2",
   "language": "python",
   "name": "python2"
  },
  "language_info": {
   "codemirror_mode": {
    "name": "ipython",
    "version": 2
   },
   "file_extension": ".py",
   "mimetype": "text/x-python",
   "name": "python",
   "nbconvert_exporter": "python",
   "pygments_lexer": "ipython2",
   "version": "2.7.13"
  }
 },
 "nbformat": 4,
 "nbformat_minor": 2
}
