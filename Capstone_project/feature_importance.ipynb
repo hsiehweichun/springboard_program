{
 "cells": [
  {
   "cell_type": "markdown",
   "metadata": {
    "_cell_guid": "21f50306-d681-a7ba-408a-81798163de78"
   },
   "source": [
    "# Feature importance\n",
    "\n",
    "I will explore the importance of the features using Univariate. Plan of attck is as follows:\n",
    "1. Reduce training data set down to last month only (i.e. May 2016)\n",
    "2. Clean data\n",
    "3. Split up the 24 products and compute feature importance for each product\n",
    "4. Summarise findings\n",
    "\n",
    "This is my first attempt to compute feature importance, any comments and suggestions are welcome.\n",
    "\n",
    "**_If you find this notebook useful, I shall be grateful for any upvote :)_**"
   ]
  },
  {
   "cell_type": "markdown",
   "metadata": {
    "_cell_guid": "e45d2ee6-8768-5484-baf8-0b3ff19c806f"
   },
   "source": [
    "## 1) Reduce training data set to last month"
   ]
  },
  {
   "cell_type": "code",
   "execution_count": 1,
   "metadata": {
    "_cell_guid": "49b6ee19-b833-8282-76a2-9f6480546097",
    "collapsed": true
   },
   "outputs": [],
   "source": [
    "f = open('./input/train_ver2.csv','r')\n",
    "g = open('last_month.csv','w')\n",
    "\n",
    "for line in f:\n",
    "    date = line[:10]\n",
    "    if date == '2016-05-28':\n",
    "        g.write(line)"
   ]
  },
  {
   "cell_type": "code",
   "execution_count": 2,
   "metadata": {
    "_cell_guid": "f08a686c-6934-af8b-3ed0-8f2ae631f2f1",
    "collapsed": true
   },
   "outputs": [],
   "source": [
    "with open('../input/train_ver2.csv', 'r') as f:\n",
    "    cols = f.readline().split(',')"
   ]
  },
  {
   "cell_type": "code",
   "execution_count": 3,
   "metadata": {
    "_cell_guid": "39038634-89de-7e54-07d7-497d73c02e59",
    "collapsed": true
   },
   "outputs": [],
   "source": [
    "cols = [s.replace('\"', '') for s in cols]"
   ]
  },
  {
   "cell_type": "markdown",
   "metadata": {
    "_cell_guid": "59000690-17b4-09a3-f4fd-a435ce45fc02"
   },
   "source": [
    "## 2) Data Cleaning"
   ]
  },
  {
   "cell_type": "code",
   "execution_count": 4,
   "metadata": {
    "_cell_guid": "26d1089a-0f71-fce8-aa7d-72868233c3fa",
    "collapsed": true
   },
   "outputs": [],
   "source": [
    "import numpy as np\n",
    "import pandas as pd"
   ]
  },
  {
   "cell_type": "code",
   "execution_count": 5,
   "metadata": {
    "_cell_guid": "53850349-2e7f-dbdc-a808-72120cfdda00",
    "collapsed": true
   },
   "outputs": [],
   "source": [
    "df = pd.read_csv('last_month.csv',dtype={'indrel_1mes': str, 'conyuemp':str},names=cols)"
   ]
  },
  {
   "cell_type": "code",
   "execution_count": 6,
   "metadata": {
    "_cell_guid": "0b0ff7a5-c2d1-f7c4-1c87-cec008470a16",
    "collapsed": true
   },
   "outputs": [],
   "source": [
    "df_features = df.iloc[:,:24]"
   ]
  },
  {
   "cell_type": "code",
   "execution_count": 7,
   "metadata": {
    "_cell_guid": "6f7bc9f7-1ea5-024e-7abd-78c9c392a167",
    "collapsed": false
   },
   "outputs": [
    {
     "data": {
      "text/html": [
       "<div>\n",
       "<table border=\"1\" class=\"dataframe\">\n",
       "  <thead>\n",
       "    <tr style=\"text-align: right;\">\n",
       "      <th></th>\n",
       "      <th>fecha_dato</th>\n",
       "      <th>ncodpers</th>\n",
       "      <th>ind_empleado</th>\n",
       "      <th>pais_residencia</th>\n",
       "      <th>sexo</th>\n",
       "      <th>age</th>\n",
       "      <th>fecha_alta</th>\n",
       "      <th>ind_nuevo</th>\n",
       "      <th>antiguedad</th>\n",
       "      <th>indrel</th>\n",
       "      <th>...</th>\n",
       "      <th>indext</th>\n",
       "      <th>conyuemp</th>\n",
       "      <th>canal_entrada</th>\n",
       "      <th>indfall</th>\n",
       "      <th>tipodom</th>\n",
       "      <th>cod_prov</th>\n",
       "      <th>nomprov</th>\n",
       "      <th>ind_actividad_cliente</th>\n",
       "      <th>renta</th>\n",
       "      <th>segmento</th>\n",
       "    </tr>\n",
       "  </thead>\n",
       "  <tbody>\n",
       "    <tr>\n",
       "      <th>0</th>\n",
       "      <td>2016-05-28</td>\n",
       "      <td>657640</td>\n",
       "      <td>N</td>\n",
       "      <td>ES</td>\n",
       "      <td>H</td>\n",
       "      <td>68</td>\n",
       "      <td>2006-11-17</td>\n",
       "      <td>0</td>\n",
       "      <td>114</td>\n",
       "      <td>1</td>\n",
       "      <td>...</td>\n",
       "      <td>N</td>\n",
       "      <td>NaN</td>\n",
       "      <td>KAQ</td>\n",
       "      <td>N</td>\n",
       "      <td>1</td>\n",
       "      <td>28.0</td>\n",
       "      <td>MADRID</td>\n",
       "      <td>0</td>\n",
       "      <td>147347.97</td>\n",
       "      <td>02 - PARTICULARES</td>\n",
       "    </tr>\n",
       "    <tr>\n",
       "      <th>1</th>\n",
       "      <td>2016-05-28</td>\n",
       "      <td>657788</td>\n",
       "      <td>N</td>\n",
       "      <td>ES</td>\n",
       "      <td>H</td>\n",
       "      <td>42</td>\n",
       "      <td>2006-11-18</td>\n",
       "      <td>0</td>\n",
       "      <td>114</td>\n",
       "      <td>1</td>\n",
       "      <td>...</td>\n",
       "      <td>N</td>\n",
       "      <td>NaN</td>\n",
       "      <td>KBF</td>\n",
       "      <td>N</td>\n",
       "      <td>1</td>\n",
       "      <td>28.0</td>\n",
       "      <td>MADRID</td>\n",
       "      <td>1</td>\n",
       "      <td>132559.35</td>\n",
       "      <td>02 - PARTICULARES</td>\n",
       "    </tr>\n",
       "    <tr>\n",
       "      <th>2</th>\n",
       "      <td>2016-05-28</td>\n",
       "      <td>657795</td>\n",
       "      <td>N</td>\n",
       "      <td>ES</td>\n",
       "      <td>V</td>\n",
       "      <td>44</td>\n",
       "      <td>2006-11-18</td>\n",
       "      <td>0</td>\n",
       "      <td>114</td>\n",
       "      <td>1</td>\n",
       "      <td>...</td>\n",
       "      <td>N</td>\n",
       "      <td>NaN</td>\n",
       "      <td>KAP</td>\n",
       "      <td>N</td>\n",
       "      <td>1</td>\n",
       "      <td>26.0</td>\n",
       "      <td>RIOJA, LA</td>\n",
       "      <td>1</td>\n",
       "      <td>81399.57</td>\n",
       "      <td>02 - PARTICULARES</td>\n",
       "    </tr>\n",
       "    <tr>\n",
       "      <th>3</th>\n",
       "      <td>2016-05-28</td>\n",
       "      <td>657790</td>\n",
       "      <td>N</td>\n",
       "      <td>ES</td>\n",
       "      <td>V</td>\n",
       "      <td>42</td>\n",
       "      <td>2006-11-18</td>\n",
       "      <td>0</td>\n",
       "      <td>114</td>\n",
       "      <td>1</td>\n",
       "      <td>...</td>\n",
       "      <td>N</td>\n",
       "      <td>NaN</td>\n",
       "      <td>KBF</td>\n",
       "      <td>N</td>\n",
       "      <td>1</td>\n",
       "      <td>48.0</td>\n",
       "      <td>BIZKAIA</td>\n",
       "      <td>1</td>\n",
       "      <td>NaN</td>\n",
       "      <td>02 - PARTICULARES</td>\n",
       "    </tr>\n",
       "    <tr>\n",
       "      <th>4</th>\n",
       "      <td>2016-05-28</td>\n",
       "      <td>657794</td>\n",
       "      <td>N</td>\n",
       "      <td>ES</td>\n",
       "      <td>H</td>\n",
       "      <td>49</td>\n",
       "      <td>2006-11-18</td>\n",
       "      <td>0</td>\n",
       "      <td>114</td>\n",
       "      <td>1</td>\n",
       "      <td>...</td>\n",
       "      <td>N</td>\n",
       "      <td>NaN</td>\n",
       "      <td>KAT</td>\n",
       "      <td>N</td>\n",
       "      <td>1</td>\n",
       "      <td>8.0</td>\n",
       "      <td>BARCELONA</td>\n",
       "      <td>1</td>\n",
       "      <td>102189.00</td>\n",
       "      <td>01 - TOP</td>\n",
       "    </tr>\n",
       "  </tbody>\n",
       "</table>\n",
       "<p>5 rows × 24 columns</p>\n",
       "</div>"
      ],
      "text/plain": [
       "   fecha_dato  ncodpers ind_empleado pais_residencia sexo  age  fecha_alta  \\\n",
       "0  2016-05-28    657640            N              ES    H   68  2006-11-17   \n",
       "1  2016-05-28    657788            N              ES    H   42  2006-11-18   \n",
       "2  2016-05-28    657795            N              ES    V   44  2006-11-18   \n",
       "3  2016-05-28    657790            N              ES    V   42  2006-11-18   \n",
       "4  2016-05-28    657794            N              ES    H   49  2006-11-18   \n",
       "\n",
       "   ind_nuevo  antiguedad  indrel        ...         indext conyuemp  \\\n",
       "0          0         114       1        ...              N      NaN   \n",
       "1          0         114       1        ...              N      NaN   \n",
       "2          0         114       1        ...              N      NaN   \n",
       "3          0         114       1        ...              N      NaN   \n",
       "4          0         114       1        ...              N      NaN   \n",
       "\n",
       "  canal_entrada indfall tipodom cod_prov    nomprov ind_actividad_cliente  \\\n",
       "0           KAQ       N       1     28.0     MADRID                     0   \n",
       "1           KBF       N       1     28.0     MADRID                     1   \n",
       "2           KAP       N       1     26.0  RIOJA, LA                     1   \n",
       "3           KBF       N       1     48.0    BIZKAIA                     1   \n",
       "4           KAT       N       1      8.0  BARCELONA                     1   \n",
       "\n",
       "       renta           segmento  \n",
       "0  147347.97  02 - PARTICULARES  \n",
       "1  132559.35  02 - PARTICULARES  \n",
       "2   81399.57  02 - PARTICULARES  \n",
       "3        NaN  02 - PARTICULARES  \n",
       "4  102189.00           01 - TOP  \n",
       "\n",
       "[5 rows x 24 columns]"
      ]
     },
     "execution_count": 7,
     "metadata": {},
     "output_type": "execute_result"
    }
   ],
   "source": [
    "df_features.head()"
   ]
  },
  {
   "cell_type": "markdown",
   "metadata": {
    "_cell_guid": "3197b2b6-df09-d8da-d327-b1fd6b56fee5"
   },
   "source": [
    "Remove irrelevant features"
   ]
  },
  {
   "cell_type": "code",
   "execution_count": 8,
   "metadata": {
    "_cell_guid": "ea62c2a1-6290-3a02-66c3-21a56e8666f8",
    "collapsed": true
   },
   "outputs": [],
   "source": [
    "del df_features['fecha_dato']\n",
    "del df_features['ncodpers']"
   ]
  },
  {
   "cell_type": "code",
   "execution_count": 9,
   "metadata": {
    "_cell_guid": "84ce883f-5b7c-59ba-3d5f-d1bbe0759da6",
    "collapsed": false
   },
   "outputs": [
    {
     "data": {
      "text/plain": [
       "1    931429\n",
       "Name: tipodom, dtype: int64"
      ]
     },
     "execution_count": 9,
     "metadata": {},
     "output_type": "execute_result"
    }
   ],
   "source": [
    "df_features['tipodom'].value_counts()"
   ]
  },
  {
   "cell_type": "markdown",
   "metadata": {
    "_cell_guid": "69974b74-65b2-791a-a685-f110579bbef2"
   },
   "source": [
    "'tipodom' has only one value -> remove"
   ]
  },
  {
   "cell_type": "code",
   "execution_count": 10,
   "metadata": {
    "_cell_guid": "b04ca605-11b6-3e74-9bca-db4867a825e0",
    "collapsed": true
   },
   "outputs": [],
   "source": [
    "del df_features['tipodom']"
   ]
  },
  {
   "cell_type": "markdown",
   "metadata": {
    "_cell_guid": "3021597a-d8ea-6e87-b341-8459968f6740"
   },
   "source": [
    "Proportion of null values within each feature:"
   ]
  },
  {
   "cell_type": "code",
   "execution_count": 11,
   "metadata": {
    "_cell_guid": "d0d3db33-8b42-cd47-d05b-291d7f2a997c",
    "collapsed": false
   },
   "outputs": [
    {
     "data": {
      "text/plain": [
       "ind_empleado             0.000000\n",
       "pais_residencia          0.000000\n",
       "age                      0.000000\n",
       "fecha_alta               0.000000\n",
       "ind_nuevo                0.000000\n",
       "antiguedad               0.000000\n",
       "indrel                   0.000000\n",
       "ind_actividad_cliente    0.000000\n",
       "indresi                  0.000000\n",
       "indext                   0.000000\n",
       "indfall                  0.000000\n",
       "sexo                     0.000005\n",
       "nomprov                  0.004286\n",
       "cod_prov                 0.004286\n",
       "tiprel_1mes              0.004304\n",
       "indrel_1mes              0.004304\n",
       "canal_entrada            0.007191\n",
       "segmento                 0.007541\n",
       "renta                    0.245872\n",
       "ult_fec_cli_1t           0.997992\n",
       "conyuemp                 0.999878\n",
       "dtype: float64"
      ]
     },
     "execution_count": 11,
     "metadata": {},
     "output_type": "execute_result"
    }
   ],
   "source": [
    "(df_features.isnull().sum()/len(df_features)).sort_values()"
   ]
  },
  {
   "cell_type": "markdown",
   "metadata": {
    "_cell_guid": "f1ab635d-8328-6c5a-9eea-7010d3666503"
   },
   "source": [
    "Dumping 'ult_fec_cli_1t' and 'conyuemp'"
   ]
  },
  {
   "cell_type": "code",
   "execution_count": 12,
   "metadata": {
    "_cell_guid": "036b7794-c1e3-db0c-3725-059d48d0f689",
    "collapsed": true
   },
   "outputs": [],
   "source": [
    "del df_features['ult_fec_cli_1t']\n",
    "del df_features['conyuemp']"
   ]
  },
  {
   "cell_type": "markdown",
   "metadata": {
    "_cell_guid": "2f0231df-d873-7aa7-1d5d-35d2f57bb966"
   },
   "source": [
    "Label encode all categorical features (this will replace null values in categorical features with a value)"
   ]
  },
  {
   "cell_type": "code",
   "execution_count": 13,
   "metadata": {
    "_cell_guid": "46ccf357-8220-6d94-282a-a63a9bb02f38",
    "collapsed": false
   },
   "outputs": [
    {
     "name": "stdout",
     "output_type": "stream",
     "text": [
      "ind_empleado\n",
      "pais_residencia\n",
      "sexo\n",
      "fecha_alta\n",
      "indrel_1mes\n",
      "tiprel_1mes\n",
      "indresi\n",
      "indext\n",
      "canal_entrada\n",
      "indfall\n",
      "nomprov\n",
      "segmento\n"
     ]
    }
   ],
   "source": [
    "from sklearn import preprocessing\n",
    "\n",
    "for f in df_features.columns:\n",
    "    if df_features[f].dtype == 'object':\n",
    "        print(f)\n",
    "        lbl = preprocessing.LabelEncoder()\n",
    "        lbl.fit(list(df_features[f].values))\n",
    "        df_features[f] = lbl.transform(list(df_features[f].values))"
   ]
  },
  {
   "cell_type": "markdown",
   "metadata": {
    "_cell_guid": "336c45f5-3139-68bd-eb58-d9f63ee3e4f9"
   },
   "source": [
    "The idea is to replace the null values of 'renta' with appropriate median values. To do so, get most correlated features for 'renta' ..."
   ]
  },
  {
   "cell_type": "code",
   "execution_count": 14,
   "metadata": {
    "_cell_guid": "48b32d25-d5de-3512-76f6-7cf458c84693",
    "collapsed": false
   },
   "outputs": [
    {
     "data": {
      "text/plain": [
       "fecha_alta              -0.079895\n",
       "canal_entrada           -0.059381\n",
       "segmento                -0.057267\n",
       "tiprel_1mes             -0.028969\n",
       "cod_prov                -0.016736\n",
       "nomprov                 -0.010990\n",
       "indext                  -0.006829\n",
       "ind_empleado            -0.004824\n",
       "indresi                 -0.002060\n",
       "ind_nuevo               -0.001204\n",
       "indrel                   0.000206\n",
       "pais_residencia          0.002149\n",
       "antiguedad               0.002702\n",
       "sexo                     0.006908\n",
       "indfall                  0.008091\n",
       "indrel_1mes              0.011299\n",
       "ind_actividad_cliente    0.023142\n",
       "age                      0.064450\n",
       "renta                    1.000000\n",
       "Name: renta, dtype: float64"
      ]
     },
     "execution_count": 14,
     "metadata": {},
     "output_type": "execute_result"
    }
   ],
   "source": [
    "df_features.corr()['renta'].sort_values()"
   ]
  },
  {
   "cell_type": "markdown",
   "metadata": {
    "_cell_guid": "3d2d82d7-d208-57c8-f96d-729992b2e84f"
   },
   "source": [
    "'segmento' and 'ind_actividad_cliente' seem reasonable and relevant fetaures to group by to get the median for 'renta':"
   ]
  },
  {
   "cell_type": "code",
   "execution_count": 15,
   "metadata": {
    "_cell_guid": "6da49922-b5a1-f750-b6af-a305fa47f043",
    "collapsed": false
   },
   "outputs": [
    {
     "data": {
      "text/plain": [
       "1    542595\n",
       "2    346395\n",
       "0     35415\n",
       "3      7024\n",
       "Name: segmento, dtype: int64"
      ]
     },
     "execution_count": 15,
     "metadata": {},
     "output_type": "execute_result"
    }
   ],
   "source": [
    "df_features['segmento'].value_counts()"
   ]
  },
  {
   "cell_type": "code",
   "execution_count": 16,
   "metadata": {
    "_cell_guid": "91b3dd7d-b86d-fb54-66ad-89bd45f0ce4d",
    "collapsed": false
   },
   "outputs": [
    {
     "data": {
      "text/plain": [
       "0    535711\n",
       "1    395718\n",
       "Name: ind_actividad_cliente, dtype: int64"
      ]
     },
     "execution_count": 16,
     "metadata": {},
     "output_type": "execute_result"
    }
   ],
   "source": [
    "df_features['ind_actividad_cliente'].value_counts()"
   ]
  },
  {
   "cell_type": "markdown",
   "metadata": {
    "_cell_guid": "65ae30e1-eb49-abd3-d3dc-b381ceb5ff3b"
   },
   "source": [
    "Calculate median values for 'renta' grouped by 'segmento' and 'ind_actividad_cliente'"
   ]
  },
  {
   "cell_type": "code",
   "execution_count": 17,
   "metadata": {
    "_cell_guid": "02469c7d-8227-45e6-2154-cba761a7770d",
    "collapsed": true
   },
   "outputs": [],
   "source": [
    "median_renta = np.zeros((2,4))\n",
    "for i in range(2):\n",
    "    for j in range (4):\n",
    "        median_renta[i][j] = df_features[(df_features['ind_actividad_cliente'] == i) & \\\n",
    "                                         (df_features['segmento'] == j)]['renta'].dropna().median()"
   ]
  },
  {
   "cell_type": "code",
   "execution_count": 18,
   "metadata": {
    "_cell_guid": "fa02429e-d441-2ddb-8455-cc7ec1c4ccc9",
    "collapsed": false
   },
   "outputs": [
    {
     "data": {
      "text/plain": [
       "array([[ 132589.44 ,  103812.39 ,   88230.   ,  127941.93 ],\n",
       "       [ 141126.48 ,  110529.975,   91964.85 ,   97828.77 ]])"
      ]
     },
     "execution_count": 18,
     "metadata": {},
     "output_type": "execute_result"
    }
   ],
   "source": [
    "median_renta"
   ]
  },
  {
   "cell_type": "markdown",
   "metadata": {
    "_cell_guid": "695850b4-4442-8d4b-87fc-d130e160393b"
   },
   "source": [
    "Replace null values with median values"
   ]
  },
  {
   "cell_type": "code",
   "execution_count": 19,
   "metadata": {
    "_cell_guid": "881942ca-a828-bebc-64c6-004bd0da12dd",
    "collapsed": true
   },
   "outputs": [],
   "source": [
    "for i in range(0, 2):\n",
    "    for j in range(0, 4):\n",
    "        df_features.loc[(df_features['renta'].isnull()) & \\\n",
    "                        (df_features['ind_actividad_cliente'] == i) & \\\n",
    "                        (df_features['segmento'] == j), 'renta'] = median_renta[i][j]"
   ]
  },
  {
   "cell_type": "code",
   "execution_count": 20,
   "metadata": {
    "_cell_guid": "419229e8-56c8-cdd4-7ff8-5eb74384ce5d",
    "collapsed": false
   },
   "outputs": [
    {
     "data": {
      "text/plain": [
       "ind_empleado             0.000000\n",
       "ind_actividad_cliente    0.000000\n",
       "nomprov                  0.000000\n",
       "indfall                  0.000000\n",
       "canal_entrada            0.000000\n",
       "indext                   0.000000\n",
       "indresi                  0.000000\n",
       "renta                    0.000000\n",
       "tiprel_1mes              0.000000\n",
       "indrel                   0.000000\n",
       "antiguedad               0.000000\n",
       "ind_nuevo                0.000000\n",
       "fecha_alta               0.000000\n",
       "age                      0.000000\n",
       "sexo                     0.000000\n",
       "pais_residencia          0.000000\n",
       "indrel_1mes              0.000000\n",
       "segmento                 0.000000\n",
       "cod_prov                 0.004286\n",
       "dtype: float64"
      ]
     },
     "execution_count": 20,
     "metadata": {},
     "output_type": "execute_result"
    }
   ],
   "source": [
    "(df_features.isnull().sum()/len(df_features)).sort_values()"
   ]
  },
  {
   "cell_type": "markdown",
   "metadata": {
    "_cell_guid": "fb6a9b5a-6a75-73a9-4988-8a9a820a9227"
   },
   "source": [
    "Fill null values for 'cod_prov' with median (with such few observations I don't bother with segmentation)"
   ]
  },
  {
   "cell_type": "code",
   "execution_count": 21,
   "metadata": {
    "_cell_guid": "63328404-514a-d8f1-5681-a9b571bcebcf",
    "collapsed": true
   },
   "outputs": [],
   "source": [
    "df_features['cod_prov'] = df_features['cod_prov'].fillna(df_features['cod_prov'].median())"
   ]
  },
  {
   "cell_type": "code",
   "execution_count": 21,
   "metadata": {
    "_cell_guid": "63328404-514a-d8f1-5681-a9b571bcebcf",
    "collapsed": true
   },
   "outputs": [],
   "source": [
    "df_features['cod_prov'] = df_features['cod_prov'].fillna(df_features['cod_prov'].median())"
   ]
  },
  {
   "cell_type": "markdown",
   "metadata": {
    "_cell_guid": "795c38e8-22e9-bcc3-4cab-5734d97d6586"
   },
   "source": [
    "## 3) Compute feature importance"
   ]
  },
  {
   "cell_type": "code",
   "execution_count": 22,
   "metadata": {
    "_cell_guid": "5b584722-4c6b-5067-3c73-101774e667d6",
    "collapsed": true
   },
   "outputs": [],
   "source": [
    "from sklearn.feature_selection import SelectKBest\n",
    "from sklearn.feature_selection import f_regression\n",
    "import operator"
   ]
  },
  {
   "cell_type": "code",
   "execution_count": 23,
   "metadata": {
    "_cell_guid": "61eaa1e4-04a6-a94a-3b7a-66b6cd41764b",
    "collapsed": true
   },
   "outputs": [],
   "source": [
    "X = df_features.values\n",
    "test = SelectKBest(score_func=f_regression)\n",
    "prod_cols = list(df.columns[24:48])"
   ]
  },
  {
   "cell_type": "markdown",
   "metadata": {
    "_cell_guid": "60ce413c-ee39-8272-9348-349f02c0e619"
   },
   "source": [
    "Loop over product columns, assign every column to the target vector y and compute the feature scores each run"
   ]
  },
  {
   "cell_type": "code",
   "execution_count": 24,
   "metadata": {
    "_cell_guid": "18645621-f0b3-f84d-958d-15edfc1e6646",
    "collapsed": true
   },
   "outputs": [],
   "source": [
    "d = {}\n",
    "for p in prod_cols:\n",
    "    y = np.array(df[p])\n",
    "    fit = test.fit(X, y)\n",
    "    l = zip(df_features.columns, np.around(fit.scores_))\n",
    "    d[p] = sorted(l, key=lambda x: x[1], reverse=True)"
   ]
  },
  {
   "cell_type": "markdown",
   "metadata": {
    "_cell_guid": "9d7739ce-64b2-8dcb-1534-d301b6250311"
   },
   "source": [
    "## 4) Summarise findings\n",
    "\n",
    "Here I create a dataframe with the rankings for each product and feature and sum them up to find the most important features overall"
   ]
  },
  {
   "cell_type": "code",
   "execution_count": 25,
   "metadata": {
    "_cell_guid": "d0e3a32f-199b-8e80-b3ab-aa16ff562608",
    "collapsed": true
   },
   "outputs": [],
   "source": [
    "df_ranking = pd.DataFrame(index=df_features.columns,columns=prod_cols)"
   ]
  },
  {
   "cell_type": "code",
   "execution_count": 26,
   "metadata": {
    "_cell_guid": "a9684099-d8bc-799e-6baa-e585523fce31",
    "collapsed": true
   },
   "outputs": [],
   "source": [
    "for p in prod_cols:\n",
    "    i = 0\n",
    "    for r in d[p]:\n",
    "        df_ranking[p][r[0]] = i\n",
    "        i += 1"
   ]
  },
  {
   "cell_type": "code",
   "execution_count": 27,
   "metadata": {
    "_cell_guid": "bde15e6c-6c3d-d0d3-5778-108fbb8d27ed",
    "collapsed": true
   },
   "outputs": [],
   "source": [
    "df_ranking['total'] = df_ranking.sum(axis=1)"
   ]
  },
  {
   "cell_type": "code",
   "execution_count": 28,
   "metadata": {
    "_cell_guid": "46bb0b27-ff5a-032b-af01-44997de74c0e",
    "collapsed": false
   },
   "outputs": [
    {
     "data": {
      "text/html": [
       "<div>\n",
       "<table border=\"1\" class=\"dataframe\">\n",
       "  <thead>\n",
       "    <tr style=\"text-align: right;\">\n",
       "      <th></th>\n",
       "      <th>ind_ahor_fin_ult1</th>\n",
       "      <th>ind_aval_fin_ult1</th>\n",
       "      <th>ind_cco_fin_ult1</th>\n",
       "      <th>ind_cder_fin_ult1</th>\n",
       "      <th>ind_cno_fin_ult1</th>\n",
       "      <th>ind_ctju_fin_ult1</th>\n",
       "      <th>ind_ctma_fin_ult1</th>\n",
       "      <th>ind_ctop_fin_ult1</th>\n",
       "      <th>ind_ctpp_fin_ult1</th>\n",
       "      <th>ind_deco_fin_ult1</th>\n",
       "      <th>...</th>\n",
       "      <th>ind_plan_fin_ult1</th>\n",
       "      <th>ind_pres_fin_ult1</th>\n",
       "      <th>ind_reca_fin_ult1</th>\n",
       "      <th>ind_tjcr_fin_ult1</th>\n",
       "      <th>ind_valo_fin_ult1</th>\n",
       "      <th>ind_viv_fin_ult1</th>\n",
       "      <th>ind_nomina_ult1</th>\n",
       "      <th>ind_nom_pens_ult1</th>\n",
       "      <th>ind_recibo_ult1</th>\n",
       "      <th>total</th>\n",
       "    </tr>\n",
       "  </thead>\n",
       "  <tbody>\n",
       "    <tr>\n",
       "      <th>ind_actividad_cliente</th>\n",
       "      <td>3</td>\n",
       "      <td>2</td>\n",
       "      <td>0</td>\n",
       "      <td>2</td>\n",
       "      <td>0</td>\n",
       "      <td>1</td>\n",
       "      <td>1</td>\n",
       "      <td>4</td>\n",
       "      <td>2</td>\n",
       "      <td>1</td>\n",
       "      <td>...</td>\n",
       "      <td>2</td>\n",
       "      <td>3</td>\n",
       "      <td>0</td>\n",
       "      <td>0</td>\n",
       "      <td>0</td>\n",
       "      <td>3</td>\n",
       "      <td>0</td>\n",
       "      <td>0</td>\n",
       "      <td>0</td>\n",
       "      <td>29.0</td>\n",
       "    </tr>\n",
       "    <tr>\n",
       "      <th>segmento</th>\n",
       "      <td>2</td>\n",
       "      <td>1</td>\n",
       "      <td>1</td>\n",
       "      <td>3</td>\n",
       "      <td>2</td>\n",
       "      <td>3</td>\n",
       "      <td>2</td>\n",
       "      <td>3</td>\n",
       "      <td>0</td>\n",
       "      <td>0</td>\n",
       "      <td>...</td>\n",
       "      <td>1</td>\n",
       "      <td>4</td>\n",
       "      <td>3</td>\n",
       "      <td>3</td>\n",
       "      <td>2</td>\n",
       "      <td>2</td>\n",
       "      <td>2</td>\n",
       "      <td>2</td>\n",
       "      <td>2</td>\n",
       "      <td>44.0</td>\n",
       "    </tr>\n",
       "    <tr>\n",
       "      <th>tiprel_1mes</th>\n",
       "      <td>4</td>\n",
       "      <td>3</td>\n",
       "      <td>4</td>\n",
       "      <td>0</td>\n",
       "      <td>1</td>\n",
       "      <td>2</td>\n",
       "      <td>3</td>\n",
       "      <td>5</td>\n",
       "      <td>4</td>\n",
       "      <td>2</td>\n",
       "      <td>...</td>\n",
       "      <td>3</td>\n",
       "      <td>1</td>\n",
       "      <td>1</td>\n",
       "      <td>1</td>\n",
       "      <td>3</td>\n",
       "      <td>4</td>\n",
       "      <td>1</td>\n",
       "      <td>1</td>\n",
       "      <td>1</td>\n",
       "      <td>55.0</td>\n",
       "    </tr>\n",
       "    <tr>\n",
       "      <th>fecha_alta</th>\n",
       "      <td>0</td>\n",
       "      <td>4</td>\n",
       "      <td>5</td>\n",
       "      <td>1</td>\n",
       "      <td>4</td>\n",
       "      <td>6</td>\n",
       "      <td>4</td>\n",
       "      <td>0</td>\n",
       "      <td>1</td>\n",
       "      <td>3</td>\n",
       "      <td>...</td>\n",
       "      <td>0</td>\n",
       "      <td>2</td>\n",
       "      <td>2</td>\n",
       "      <td>2</td>\n",
       "      <td>1</td>\n",
       "      <td>0</td>\n",
       "      <td>3</td>\n",
       "      <td>3</td>\n",
       "      <td>4</td>\n",
       "      <td>59.0</td>\n",
       "    </tr>\n",
       "    <tr>\n",
       "      <th>canal_entrada</th>\n",
       "      <td>1</td>\n",
       "      <td>7</td>\n",
       "      <td>3</td>\n",
       "      <td>5</td>\n",
       "      <td>3</td>\n",
       "      <td>4</td>\n",
       "      <td>14</td>\n",
       "      <td>2</td>\n",
       "      <td>3</td>\n",
       "      <td>4</td>\n",
       "      <td>...</td>\n",
       "      <td>4</td>\n",
       "      <td>0</td>\n",
       "      <td>4</td>\n",
       "      <td>4</td>\n",
       "      <td>4</td>\n",
       "      <td>1</td>\n",
       "      <td>4</td>\n",
       "      <td>4</td>\n",
       "      <td>3</td>\n",
       "      <td>93.0</td>\n",
       "    </tr>\n",
       "    <tr>\n",
       "      <th>age</th>\n",
       "      <td>5</td>\n",
       "      <td>10</td>\n",
       "      <td>2</td>\n",
       "      <td>4</td>\n",
       "      <td>5</td>\n",
       "      <td>0</td>\n",
       "      <td>5</td>\n",
       "      <td>1</td>\n",
       "      <td>5</td>\n",
       "      <td>5</td>\n",
       "      <td>...</td>\n",
       "      <td>5</td>\n",
       "      <td>6</td>\n",
       "      <td>5</td>\n",
       "      <td>5</td>\n",
       "      <td>5</td>\n",
       "      <td>5</td>\n",
       "      <td>5</td>\n",
       "      <td>5</td>\n",
       "      <td>5</td>\n",
       "      <td>108.0</td>\n",
       "    </tr>\n",
       "    <tr>\n",
       "      <th>sexo</th>\n",
       "      <td>7</td>\n",
       "      <td>8</td>\n",
       "      <td>8</td>\n",
       "      <td>6</td>\n",
       "      <td>6</td>\n",
       "      <td>12</td>\n",
       "      <td>6</td>\n",
       "      <td>7</td>\n",
       "      <td>7</td>\n",
       "      <td>13</td>\n",
       "      <td>...</td>\n",
       "      <td>9</td>\n",
       "      <td>7</td>\n",
       "      <td>6</td>\n",
       "      <td>7</td>\n",
       "      <td>6</td>\n",
       "      <td>9</td>\n",
       "      <td>7</td>\n",
       "      <td>7</td>\n",
       "      <td>6</td>\n",
       "      <td>184.0</td>\n",
       "    </tr>\n",
       "    <tr>\n",
       "      <th>ind_nuevo</th>\n",
       "      <td>9</td>\n",
       "      <td>11</td>\n",
       "      <td>7</td>\n",
       "      <td>8</td>\n",
       "      <td>12</td>\n",
       "      <td>10</td>\n",
       "      <td>0</td>\n",
       "      <td>6</td>\n",
       "      <td>6</td>\n",
       "      <td>6</td>\n",
       "      <td>...</td>\n",
       "      <td>8</td>\n",
       "      <td>9</td>\n",
       "      <td>8</td>\n",
       "      <td>8</td>\n",
       "      <td>9</td>\n",
       "      <td>6</td>\n",
       "      <td>15</td>\n",
       "      <td>15</td>\n",
       "      <td>18</td>\n",
       "      <td>212.0</td>\n",
       "    </tr>\n",
       "    <tr>\n",
       "      <th>ind_empleado</th>\n",
       "      <td>6</td>\n",
       "      <td>0</td>\n",
       "      <td>17</td>\n",
       "      <td>7</td>\n",
       "      <td>7</td>\n",
       "      <td>15</td>\n",
       "      <td>13</td>\n",
       "      <td>17</td>\n",
       "      <td>9</td>\n",
       "      <td>7</td>\n",
       "      <td>...</td>\n",
       "      <td>6</td>\n",
       "      <td>8</td>\n",
       "      <td>9</td>\n",
       "      <td>6</td>\n",
       "      <td>7</td>\n",
       "      <td>8</td>\n",
       "      <td>6</td>\n",
       "      <td>6</td>\n",
       "      <td>7</td>\n",
       "      <td>213.0</td>\n",
       "    </tr>\n",
       "    <tr>\n",
       "      <th>renta</th>\n",
       "      <td>8</td>\n",
       "      <td>13</td>\n",
       "      <td>11</td>\n",
       "      <td>10</td>\n",
       "      <td>8</td>\n",
       "      <td>8</td>\n",
       "      <td>12</td>\n",
       "      <td>8</td>\n",
       "      <td>8</td>\n",
       "      <td>9</td>\n",
       "      <td>...</td>\n",
       "      <td>7</td>\n",
       "      <td>13</td>\n",
       "      <td>7</td>\n",
       "      <td>9</td>\n",
       "      <td>8</td>\n",
       "      <td>7</td>\n",
       "      <td>8</td>\n",
       "      <td>8</td>\n",
       "      <td>9</td>\n",
       "      <td>216.0</td>\n",
       "    </tr>\n",
       "    <tr>\n",
       "      <th>indext</th>\n",
       "      <td>17</td>\n",
       "      <td>12</td>\n",
       "      <td>10</td>\n",
       "      <td>9</td>\n",
       "      <td>17</td>\n",
       "      <td>5</td>\n",
       "      <td>18</td>\n",
       "      <td>10</td>\n",
       "      <td>11</td>\n",
       "      <td>8</td>\n",
       "      <td>...</td>\n",
       "      <td>12</td>\n",
       "      <td>5</td>\n",
       "      <td>12</td>\n",
       "      <td>17</td>\n",
       "      <td>10</td>\n",
       "      <td>13</td>\n",
       "      <td>17</td>\n",
       "      <td>16</td>\n",
       "      <td>16</td>\n",
       "      <td>277.0</td>\n",
       "    </tr>\n",
       "    <tr>\n",
       "      <th>nomprov</th>\n",
       "      <td>12</td>\n",
       "      <td>9</td>\n",
       "      <td>16</td>\n",
       "      <td>18</td>\n",
       "      <td>9</td>\n",
       "      <td>7</td>\n",
       "      <td>11</td>\n",
       "      <td>11</td>\n",
       "      <td>12</td>\n",
       "      <td>18</td>\n",
       "      <td>...</td>\n",
       "      <td>11</td>\n",
       "      <td>11</td>\n",
       "      <td>10</td>\n",
       "      <td>10</td>\n",
       "      <td>13</td>\n",
       "      <td>11</td>\n",
       "      <td>9</td>\n",
       "      <td>9</td>\n",
       "      <td>10</td>\n",
       "      <td>281.0</td>\n",
       "    </tr>\n",
       "    <tr>\n",
       "      <th>cod_prov</th>\n",
       "      <td>11</td>\n",
       "      <td>18</td>\n",
       "      <td>18</td>\n",
       "      <td>17</td>\n",
       "      <td>14</td>\n",
       "      <td>9</td>\n",
       "      <td>7</td>\n",
       "      <td>9</td>\n",
       "      <td>10</td>\n",
       "      <td>17</td>\n",
       "      <td>...</td>\n",
       "      <td>15</td>\n",
       "      <td>10</td>\n",
       "      <td>11</td>\n",
       "      <td>13</td>\n",
       "      <td>12</td>\n",
       "      <td>12</td>\n",
       "      <td>14</td>\n",
       "      <td>13</td>\n",
       "      <td>13</td>\n",
       "      <td>300.0</td>\n",
       "    </tr>\n",
       "    <tr>\n",
       "      <th>indrel</th>\n",
       "      <td>15</td>\n",
       "      <td>15</td>\n",
       "      <td>6</td>\n",
       "      <td>13</td>\n",
       "      <td>13</td>\n",
       "      <td>14</td>\n",
       "      <td>8</td>\n",
       "      <td>16</td>\n",
       "      <td>13</td>\n",
       "      <td>15</td>\n",
       "      <td>...</td>\n",
       "      <td>14</td>\n",
       "      <td>15</td>\n",
       "      <td>13</td>\n",
       "      <td>12</td>\n",
       "      <td>14</td>\n",
       "      <td>15</td>\n",
       "      <td>12</td>\n",
       "      <td>12</td>\n",
       "      <td>11</td>\n",
       "      <td>315.0</td>\n",
       "    </tr>\n",
       "    <tr>\n",
       "      <th>indresi</th>\n",
       "      <td>16</td>\n",
       "      <td>6</td>\n",
       "      <td>12</td>\n",
       "      <td>15</td>\n",
       "      <td>11</td>\n",
       "      <td>11</td>\n",
       "      <td>9</td>\n",
       "      <td>14</td>\n",
       "      <td>17</td>\n",
       "      <td>10</td>\n",
       "      <td>...</td>\n",
       "      <td>16</td>\n",
       "      <td>18</td>\n",
       "      <td>14</td>\n",
       "      <td>18</td>\n",
       "      <td>11</td>\n",
       "      <td>16</td>\n",
       "      <td>10</td>\n",
       "      <td>10</td>\n",
       "      <td>14</td>\n",
       "      <td>317.0</td>\n",
       "    </tr>\n",
       "    <tr>\n",
       "      <th>indrel_1mes</th>\n",
       "      <td>10</td>\n",
       "      <td>16</td>\n",
       "      <td>9</td>\n",
       "      <td>11</td>\n",
       "      <td>10</td>\n",
       "      <td>16</td>\n",
       "      <td>16</td>\n",
       "      <td>13</td>\n",
       "      <td>15</td>\n",
       "      <td>16</td>\n",
       "      <td>...</td>\n",
       "      <td>13</td>\n",
       "      <td>12</td>\n",
       "      <td>15</td>\n",
       "      <td>15</td>\n",
       "      <td>15</td>\n",
       "      <td>10</td>\n",
       "      <td>13</td>\n",
       "      <td>14</td>\n",
       "      <td>8</td>\n",
       "      <td>318.0</td>\n",
       "    </tr>\n",
       "    <tr>\n",
       "      <th>indfall</th>\n",
       "      <td>18</td>\n",
       "      <td>17</td>\n",
       "      <td>13</td>\n",
       "      <td>16</td>\n",
       "      <td>15</td>\n",
       "      <td>13</td>\n",
       "      <td>10</td>\n",
       "      <td>12</td>\n",
       "      <td>16</td>\n",
       "      <td>11</td>\n",
       "      <td>...</td>\n",
       "      <td>17</td>\n",
       "      <td>14</td>\n",
       "      <td>17</td>\n",
       "      <td>11</td>\n",
       "      <td>16</td>\n",
       "      <td>17</td>\n",
       "      <td>11</td>\n",
       "      <td>11</td>\n",
       "      <td>12</td>\n",
       "      <td>341.0</td>\n",
       "    </tr>\n",
       "    <tr>\n",
       "      <th>antiguedad</th>\n",
       "      <td>14</td>\n",
       "      <td>14</td>\n",
       "      <td>15</td>\n",
       "      <td>12</td>\n",
       "      <td>18</td>\n",
       "      <td>18</td>\n",
       "      <td>15</td>\n",
       "      <td>15</td>\n",
       "      <td>14</td>\n",
       "      <td>14</td>\n",
       "      <td>...</td>\n",
       "      <td>10</td>\n",
       "      <td>17</td>\n",
       "      <td>16</td>\n",
       "      <td>14</td>\n",
       "      <td>18</td>\n",
       "      <td>14</td>\n",
       "      <td>18</td>\n",
       "      <td>18</td>\n",
       "      <td>17</td>\n",
       "      <td>360.0</td>\n",
       "    </tr>\n",
       "    <tr>\n",
       "      <th>pais_residencia</th>\n",
       "      <td>13</td>\n",
       "      <td>5</td>\n",
       "      <td>14</td>\n",
       "      <td>14</td>\n",
       "      <td>16</td>\n",
       "      <td>17</td>\n",
       "      <td>17</td>\n",
       "      <td>18</td>\n",
       "      <td>18</td>\n",
       "      <td>12</td>\n",
       "      <td>...</td>\n",
       "      <td>18</td>\n",
       "      <td>16</td>\n",
       "      <td>18</td>\n",
       "      <td>16</td>\n",
       "      <td>17</td>\n",
       "      <td>18</td>\n",
       "      <td>16</td>\n",
       "      <td>17</td>\n",
       "      <td>15</td>\n",
       "      <td>382.0</td>\n",
       "    </tr>\n",
       "  </tbody>\n",
       "</table>\n",
       "<p>19 rows × 25 columns</p>\n",
       "</div>"
      ],
      "text/plain": [
       "                      ind_ahor_fin_ult1 ind_aval_fin_ult1 ind_cco_fin_ult1  \\\n",
       "ind_actividad_cliente                 3                 2                0   \n",
       "segmento                              2                 1                1   \n",
       "tiprel_1mes                           4                 3                4   \n",
       "fecha_alta                            0                 4                5   \n",
       "canal_entrada                         1                 7                3   \n",
       "age                                   5                10                2   \n",
       "sexo                                  7                 8                8   \n",
       "ind_nuevo                             9                11                7   \n",
       "ind_empleado                          6                 0               17   \n",
       "renta                                 8                13               11   \n",
       "indext                               17                12               10   \n",
       "nomprov                              12                 9               16   \n",
       "cod_prov                             11                18               18   \n",
       "indrel                               15                15                6   \n",
       "indresi                              16                 6               12   \n",
       "indrel_1mes                          10                16                9   \n",
       "indfall                              18                17               13   \n",
       "antiguedad                           14                14               15   \n",
       "pais_residencia                      13                 5               14   \n",
       "\n",
       "                      ind_cder_fin_ult1 ind_cno_fin_ult1 ind_ctju_fin_ult1  \\\n",
       "ind_actividad_cliente                 2                0                 1   \n",
       "segmento                              3                2                 3   \n",
       "tiprel_1mes                           0                1                 2   \n",
       "fecha_alta                            1                4                 6   \n",
       "canal_entrada                         5                3                 4   \n",
       "age                                   4                5                 0   \n",
       "sexo                                  6                6                12   \n",
       "ind_nuevo                             8               12                10   \n",
       "ind_empleado                          7                7                15   \n",
       "renta                                10                8                 8   \n",
       "indext                                9               17                 5   \n",
       "nomprov                              18                9                 7   \n",
       "cod_prov                             17               14                 9   \n",
       "indrel                               13               13                14   \n",
       "indresi                              15               11                11   \n",
       "indrel_1mes                          11               10                16   \n",
       "indfall                              16               15                13   \n",
       "antiguedad                           12               18                18   \n",
       "pais_residencia                      14               16                17   \n",
       "\n",
       "                      ind_ctma_fin_ult1 ind_ctop_fin_ult1 ind_ctpp_fin_ult1  \\\n",
       "ind_actividad_cliente                 1                 4                 2   \n",
       "segmento                              2                 3                 0   \n",
       "tiprel_1mes                           3                 5                 4   \n",
       "fecha_alta                            4                 0                 1   \n",
       "canal_entrada                        14                 2                 3   \n",
       "age                                   5                 1                 5   \n",
       "sexo                                  6                 7                 7   \n",
       "ind_nuevo                             0                 6                 6   \n",
       "ind_empleado                         13                17                 9   \n",
       "renta                                12                 8                 8   \n",
       "indext                               18                10                11   \n",
       "nomprov                              11                11                12   \n",
       "cod_prov                              7                 9                10   \n",
       "indrel                                8                16                13   \n",
       "indresi                               9                14                17   \n",
       "indrel_1mes                          16                13                15   \n",
       "indfall                              10                12                16   \n",
       "antiguedad                           15                15                14   \n",
       "pais_residencia                      17                18                18   \n",
       "\n",
       "                      ind_deco_fin_ult1  ...   ind_plan_fin_ult1  \\\n",
       "ind_actividad_cliente                 1  ...                   2   \n",
       "segmento                              0  ...                   1   \n",
       "tiprel_1mes                           2  ...                   3   \n",
       "fecha_alta                            3  ...                   0   \n",
       "canal_entrada                         4  ...                   4   \n",
       "age                                   5  ...                   5   \n",
       "sexo                                 13  ...                   9   \n",
       "ind_nuevo                             6  ...                   8   \n",
       "ind_empleado                          7  ...                   6   \n",
       "renta                                 9  ...                   7   \n",
       "indext                                8  ...                  12   \n",
       "nomprov                              18  ...                  11   \n",
       "cod_prov                             17  ...                  15   \n",
       "indrel                               15  ...                  14   \n",
       "indresi                              10  ...                  16   \n",
       "indrel_1mes                          16  ...                  13   \n",
       "indfall                              11  ...                  17   \n",
       "antiguedad                           14  ...                  10   \n",
       "pais_residencia                      12  ...                  18   \n",
       "\n",
       "                      ind_pres_fin_ult1 ind_reca_fin_ult1 ind_tjcr_fin_ult1  \\\n",
       "ind_actividad_cliente                 3                 0                 0   \n",
       "segmento                              4                 3                 3   \n",
       "tiprel_1mes                           1                 1                 1   \n",
       "fecha_alta                            2                 2                 2   \n",
       "canal_entrada                         0                 4                 4   \n",
       "age                                   6                 5                 5   \n",
       "sexo                                  7                 6                 7   \n",
       "ind_nuevo                             9                 8                 8   \n",
       "ind_empleado                          8                 9                 6   \n",
       "renta                                13                 7                 9   \n",
       "indext                                5                12                17   \n",
       "nomprov                              11                10                10   \n",
       "cod_prov                             10                11                13   \n",
       "indrel                               15                13                12   \n",
       "indresi                              18                14                18   \n",
       "indrel_1mes                          12                15                15   \n",
       "indfall                              14                17                11   \n",
       "antiguedad                           17                16                14   \n",
       "pais_residencia                      16                18                16   \n",
       "\n",
       "                      ind_valo_fin_ult1 ind_viv_fin_ult1 ind_nomina_ult1  \\\n",
       "ind_actividad_cliente                 0                3               0   \n",
       "segmento                              2                2               2   \n",
       "tiprel_1mes                           3                4               1   \n",
       "fecha_alta                            1                0               3   \n",
       "canal_entrada                         4                1               4   \n",
       "age                                   5                5               5   \n",
       "sexo                                  6                9               7   \n",
       "ind_nuevo                             9                6              15   \n",
       "ind_empleado                          7                8               6   \n",
       "renta                                 8                7               8   \n",
       "indext                               10               13              17   \n",
       "nomprov                              13               11               9   \n",
       "cod_prov                             12               12              14   \n",
       "indrel                               14               15              12   \n",
       "indresi                              11               16              10   \n",
       "indrel_1mes                          15               10              13   \n",
       "indfall                              16               17              11   \n",
       "antiguedad                           18               14              18   \n",
       "pais_residencia                      17               18              16   \n",
       "\n",
       "                      ind_nom_pens_ult1 ind_recibo_ult1\\n  total  \n",
       "ind_actividad_cliente                 0                 0   29.0  \n",
       "segmento                              2                 2   44.0  \n",
       "tiprel_1mes                           1                 1   55.0  \n",
       "fecha_alta                            3                 4   59.0  \n",
       "canal_entrada                         4                 3   93.0  \n",
       "age                                   5                 5  108.0  \n",
       "sexo                                  7                 6  184.0  \n",
       "ind_nuevo                            15                18  212.0  \n",
       "ind_empleado                          6                 7  213.0  \n",
       "renta                                 8                 9  216.0  \n",
       "indext                               16                16  277.0  \n",
       "nomprov                               9                10  281.0  \n",
       "cod_prov                             13                13  300.0  \n",
       "indrel                               12                11  315.0  \n",
       "indresi                              10                14  317.0  \n",
       "indrel_1mes                          14                 8  318.0  \n",
       "indfall                              11                12  341.0  \n",
       "antiguedad                           18                17  360.0  \n",
       "pais_residencia                      17                15  382.0  \n",
       "\n",
       "[19 rows x 25 columns]"
      ]
     },
     "execution_count": 28,
     "metadata": {},
     "output_type": "execute_result"
    }
   ],
   "source": [
    "df_ranking.sort_values('total')"
   ]
  },
  {
   "cell_type": "code",
   "execution_count": 29,
   "metadata": {
    "_cell_guid": "15259226-e20f-699d-6c91-d7d9b159bd67",
    "collapsed": false
   },
   "outputs": [
    {
     "data": {
      "text/plain": [
       "<matplotlib.axes._subplots.AxesSubplot at 0x7fc3877450b8>"
      ]
     },
     "execution_count": 29,
     "metadata": {},
     "output_type": "execute_result"
    },
    {
     "data": {
      "image/png": "[encoded data removed]",
      "text/plain": [
       "<matplotlib.figure.Figure at 0x7fc387745da0>"
      ]
     },
     "metadata": {},
     "output_type": "display_data"
    }
   ],
   "source": [
    "df_ranking.sort_values('total')['total'].plot(kind='bar')"
   ]
  },
  {
   "cell_type": "markdown",
   "metadata": {
    "_cell_guid": "77c200e8-15ed-3d05-d7c2-57225adbbb83"
   },
   "source": [
    "## Conclusion\n",
    "\n",
    "This last step of summing up the rankings might not make much sense, but I was curious to see the consistency of importance each variable exhibits. It seems to me that there is a high degree of consistency, e.g. 'ind_actividad'cliente' is almost always in the top 3 for all products. This might give you a sense of how to consider the features when you use a classification or clustering algorithm."
   ]
  }
 ],
 "metadata": {
  "_change_revision": 2,
  "_is_fork": false,
  "kernelspec": {
   "display_name": "Python 2",
   "language": "python",
   "name": "python2"
  },
  "language_info": {
   "codemirror_mode": {
    "name": "ipython",
    "version": 2
   },
   "file_extension": ".py",
   "mimetype": "text/x-python",
   "name": "python",
   "nbconvert_exporter": "python",
   "pygments_lexer": "ipython2",
   "version": "2.7.13"
  }
 },
 "nbformat": 4,
 "nbformat_minor": 0
}
