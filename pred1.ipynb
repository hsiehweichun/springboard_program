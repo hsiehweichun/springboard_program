{
 "cells": [
  {
   "cell_type": "code",
   "execution_count": 7,
   "metadata": {
    "collapsed": true
   },
   "outputs": [],
   "source": [
    "import csv\n",
    "import datetime\n",
    "from operator import sub\n",
    "import numpy as np\n",
    "import pandas as pd\n",
    "import xgboost as xgb\n",
    "from sklearn import preprocessing, ensemble\n",
    "import sys\n"
   ]
  },
  {
   "cell_type": "code",
   "execution_count": 2,
   "metadata": {
    "collapsed": true
   },
   "outputs": [],
   "source": [
    "feature_cols = [\"employee_index\",\"country_residence\",\"sex\",\"age\",\"first_join_date\",\"new_customer_index\",\"seniority\",\"primary\",\"customer_type\",\"customer_relation\",\"residence_idx\",\"foreigner_idx\",\"channel\",\"deceased\",\"address\",\"province_code\",\"province_name\",\"activity_idx\",\"gross_income\",\"segment\"]\n",
    "target_cols=[\"saving_account\",\"guarantees\",\"current_account\",\"derivada_account\",\"payroll_account\",\"junior_account\",\"mas_particular_account\",\"particular_account\",\"particular_plus_account\",\"short-term_deposits\",\"medium-term_deposits\",\"long-term_deposits\",\"e-account\",\"funds\",\"mortgage\",\"pensions\",\"loans\",\"taxes\",\"credit_card\",\"securities\",\"home_account\",\"payroll\",\"pensions_1\",\"direct_debit\"]\n",
    "target_cols = target_cols[2:]\n",
    "\n",
    "all_cols = feature_cols+target_cols\n"
   ]
  },
  {
   "cell_type": "code",
   "execution_count": 3,
   "metadata": {
    "collapsed": true
   },
   "outputs": [],
   "source": [
    "def getTarget(row):\n",
    "    tlist = []\n",
    "    for col in target_cols:\n",
    "            if row[col].strip() in ['', 'NA']:\n",
    "                    target = 0\n",
    "            else:\n",
    "                    target = int(float(row[col]))\n",
    "            tlist.append(target)\n",
    "    return tlist\n"
   ]
  },
  {
   "cell_type": "code",
   "execution_count": 4,
   "metadata": {
    "collapsed": false
   },
   "outputs": [],
   "source": [
    "def processData(in_file_name, cust_dict):\n",
    "    x_vars_list = []\n",
    "    y_vars_list = []\n",
    "    for row in csv.DictReader(in_file_name, fieldnames = ( \"date\",\"id\",\"employee_index\",\"country_residence\",\"sex\",\n",
    "                                                          \"age\",\"first_join_date\",\"new_customer_index\",\"seniority\",\n",
    "                                                          \"primary\",\"last_date_primary\",\"customer_type\",\"customer_relation\",\n",
    "                                                          \"residence_idx\",\"foreigner_idx\",\"spouse_idx\",\"channel\",\"deceased\",\n",
    "                                                          \"address\",\"province_code\",\"province_name\",\"activity_idx\",\n",
    "                                                          \"gross_income\",\"segment\",\"saving_account\",\"guarantees\",\n",
    "                                                          \"current_account\",\"derivada_account\",\"payroll_account\",\n",
    "                                                          \"junior_account\",\"mas_particular_account\",\"particular_account\",\n",
    "                                                          \"particular_plus_account\",\"short-term_deposits\",\"medium-term_deposits\",\n",
    "                                                          \"long-term_deposits\",\"e-account\",\"funds\",\"mortgage\",\"pensions\",\"loans\",\n",
    "                                                          \"taxes\",\"credit_card\",\"securities\",\"home_account\",\"payroll\",\n",
    "                                                          \"pensions_1\",\"direct_debit\" )):\n",
    "            # use only the four months as specified by breakfastpirate #\n",
    "            if row['date'] not in ['2015-05-28', '2015-06-28', '2016-05-28', '2016-06-28']:\n",
    "                    continue\n",
    "\n",
    "            cust_id = int(row['id'])\n",
    "            if row['date'] in ['2015-05-28', '2016-05-28']:\n",
    "                    target_list = getTarget(row)\n",
    "                    cust_dict[cust_id] =  target_list[:]\n",
    "                    continue\n",
    "\n",
    "            x_vars = []\n",
    "\n",
    "            for col in feature_cols:\n",
    "                val = row[col].strip()\n",
    "                x_vars.append(val)\n",
    "            #for col in cat_cols:\n",
    "            #       x_vars.append( getIndex(row, col) )\n",
    "            #x_vars.append( getAge(row) )\n",
    "            #x_vars.append( getCustSeniority(row) )\n",
    "            #x_vars.append( getRent(row) )\n",
    "            #x_vars = row\n",
    "            if row['date'] == '2016-06-28':\n",
    "                    prev_target_list = cust_dict.get(cust_id, [0]*22)\n",
    "                    x_vars_list.append(x_vars + prev_target_list)\n",
    "            elif row['date'] == '2015-06-28':\n",
    "                    prev_target_list = cust_dict.get(cust_id, [0]*22)\n",
    "                    target_list = getTarget(row)\n",
    "                    new_products = [max(x1 - x2,0) for (x1, x2) in zip(target_list, prev_target_list)]\n",
    "                    if sum(new_products) > 0:\n",
    "                            for ind, prod in enumerate(new_products):\n",
    "                                    if prod>0:\n",
    "                                            assert len(prev_target_list) == 22\n",
    "                                            x_vars_list.append(x_vars+prev_target_list)\n",
    "                                            y_vars_list.append(ind)\n",
    "\n",
    "    return x_vars_list, y_vars_list, cust_dict\n"
   ]
  },
  {
   "cell_type": "code",
   "execution_count": 5,
   "metadata": {
    "collapsed": true
   },
   "outputs": [],
   "source": [
    "def runXGB(train_X, train_y, seed_val=0):\n",
    "    param = {}\n",
    "    param['objective'] = 'multi:softprob'\n",
    "    param['eta'] = 0.05\n",
    "    param['max_depth'] = 8\n",
    "    param['silent'] = 1\n",
    "    param['num_class'] = 22\n",
    "    param['eval_metric'] = \"mlogloss\"\n",
    "    param['min_child_weight'] = 1\n",
    "    param['subsample'] = 0.7\n",
    "    param['colsample_bytree'] = 0.7\n",
    "    param['seed'] = seed_val\n",
    "    num_rounds = 50\n",
    "\n",
    "    plst = list(param.items())\n",
    "    xgtrain = xgb.DMatrix(train_X, label=train_y)\n",
    "    model = xgb.train(plst, xgtrain, num_rounds)\n",
    "    return model\n"
   ]
  },
  {
   "cell_type": "code",
   "execution_count": 16,
   "metadata": {
    "collapsed": false
   },
   "outputs": [
    {
     "name": "stdout",
     "output_type": "stream",
     "text": [
      "42\n",
      "42\n",
      "182068\n",
      "Index([u'employee_index', u'country_residence', u'sex', u'age',\n",
      "       u'first_join_date', u'new_customer_index', u'seniority', u'primary',\n",
      "       u'customer_type', u'customer_relation', u'residence_idx',\n",
      "       u'foreigner_idx', u'channel', u'deceased', u'address', u'province_code',\n",
      "       u'province_name', u'activity_idx', u'gross_income', u'segment',\n",
      "       u'current_account', u'derivada_account', u'payroll_account',\n",
      "       u'junior_account', u'mas_particular_account', u'particular_account',\n",
      "       u'particular_plus_account', u'short-term_deposits',\n",
      "       u'medium-term_deposits', u'long-term_deposits', u'e-account', u'funds',\n",
      "       u'mortgage', u'pensions', u'loans', u'taxes', u'credit_card',\n",
      "       u'securities', u'home_account', u'payroll', u'pensions_1',\n",
      "       u'direct_debit', u'y'],\n",
      "      dtype='object')\n",
      "182068\n",
      "weichun exiting\n"
     ]
    }
   ],
   "source": [
    "if __name__ == \"__main__\":\n",
    "    start_time = datetime.datetime.now()\n",
    "    data_path = \"./input/\"\n",
    "    print(len(all_cols))\n",
    "    #train_file =  open(data_path + \"train_ver2.csv\")\n",
    "    train_file =  open(data_path + \"train_20percent.csv\")\n",
    "    x_vars_list, y_vars_list, cust_dict = processData(train_file, {})\n",
    "    print(len(x_vars_list[1]))\n",
    "    #print(len(x_vars_list))\n",
    "    #train_X = np.array(x_vars_list)\n",
    "    #train_y = np.array(y_vars_list)\n",
    "\n",
    "    df = pd.DataFrame.from_records(x_vars_list, columns=all_cols)\n",
    "    print(len(df))\n",
    "    \n",
    "    df['y']=y_vars_list\n",
    "    print(df.columns)\n",
    "    df['age']   = pd.to_numeric(df['age'], errors='coerce')\n",
    "    df['seniority']   = pd.to_numeric(df['seniority'], errors='coerce')\n",
    "    ##df = df[df['seniority']>0]\n",
    "    ##df.dropna(axis=0)\n",
    "    #df.dropna()\n",
    "    print(len(df))\n",
    "    condition=~pd.isnull(df).any(axis=1)\n",
    "    df=df[condition]\n",
    "#     for ind, feature_col in enumerate(feature_cols):\n",
    "#         uniq_values = list(df[feature_col].unique())\n",
    "#         print(\"WEICHUN checked:\",feature_col,len(uniq_values))\n",
    "#         for i in range(len(uniq_values)):\n",
    "#             print(feature_col,uniq_values[i])\n",
    "    #print(len(x_vars_list),len(y_vars_list))\n",
    "    #print(train_X.shape,train_y.shape)\n",
    "\n",
    "    from sklearn import preprocessing\n",
    "    le = preprocessing.LabelEncoder()\n",
    "    feature_category_cols = feature_cols\n",
    "    for ind, feature_col in enumerate(feature_category_cols):\n",
    "        le.fit(df[feature_col])\n",
    "        df[feature_col]=le.transform(df[feature_col])\n",
    "    print(\"weichun exiting\")\n"
   ]
  },
  {
   "cell_type": "code",
   "execution_count": 17,
   "metadata": {
    "collapsed": false
   },
   "outputs": [
    {
     "name": "stdout",
     "output_type": "stream",
     "text": [
      "181792\n"
     ]
    }
   ],
   "source": [
    "print(len(df))"
   ]
  },
  {
   "cell_type": "code",
   "execution_count": 18,
   "metadata": {
    "collapsed": false
   },
   "outputs": [],
   "source": [
    "df_y = df['y']"
   ]
  },
  {
   "cell_type": "code",
   "execution_count": 20,
   "metadata": {
    "collapsed": false
   },
   "outputs": [
    {
     "data": {
      "text/plain": [
       "181792"
      ]
     },
     "execution_count": 20,
     "metadata": {},
     "output_type": "execute_result"
    }
   ],
   "source": [
    "len(df_y)"
   ]
  },
  {
   "cell_type": "code",
   "execution_count": null,
   "metadata": {
    "collapsed": true
   },
   "outputs": [],
   "source": []
  },
  {
   "cell_type": "code",
   "execution_count": 16,
   "metadata": {
    "collapsed": false
   },
   "outputs": [
    {
     "name": "stdout",
     "output_type": "stream",
     "text": [
      "[ 0  1  2  3  4  5  6  7  8  9 10 11 12 13 14 15 16 17 18 19 20 21]\n"
     ]
    }
   ],
   "source": [
    "#     sys.exit()\n",
    "print(np.unique(train_y))\n",
    "# del x_vars_list, y_vars_list\n",
    "# train_file.close()\n",
    "# print(train_X.shape, train_y.shape)\n",
    "# print(datetime.datetime.now()-start_time)\n",
    "test_file = open(data_path + \"test_ver2.csv\")\n",
    "\n",
    "\n",
    "x_vars_list, y_vars_list, cust_dict = processData(test_file, cust_dict)\n",
    "test_X = np.array(x_vars_list)\n",
    "print(\"wei\")\n",
    "print x_vars_list\n",
    "sys.exit()\n",
    "del x_vars_list\n",
    "test_file.close()\n",
    "print(test_X.shape)\n",
    "print(datetime.datetime.now()-start_time)\n",
    "\n",
    "print(\"Building model..\")\n",
    "model = runXGB(train_X, train_y, seed_val=0)\n",
    "del train_X, train_y\n",
    "print(\"Predicting..\")\n",
    "xgtest = xgb.DMatrix(test_X)\n",
    "preds = model.predict(xgtest)\n",
    "del test_X, xgtest\n",
    "print(datetime.datetime.now()-start_time)\n",
    "\n",
    "print(\"Getting the top products..\")\n",
    "target_cols = np.array(target_cols)\n",
    "preds = np.argsort(preds, axis=1)\n",
    "preds = np.fliplr(preds)[:,:7]\n",
    "test_id = np.array(pd.read_csv(data_path + \"test_ver2.csv\", usecols=['ncodpers'])['ncodpers'])\n",
    "final_preds = [\" \".join(list(target_cols[pred])) for pred in preds]\n",
    "\n"
   ]
  },
  {
   "cell_type": "code",
   "execution_count": null,
   "metadata": {
    "collapsed": false
   },
   "outputs": [],
   "source": [
    "x_vars_list"
   ]
  },
  {
   "cell_type": "code",
   "execution_count": null,
   "metadata": {
    "collapsed": false
   },
   "outputs": [],
   "source": [
    "1453*0.8"
   ]
  }
 ],
 "metadata": {
  "kernelspec": {
   "display_name": "Python 2",
   "language": "python",
   "name": "python2"
  },
  "language_info": {
   "codemirror_mode": {
    "name": "ipython",
    "version": 2
   },
   "file_extension": ".py",
   "mimetype": "text/x-python",
   "name": "python",
   "nbconvert_exporter": "python",
   "pygments_lexer": "ipython2",
   "version": "2.7.13"
  }
 },
 "nbformat": 4,
 "nbformat_minor": 2
}
